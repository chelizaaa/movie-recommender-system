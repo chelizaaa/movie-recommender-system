{
  "nbformat": 4,
  "nbformat_minor": 0,
  "metadata": {
    "colab": {
      "provenance": [],
      "collapsed_sections": []
    },
    "kernelspec": {
      "name": "python3",
      "display_name": "Python 3"
    },
    "language_info": {
      "name": "python"
    },
    "accelerator": "GPU"
  },
  "cells": [
    {
      "cell_type": "markdown",
      "source": [
        "# **Proyek Akhir Sistem Rekomendasi**"
      ],
      "metadata": {
        "id": "Vz7catD5AhrH"
      }
    },
    {
      "cell_type": "markdown",
      "source": [
        "Nama : Cheliza Sriayu Simarsoit  \n",
        "E-mail : chelizasriayusimarsoit@gmail.com"
      ],
      "metadata": {
        "id": "lwZZLfzVAzW3"
      }
    },
    {
      "cell_type": "markdown",
      "source": [
        "# **1. Data Loading**"
      ],
      "metadata": {
        "id": "XtQ1bLRNBDCP"
      }
    },
    {
      "cell_type": "markdown",
      "source": [
        "## 1.1 Kredensial Akun Kaggle"
      ],
      "metadata": {
        "id": "6z14DW1SBOAy"
      }
    },
    {
      "cell_type": "markdown",
      "source": [
        "Pengaturan Kaggle Username dan Kaggle Key menggunakan library os untuk menghubungkan Kaggle dan Google Colab."
      ],
      "metadata": {
        "id": "-pQsmi4RBW6f"
      }
    },
    {
      "cell_type": "markdown",
      "source": [
        "Dataset: [Movie Rating Dataset](https://www.kaggle.com/datasets/gargmanas/movierecommenderdataset)"
      ],
      "metadata": {
        "id": "PO-E-x0m4rq6"
      }
    },
    {
      "cell_type": "code",
      "execution_count": null,
      "metadata": {
        "id": "nos-04O2MXko"
      },
      "outputs": [],
      "source": [
        "import os\n",
        "os.environ['KAGGLE_USERNAME'] = 'chelizasriayu'\n",
        "os.environ['KAGGLE_KEY'] = '89f42eb9dc5758b888995e5c2d0e16c5'"
      ]
    },
    {
      "cell_type": "markdown",
      "source": [
        "## 1.2 Download Dataset"
      ],
      "metadata": {
        "id": "V8ob4iJmBdRI"
      }
    },
    {
      "cell_type": "markdown",
      "source": [
        "Dataset yang digunakan adalah Movie Recommender System Dataset yang diambil dari platform Kaggle. File yang digunakan berupa file csv, yaitu `movies.csv` dan `ratings.csv`.\n",
        "\n"
      ],
      "metadata": {
        "id": "W2pcvLARBhyU"
      }
    },
    {
      "cell_type": "code",
      "source": [
        "!kaggle datasets download -d gargmanas/movierecommenderdataset"
      ],
      "metadata": {
        "colab": {
          "base_uri": "https://localhost:8080/"
        },
        "id": "D-9ClnghOXUO",
        "outputId": "399278d3-d6d2-45ac-c891-342aeaca39f6"
      },
      "execution_count": null,
      "outputs": [
        {
          "output_type": "stream",
          "name": "stdout",
          "text": [
            "Downloading movierecommenderdataset.zip to /content\n",
            "\r  0% 0.00/846k [00:00<?, ?B/s]\n",
            "\r100% 846k/846k [00:00<00:00, 136MB/s]\n"
          ]
        }
      ]
    },
    {
      "cell_type": "code",
      "source": [
        "!unzip /content/movierecommenderdataset.zip"
      ],
      "metadata": {
        "colab": {
          "base_uri": "https://localhost:8080/"
        },
        "id": "0BO46TedOwgv",
        "outputId": "c9289d6d-0def-4b17-9988-f767770e2e58"
      },
      "execution_count": null,
      "outputs": [
        {
          "output_type": "stream",
          "name": "stdout",
          "text": [
            "Archive:  /content/movierecommenderdataset.zip\n",
            "  inflating: movies.csv              \n",
            "  inflating: ratings.csv             \n"
          ]
        }
      ]
    },
    {
      "cell_type": "markdown",
      "source": [
        "# **2. Data Understanding**"
      ],
      "metadata": {
        "id": "UdN6nhq4C_DN"
      }
    },
    {
      "cell_type": "markdown",
      "source": [
        "## 2.1 Jumlah Data dari Masing-masing Dataset"
      ],
      "metadata": {
        "id": "ifur2SDfDJH7"
      }
    },
    {
      "cell_type": "markdown",
      "source": [
        "Membaca masing-masing dataset yaitu `movies.csv` dan `ratings.csv` menggunakan library pandas dari format .csv menjadi dataframe."
      ],
      "metadata": {
        "id": "jxjET7_MEHGB"
      }
    },
    {
      "cell_type": "code",
      "source": [
        "import pandas as pd\n",
        " \n",
        "movies = pd.read_csv('/content/movies.csv')\n",
        "ratings = pd.read_csv('/content/ratings.csv')\n",
        " \n",
        "print('Jumlah data movies: ', len(movies.movieId.unique()))\n",
        "print('Jumlah data ratings: ', len(ratings.userId.unique()))"
      ],
      "metadata": {
        "colab": {
          "base_uri": "https://localhost:8080/"
        },
        "id": "vV_p9qCIO9-g",
        "outputId": "fb52b238-75d1-419a-8754-1c0ed4d68904"
      },
      "execution_count": null,
      "outputs": [
        {
          "output_type": "stream",
          "name": "stdout",
          "text": [
            "Jumlah data movies:  9742\n",
            "Jumlah data ratings:  610\n"
          ]
        }
      ]
    },
    {
      "cell_type": "markdown",
      "source": [
        "## 2.2 Univariate Exploratory Data Analysis (EDA)"
      ],
      "metadata": {
        "id": "Ru9TfcbvEpv2"
      }
    },
    {
      "cell_type": "markdown",
      "source": [
        "Exploratory data analysis (EDA) merupakan proses investigasi awal pada data untuk menganalisis karakteristik, menemukan pola, anomali, dan memeriksa asumsi pada data."
      ],
      "metadata": {
        "id": "0oRhvADPE4Hx"
      }
    },
    {
      "cell_type": "markdown",
      "source": [
        "### 2.2.1 Dataset Movies"
      ],
      "metadata": {
        "id": "hV7M9a6aFC9V"
      }
    },
    {
      "cell_type": "markdown",
      "source": [
        "Pengecekan informasi variabel dari dataset movies yaitu jumlah kolom, nama kolom, jumlah data per kolom dan tipe datanya."
      ],
      "metadata": {
        "id": "0j0tpLk3FKZ2"
      }
    },
    {
      "cell_type": "code",
      "source": [
        "movies.info()"
      ],
      "metadata": {
        "colab": {
          "base_uri": "https://localhost:8080/"
        },
        "id": "_lzCC_C8P9dE",
        "outputId": "3d946255-ea5a-49ec-af4c-316cbac7bee1"
      },
      "execution_count": null,
      "outputs": [
        {
          "output_type": "stream",
          "name": "stdout",
          "text": [
            "<class 'pandas.core.frame.DataFrame'>\n",
            "RangeIndex: 9742 entries, 0 to 9741\n",
            "Data columns (total 3 columns):\n",
            " #   Column   Non-Null Count  Dtype \n",
            "---  ------   --------------  ----- \n",
            " 0   movieId  9742 non-null   int64 \n",
            " 1   title    9742 non-null   object\n",
            " 2   genres   9742 non-null   object\n",
            "dtypes: int64(1), object(2)\n",
            "memory usage: 228.5+ KB\n"
          ]
        }
      ]
    },
    {
      "cell_type": "markdown",
      "source": [
        "Menampilkan banyaknya data movies dan genrenya."
      ],
      "metadata": {
        "id": "XlSUzCNZFW8A"
      }
    },
    {
      "cell_type": "code",
      "source": [
        "print('Banyak data: ', len(movies.movieId.unique()))\n",
        "print('Genre: ', movies.genres.unique())"
      ],
      "metadata": {
        "colab": {
          "base_uri": "https://localhost:8080/"
        },
        "id": "FaGR2g-xQfaG",
        "outputId": "2a2f2dac-b939-4c39-923e-59712328f263"
      },
      "execution_count": null,
      "outputs": [
        {
          "output_type": "stream",
          "name": "stdout",
          "text": [
            "Banyak data:  9742\n",
            "Genre:  ['Adventure|Animation|Children|Comedy|Fantasy'\n",
            " 'Adventure|Children|Fantasy' 'Comedy|Romance' 'Comedy|Drama|Romance'\n",
            " 'Comedy' 'Action|Crime|Thriller' 'Adventure|Children' 'Action'\n",
            " 'Action|Adventure|Thriller' 'Comedy|Horror'\n",
            " 'Adventure|Animation|Children' 'Drama' 'Action|Adventure|Romance'\n",
            " 'Crime|Drama' 'Drama|Romance' 'Action|Comedy|Crime|Drama|Thriller'\n",
            " 'Comedy|Crime|Thriller' 'Crime|Drama|Horror|Mystery|Thriller'\n",
            " 'Drama|Sci-Fi' 'Children|Drama' 'Adventure|Drama|Fantasy|Mystery|Sci-Fi'\n",
            " 'Mystery|Sci-Fi|Thriller' 'Children|Comedy' 'Drama|War'\n",
            " 'Action|Crime|Drama' 'Action|Adventure|Fantasy' 'Comedy|Drama|Thriller'\n",
            " 'Mystery|Thriller' 'Animation|Children|Drama|Musical|Romance'\n",
            " 'Crime|Mystery|Thriller' 'Adventure|Drama' 'Drama|Thriller'\n",
            " 'Comedy|Crime' 'Action|Sci-Fi|Thriller' 'Action|Comedy|Horror|Thriller'\n",
            " 'Comedy|Drama' 'Documentary' 'Action|Crime|Drama|Thriller'\n",
            " 'Crime|Drama|Romance' 'Action|Adventure|Drama' 'Action|Thriller'\n",
            " 'Drama|Horror|Thriller' 'Comedy|Horror|Romance'\n",
            " 'Adventure|Comedy|Crime|Romance' 'Adventure|Children|Comedy|Musical'\n",
            " 'Action|Drama|War' 'Crime|Drama|Thriller' 'Action|Adventure|Comedy|Crime'\n",
            " 'Drama|Mystery' 'Drama|Mystery|Romance' 'Thriller' 'Adventure|Drama|IMAX'\n",
            " 'Action|Drama|Romance|War' 'Drama|Horror' 'Adventure|Drama|War'\n",
            " 'Comedy|War' 'Crime|Drama|Mystery' 'Action|Adventure|Mystery|Sci-Fi'\n",
            " 'Drama|Thriller|War' 'Action|Romance|Western'\n",
            " 'Crime|Film-Noir|Mystery|Thriller' 'Comedy|Crime|Drama'\n",
            " 'Action|Drama|Romance' 'Adventure|Children|Drama'\n",
            " 'Action|Adventure|Crime|Thriller' 'Action|Crime|Sci-Fi' 'Horror'\n",
            " 'Action|Children' 'Comedy|Horror|Thriller' 'Fantasy|Horror|Mystery'\n",
            " 'Comedy|Fantasy' 'Horror|Sci-Fi'\n",
            " 'Action|Crime|Drama|Mystery|Sci-Fi|Thriller' 'Drama|Musical|Romance'\n",
            " 'Drama|Fantasy' 'Action|Adventure|Sci-Fi' 'Western'\n",
            " 'Adventure|Comedy|Crime|Mystery' 'Adventure|Comedy'\n",
            " 'Action|Comedy|Romance' 'Animation|Children|Comedy|Romance'\n",
            " 'Drama|Musical' 'Children|Comedy|Fantasy' 'Comedy|Sci-Fi'\n",
            " 'Adventure|Children|Comedy|Fantasy|Romance' 'Drama|Fantasy|Romance'\n",
            " 'Drama|Romance|War|Western' 'Drama|Horror|Sci-Fi' 'Action|Crime'\n",
            " 'Action|Drama|Sci-Fi|Thriller' 'Comedy|Crime|Drama|Thriller'\n",
            " 'Action|Thriller|Western' 'Horror|Thriller' 'Animation|Children'\n",
            " 'Children|Drama|Fantasy|Mystery' 'Action|Drama|Thriller'\n",
            " 'Comedy|Drama|Fantasy' 'Film-Noir|Thriller' 'Action|Comedy|Sci-Fi'\n",
            " 'Adventure|Drama|Sci-Fi' 'Action|Crime|Horror' 'Children'\n",
            " 'Drama|Film-Noir|Romance' 'Drama|Mystery|Thriller'\n",
            " 'Action|Crime|Fantasy|Thriller' 'Comedy|Drama|Romance|War'\n",
            " 'Action|Comedy' 'Adventure|Children|Romance'\n",
            " 'Adventure|Animation|Children|Drama|Musical|IMAX'\n",
            " 'Drama|Horror|Mystery|Thriller' 'Action|Comedy|Crime|Fantasy'\n",
            " 'Adventure|Comedy|Western' 'Action|Romance|Thriller'\n",
            " 'Action|Adventure|Comedy|Romance|Thriller'\n",
            " 'Drama|Horror|Romance|Thriller' 'Drama|Romance|War' 'Action|Fantasy'\n",
            " 'Comedy|Thriller' 'Action|Comedy|Crime|Thriller' 'Horror|Sci-Fi|Thriller'\n",
            " 'Drama|Mystery|Romance|Thriller' 'Action|Comedy|Drama' 'Drama|Western'\n",
            " 'Action|Adventure|Crime|Drama|Romance|Thriller' 'Action|Comedy|War'\n",
            " 'Action|Adventure|Sci-Fi|Thriller' 'Action|Adventure|Comedy|Fantasy'\n",
            " 'Comedy|Western' 'Comedy|Mystery' 'Comedy|Drama|Romance|Thriller'\n",
            " 'Action|Children|Romance' 'Action|Drama|Sci-Fi' 'Action|Drama'\n",
            " 'Comedy|Mystery|Romance' 'Action|Drama|Mystery'\n",
            " 'Action|Crime|Drama|Sci-Fi|Thriller' 'Crime|Thriller'\n",
            " 'Comedy|Crime|Horror' 'Action|Adventure|Fantasy|Mystery'\n",
            " 'Comedy|Romance|Thriller'\n",
            " 'Action|Adventure|Children|Comedy|Fantasy|Sci-Fi'\n",
            " 'Action|Mystery|Thriller' 'Animation|Children|Fantasy|Musical'\n",
            " 'Action|Adventure|Comedy|Romance' 'Action|Drama|Western'\n",
            " 'Action|Adventure|Animation|Children|Fantasy'\n",
            " 'Comedy|Drama|Fantasy|Romance|Thriller'\n",
            " 'Adventure|Animation|Children|Comedy|Musical' 'Action|Sci-Fi'\n",
            " 'Adventure|Drama|Western' 'Crime|Horror|Thriller'\n",
            " 'Animation|Children|Drama|Fantasy|Musical'\n",
            " 'Animation|Children|Fantasy|Musical|Romance|IMAX' 'Adventure|Western'\n",
            " 'Action|Comedy|Crime' 'Fantasy|Horror'\n",
            " 'Action|Adventure|Animation|Horror|Sci-Fi' 'Action|Horror|Sci-Fi'\n",
            " 'Crime|Drama|Mystery|Thriller'\n",
            " 'Adventure|Animation|Children|Fantasy|Musical|Romance' 'Romance'\n",
            " 'Action|Crime|Drama|War' 'Action|Adventure|Mystery|Thriller'\n",
            " 'Adventure|Animation|Children|Fantasy|Musical' 'Comedy|Drama|War'\n",
            " 'Adventure|Animation|Children|Comedy|Fantasy|Sci-Fi'\n",
            " 'Adventure|Comedy|Sci-Fi' 'Drama|Mystery|Romance|Sci-Fi|Thriller'\n",
            " 'Action|Adventure|Comedy|War' 'Action|Adventure' 'Drama|Mystery|Western'\n",
            " 'Comedy|Fantasy|Sci-Fi' 'Adventure|Animation|Comedy'\n",
            " 'Drama|Fantasy|Horror|Thriller' 'Action|Adventure|Romance|Thriller'\n",
            " 'Animation|Sci-Fi' 'Animation|Children|Comedy' 'Horror|Mystery'\n",
            " 'Comedy|Fantasy|Romance|Sci-Fi' 'Action|Adventure|Drama|Thriller'\n",
            " 'Comedy|Fantasy|Musical' 'Crime|Drama|Romance|Thriller'\n",
            " 'Crime|Drama|Musical|Thriller' 'Sci-Fi|Thriller' 'Children|Drama|Fantasy'\n",
            " 'Adventure|Animation|Children|Musical' 'Adventure|Drama|Romance|War'\n",
            " 'Comedy|Musical|Romance' 'Musical|Romance' 'Comedy|Musical'\n",
            " 'Action|Adventure|Mystery|Romance|Thriller'\n",
            " 'Comedy|Crime|Mystery|Romance|Thriller' 'Film-Noir|Mystery'\n",
            " 'Comedy|Drama|Musical|Romance' 'Musical'\n",
            " 'Adventure|Children|Fantasy|Musical' 'Drama|Film-Noir|Mystery|Thriller'\n",
            " 'Film-Noir|Romance|Thriller' 'Mystery|Romance|Thriller'\n",
            " 'Crime|Mystery|Romance|Thriller' 'Adventure' 'Crime|Film-Noir|Mystery'\n",
            " 'Drama|Romance|Western' 'Children|Drama|Fantasy|Romance'\n",
            " 'Adventure|Comedy|Romance|War' 'Adventure|Comedy|Crime|Drama|Romance'\n",
            " 'Romance|War' 'Crime|Film-Noir' 'Children|Comedy|Western'\n",
            " 'Children|Comedy|Fantasy|Romance' 'Children|Comedy|Romance'\n",
            " 'Children|Comedy|Drama' 'Children|Comedy|Mystery'\n",
            " 'Animation|Children|Fantasy|Musical|Romance' 'Animation|Children|Musical'\n",
            " 'Children|Comedy|Fantasy|Musical' 'Animation|Children|Drama|Musical'\n",
            " 'Adventure|Children|Musical' 'Animation|Children|Drama'\n",
            " 'Action|Horror|Sci-Fi|Thriller' 'Documentary|Drama'\n",
            " 'Animation|Children|Comedy|Fantasy|Musical|Romance'\n",
            " 'Drama|Romance|Thriller' 'Children|Drama|Sci-Fi' 'Action|Romance'\n",
            " 'Adventure|Comedy|Fantasy' 'Animation|Children|Comedy|Crime'\n",
            " 'Animation|Comedy|Drama|Fantasy' 'Crime|Drama|Film-Noir'\n",
            " 'Documentary|Musical' 'Action|Adventure|Comedy|Fantasy|Romance'\n",
            " 'Fantasy|Sci-Fi' 'Action|Adventure|Horror|Sci-Fi'\n",
            " 'Action|Adventure|Western' 'Crime|Drama|Sci-Fi|Thriller'\n",
            " 'Film-Noir|Mystery|Thriller' 'Action|Adventure|Comedy|Fantasy|Horror'\n",
            " 'Adventure|Drama|Romance' 'Crime|Horror' 'Action|Comedy|Musical'\n",
            " 'Adventure|Animation|Children|Comedy|Sci-Fi' 'Drama|Mystery|Sci-Fi'\n",
            " 'Comedy|Fantasy|Horror' 'Crime|Drama|Film-Noir|Thriller'\n",
            " 'Crime|Film-Noir|Thriller' 'Action|Crime|Romance|Thriller'\n",
            " 'Drama|Sci-Fi|Thriller' 'Action|Adventure|Drama|Western'\n",
            " 'Comedy|Horror|Sci-Fi' 'Comedy|Musical|War'\n",
            " 'Action|Comedy|Fantasy|Horror' 'Action|Adventure|Drama|War'\n",
            " 'Action|Drama|Mystery|Romance|Thriller' 'Comedy|Fantasy|Romance'\n",
            " 'Crime|Thriller|War' 'Comedy|Mystery|Thriller' 'Comedy|Drama|Film-Noir'\n",
            " 'Action|Adventure|Animation|Sci-Fi' 'Action|Western'\n",
            " 'Fantasy|Horror|Romance|Thriller' 'Drama|Fantasy|Horror'\n",
            " 'Horror|Mystery|Thriller' 'Adventure|Children|Comedy' 'Adventure|Sci-Fi'\n",
            " 'Action|Mystery|Sci-Fi' 'Action|Comedy|Western' 'Action|Horror'\n",
            " 'Action|Comedy|Crime|Drama|Sci-Fi' 'Adventure|Animation|Comedy|Crime'\n",
            " 'Comedy|Horror|Mystery|Thriller' 'Action|Romance|War|Western'\n",
            " 'Comedy|Drama|Fantasy|Romance' 'Action|Adventure|Comedy|Thriller' 'Crime'\n",
            " 'Crime|Drama|Fantasy|Film-Noir|Mystery|Romance'\n",
            " 'Action|Comedy|Crime|Drama' 'Action|Romance|Sci-Fi|Thriller'\n",
            " 'Comedy|Drama|Mystery|Romance' 'Action|Adventure|Children'\n",
            " 'Comedy|Crime|Romance' 'Action|Adventure|Comedy'\n",
            " 'Action|Adventure|Comedy|Sci-Fi' 'Action|Adventure|Fantasy|Thriller'\n",
            " 'Children|Fantasy' 'Adventure|Romance' 'Action|Thriller|War'\n",
            " 'Children|Comedy|Romance|Sci-Fi' 'Romance|Thriller' 'Comedy|Drama|Sci-Fi'\n",
            " 'Adventure|Animation|Children|Drama|Musical'\n",
            " 'Action|Adventure|Drama|Sci-Fi' 'Action|Children|Comedy'\n",
            " 'Adventure|Film-Noir|Sci-Fi|Thriller' 'Crime|Drama|Fantasy|Thriller'\n",
            " 'Crime|Romance|Thriller' 'Crime|Drama|Mystery|Romance|Thriller'\n",
            " 'Documentary|IMAX' 'Comedy|Crime|Drama|Mystery|Thriller'\n",
            " 'Comedy|Documentary' 'Adventure|Children|Comedy|Fantasy'\n",
            " 'Crime|Drama|Romance|War' 'Adventure|Comedy|Drama'\n",
            " 'Adventure|Comedy|Romance'\n",
            " 'Adventure|Animation|Children|Comedy|Drama|Musical|Romance'\n",
            " 'Action|Crime|Mystery|Sci-Fi|Thriller'\n",
            " 'Comedy|Crime|Drama|Romance|Thriller' 'Animation|Children|Fantasy|War'\n",
            " 'Comedy|Drama|Musical' 'Adventure|Fantasy|Musical'\n",
            " 'Action|Adventure|Children|Comedy|Fantasy'\n",
            " 'Drama|Mystery|Sci-Fi|Thriller' 'Adventure|Comedy|Sci-Fi|Western'\n",
            " 'Children|Fantasy|Musical' 'Adventure|Animation|Children|Fantasy'\n",
            " 'Children|Sci-Fi' 'Children|Comedy|Sci-Fi'\n",
            " 'Action|Adventure|Children|Comedy' 'Adventure|Children|Sci-Fi'\n",
            " 'Action|Animation|Children|Crime' 'Children|Comedy|Fantasy|Horror'\n",
            " 'Adventure|Children|Comedy|Fantasy|Sci-Fi'\n",
            " 'Action|Crime|Drama|Mystery|Thriller' 'Film-Noir' 'Drama|Fantasy|Mystery'\n",
            " 'Animation|Children|Comedy|Musical'\n",
            " 'Animation|Children|Comedy|Musical|Romance' 'Children|Comedy|Musical'\n",
            " 'Children|Musical' 'Adventure|Comedy|Musical'\n",
            " 'Adventure|Animation|Children|Crime|Drama'\n",
            " 'Children|Drama|Fantasy|Mystery|Thriller'\n",
            " 'Adventure|Children|Fantasy|Western'\n",
            " 'Animation|Children|Comedy|Drama|Fantasy' 'Action|Crime|Mystery|Thriller'\n",
            " 'Adventure|Animation|Children|Drama|Fantasy'\n",
            " 'Adventure|Animation|Children|Drama' 'Adventure|Fantasy'\n",
            " 'Adventure|Animation|Children|Comedy'\n",
            " 'Adventure|Animation|Children|Musical|Western'\n",
            " 'Adventure|Fantasy|Romance' 'Adventure|Drama|Fantasy'\n",
            " 'Action|Comedy|Drama|Horror' 'Action|Horror|Thriller'\n",
            " 'Drama|Film-Noir|Thriller' 'Adventure|Drama|Mystery|Thriller'\n",
            " 'Horror|Mystery|Sci-Fi|Thriller' 'Drama|Fantasy|Thriller'\n",
            " 'Adventure|Drama|Fantasy|Romance' 'Sci-Fi'\n",
            " 'Drama|Fantasy|Mystery|Romance' 'Action|Sci-Fi|War'\n",
            " 'Fantasy|Horror|Thriller' 'Horror|Western'\n",
            " 'Action|Adventure|Fantasy|Horror'\n",
            " 'Adventure|Fantasy|Romance|Sci-Fi|Thriller' 'Comedy|Crime|Mystery'\n",
            " 'Action|Drama|Romance|Sci-Fi' 'Animation|Musical'\n",
            " 'Action|Adventure|Thriller|War' 'Comedy|Crime|Mystery|Thriller'\n",
            " 'Action|Adventure|Children|Fantasy|Mystery|Thriller'\n",
            " 'Action|Adventure|Children|Drama'\n",
            " 'Action|Adventure|Drama|Fantasy|Thriller' 'Horror|Mystery|Sci-Fi'\n",
            " 'Drama|Horror|Sci-Fi|Thriller' 'Action|Comedy|Romance|Thriller'\n",
            " 'Action|War' 'Adventure|Comedy|Thriller' 'Action|Sci-Fi|Thriller|Western'\n",
            " 'Drama|Romance|Sci-Fi|Thriller' 'Drama|Film-Noir'\n",
            " 'Action|Adventure|Comedy|Fantasy|Horror|Thriller'\n",
            " 'Action|Adventure|Crime|Sci-Fi|Thriller' 'Adventure|Drama|Mystery'\n",
            " 'Horror|Romance' 'Comedy|Horror|Musical|Sci-Fi' 'War'\n",
            " 'Comedy|Romance|Sci-Fi' 'Animation|Comedy|Musical'\n",
            " 'Action|Comedy|Sci-Fi|Western' 'Action|Comedy|Fantasy'\n",
            " 'Adventure|Drama|Thriller' 'Action|Adventure|Comedy|Fantasy|Mystery'\n",
            " 'Comedy|Horror|Musical' 'Adventure|Animation|Children|Drama|Sci-Fi'\n",
            " 'Drama|Horror|Mystery' 'Action|Mystery' 'Comedy|Horror|Romance|Thriller'\n",
            " 'Action|Drama|Romance|Thriller' 'Animation|Horror|Mystery|Thriller'\n",
            " 'Adventure|Children|Comedy|Drama' 'Adventure|Sci-Fi|Thriller'\n",
            " 'Adventure|Animation|Comedy|Fantasy|Musical' 'Animation|Children|Fantasy'\n",
            " 'Action|Adventure|Comedy|Drama|War' 'Crime|Drama|Western'\n",
            " 'Comedy|Crime|Drama|Fantasy' 'Drama|Film-Noir|Mystery|Romance'\n",
            " 'Musical|Romance|War' 'Adventure|Comedy|Fantasy|Sci-Fi'\n",
            " 'Drama|Fantasy|Musical' 'Action|Crime|Sci-Fi|Thriller'\n",
            " 'Adventure|Animation|Children|Comedy|Crime|Fantasy|Mystery'\n",
            " 'Action|Adventure|Animation|Drama|Fantasy'\n",
            " 'Adventure|Animation|Children|Fantasy|Sci-Fi'\n",
            " 'Fantasy|Horror|Mystery|Romance' 'Action|Fantasy|Horror|Mystery|Thriller'\n",
            " 'Drama|Romance|Sci-Fi' 'Animation|Children|Musical|IMAX'\n",
            " 'Action|Comedy|Horror' 'Action|Crime|Thriller|Western'\n",
            " 'Fantasy|Horror|Mystery|Thriller' 'Romance|Western'\n",
            " 'Adventure|Crime|Drama|Romance' 'Adventure|Crime|Drama'\n",
            " 'Animation|Comedy' 'Action|Children|Comedy|Fantasy|Sci-Fi'\n",
            " 'Action|Children|Fantasy' 'Action|Adventure|Drama|Thriller|Western'\n",
            " 'Crime|Horror|Mystery|Thriller' 'Action|Adventure|Comedy|Western'\n",
            " 'Action|Drama|Thriller|Western' 'Adventure|Animation|Fantasy|Sci-Fi'\n",
            " 'Comedy|Horror|Sci-Fi|Thriller' 'Adventure|Drama|Romance|Sci-Fi'\n",
            " 'Film-Noir|Horror|Mystery|Thriller'\n",
            " 'Action|Adventure|Animation|Children|Sci-Fi'\n",
            " 'Action|Fantasy|Horror|Sci-Fi|Thriller' 'Action|Comedy|Crime|Romance'\n",
            " 'Adventure|Horror|Sci-Fi' 'Adventure|Animation|Children|Sci-Fi'\n",
            " 'Adventure|Comedy|Crime' 'Action|Drama|War|Western'\n",
            " 'Action|Crime|Mystery|Romance|Thriller' 'Romance|Sci-Fi'\n",
            " 'Fantasy|Romance' 'Action|Adventure|Fantasy|Sci-Fi'\n",
            " 'Adventure|Comedy|Horror' 'Animation|Comedy|Fantasy'\n",
            " 'Action|Adventure|War' 'Action|Crime|Drama|Horror|Thriller'\n",
            " 'Crime|Mystery' 'Adventure|Comedy|Mystery|Romance'\n",
            " 'Adventure|Animation|Children|Comedy|Fantasy|Romance'\n",
            " 'Adventure|War|Western' 'Comedy|Drama|Mystery|Thriller'\n",
            " 'Comedy|Drama|Romance|Western' 'Action|Comedy|Sci-Fi|Thriller'\n",
            " 'Adventure|Documentary|IMAX' 'Animation|Drama|Sci-Fi|IMAX'\n",
            " 'Action|Comedy|Horror|Sci-Fi' 'Comedy|Musical|Sci-Fi'\n",
            " 'Drama|Musical|Mystery' 'Crime|Musical' 'Comedy|Musical|Western'\n",
            " 'Action|Animation|Comedy|Crime|Drama|Romance|Thriller'\n",
            " 'Action|Adventure|Drama|Romance' 'Comedy|Fantasy|Horror|Musical|Thriller'\n",
            " 'Crime|Horror|Mystery' 'Action|Adventure|Drama|Romance|Thriller'\n",
            " 'Action|Comedy|Romance|War' 'Action|Adventure|Comedy|Drama'\n",
            " 'Adventure|Thriller' 'Crime|Drama|Film-Noir|Mystery|Thriller'\n",
            " 'Action|Animation|Sci-Fi' 'Animation|Drama|Fantasy'\n",
            " 'Drama|Fantasy|Mystery|Sci-Fi' 'Drama|Fantasy|Horror|Thriller|War'\n",
            " 'Fantasy|Mystery|Thriller'\n",
            " 'Action|Adventure|Comedy|Drama|Romance|Thriller'\n",
            " 'Mystery|Romance|Sci-Fi|Thriller' 'Adventure|Crime|Drama|Thriller'\n",
            " 'Comedy|Drama|Mystery' 'Animation|Fantasy'\n",
            " 'Drama|Fantasy|Horror|Mystery|Thriller'\n",
            " 'Drama|Fantasy|Mystery|Romance|Thriller'\n",
            " 'Animation|Fantasy|Horror|Sci-Fi' 'Documentary|War'\n",
            " 'Children|Horror|Mystery|Thriller' 'Musical|Western'\n",
            " 'Action|Adventure|Sci-Fi|IMAX' 'Adventure|Animation|Children|Western'\n",
            " 'Adventure|Children|Comedy|Fantasy|Mystery'\n",
            " 'Adventure|Drama|Horror|Mystery|Thriller' 'Comedy|Sci-Fi|Thriller'\n",
            " 'Action|Animation|Children|Comedy' 'Children|Drama|Musical'\n",
            " 'Comedy|Drama|Fantasy|Sci-Fi' 'Action|Adventure|Fantasy|Romance'\n",
            " 'Comedy|Crime|Romance|Thriller' 'Adventure|War'\n",
            " 'Comedy|Crime|Musical|Mystery' 'Adventure|Animation|Fantasy'\n",
            " 'Animation|Comedy|War' 'Action|Adventure|Comedy|Crime|Drama'\n",
            " 'Animation|Drama|War' 'Documentary|Horror' 'Action|Horror|Mystery|Sci-Fi'\n",
            " 'Action|Comedy|Documentary' 'Adventure|Animation|Children|Sci-Fi|IMAX'\n",
            " 'Comedy|Drama|Horror' 'Animation|Children|Drama|Fantasy'\n",
            " 'Comedy|Crime|Drama|Musical' 'Action|Adventure|Animation|Fantasy|Sci-Fi'\n",
            " 'Action|Adventure|Crime|Drama|Thriller' 'Comedy|Crime|Drama|Romance'\n",
            " 'Comedy|Documentary|Musical' 'Action|Animation|Sci-Fi|Thriller'\n",
            " 'Adventure|Children|Comedy|Mystery' 'Mystery|Sci-Fi'\n",
            " 'Adventure|Children|Comedy|Fantasy|Musical'\n",
            " 'Action|Adventure|Animation|Children|Fantasy|Sci-Fi'\n",
            " 'Action|Adventure|Sci-Fi|Thriller|IMAX'\n",
            " 'Action|Drama|Horror|Sci-Fi|Thriller' 'Drama|War|Western'\n",
            " 'Comedy|Crime|Mystery|Romance' 'Comedy|War|Western'\n",
            " 'Action|Adventure|Comedy|Crime|Thriller' 'Action|Fantasy|Sci-Fi'\n",
            " 'Action|Comedy|Thriller' 'Comedy|Crime|Drama|War'\n",
            " 'Adventure|Comedy|Crime|Thriller' 'Action|Adventure|Children|Fantasy'\n",
            " 'Drama|Fantasy|Musical|Romance' 'Animation|Drama|Romance'\n",
            " 'Comedy|Romance|Sci-Fi|Thriller' 'Action|Fantasy|Horror'\n",
            " 'Fantasy|Horror|Sci-Fi|Thriller' 'Comedy|Musical|Romance|Western'\n",
            " 'Drama|Fantasy|Sci-Fi' 'Children|Comedy|Crime|Musical'\n",
            " 'Action|Adventure|Animation|Fantasy' 'Crime|Documentary'\n",
            " 'Adventure|Comedy|Drama|Fantasy|Mystery|Sci-Fi|Thriller'\n",
            " 'Action|Animation|Children|Fantasy' 'Comedy|Mystery|Sci-Fi'\n",
            " 'Adventure|Thriller|Western' 'Comedy|Crime|Drama|Mystery|Romance'\n",
            " 'Action|Crime|Fantasy|Sci-Fi|Thriller' 'Crime|Fantasy|Horror'\n",
            " 'Action|Drama|Horror|Thriller' 'Comedy|Fantasy|Horror|Thriller'\n",
            " 'Action|Drama|Romance|Western' 'Adventure|Animation|Drama|Fantasy|Sci-Fi'\n",
            " 'Animation|Drama|Sci-Fi|War' 'Action|Adventure|Drama|Fantasy'\n",
            " 'Adventure|Drama|Romance|Thriller|War'\n",
            " 'Crime|Drama|Film-Noir|Romance|Thriller' 'Drama|Film-Noir|Mystery'\n",
            " 'Action|Comedy|Crime|Drama|Horror|Thriller' 'Adventure|Documentary'\n",
            " 'Action|Adventure|Children|Comedy|Crime'\n",
            " 'Animation|Comedy|Fantasy|Musical'\n",
            " 'Action|Adventure|Children|Comedy|Mystery' 'Action|Drama|Horror'\n",
            " 'Musical|Romance|Western' 'Action|Drama|Thriller|War'\n",
            " 'Comedy|Crime|Drama|Musical|Mystery|Romance' 'Adventure|Comedy|War'\n",
            " 'Fantasy|Musical|Romance' 'Drama|Thriller|Western' 'Crime|Horror|Sci-Fi'\n",
            " 'Animation|Fantasy|Thriller' 'Children|Comedy|Fantasy|Sci-Fi' 'Mystery'\n",
            " 'Action|Adventure|Animation|Comedy|Crime|Mystery'\n",
            " 'Adventure|Animation|Children|Comedy|Musical|Romance'\n",
            " 'Action|Adventure|Drama|Sci-Fi|Thriller' 'Adventure|Fantasy|IMAX'\n",
            " 'Action|Crime|Horror|Mystery|Thriller' 'Comedy|Fantasy|Thriller'\n",
            " 'Animation|Comedy|Drama|Fantasy|Sci-Fi' 'Comedy|Documentary|Drama'\n",
            " 'Crime|Drama|Film-Noir|Romance'\n",
            " 'Action|Adventure|Drama|Romance|Thriller|Western' 'Crime|Drama|Horror'\n",
            " 'Adventure|Comedy|Fantasy|Musical' 'Adventure|Animation|Drama'\n",
            " 'Comedy|Drama|Fantasy|Mystery' 'Action|Crime|Fantasy'\n",
            " 'Comedy|Drama|Sci-Fi|War' 'Adventure|Fantasy|Sci-Fi'\n",
            " 'Adventure|Drama|Horror|Sci-Fi|Thriller'\n",
            " 'Action|Adventure|Animation|Comedy'\n",
            " 'Action|Adventure|Animation|Children|Comedy'\n",
            " 'Adventure|Animation|Children|Fantasy|IMAX'\n",
            " 'Action|Adventure|Drama|Mystery|Thriller'\n",
            " 'Action|Fantasy|Horror|Thriller' 'Fantasy' 'Crime|Documentary|War'\n",
            " 'Children|Comedy|Musical|Romance' 'Drama|Horror|War'\n",
            " 'Action|Adventure|Comedy|Drama|Romance|War' 'Fantasy|Western'\n",
            " 'Adventure|Comedy|Horror|Romance'\n",
            " 'Action|Adventure|Animation|Children|Comedy|Fantasy'\n",
            " 'Action|Adventure|Children|Crime|Mystery|Thriller'\n",
            " 'Adventure|Children|Fantasy|Sci-Fi' 'Action|Fantasy|Horror|Romance'\n",
            " 'Animation|Fantasy|Mystery'\n",
            " 'Action|Animation|Crime|Drama|Film-Noir|Mystery|Sci-Fi|Thriller'\n",
            " 'Animation|Drama' 'Action|Fantasy|Sci-Fi|Thriller|War'\n",
            " 'Adventure|Animation|Comedy|Fantasy|Romance' 'Drama|Romance|Thriller|War'\n",
            " 'Adventure|Drama|Fantasy|Horror|Sci-Fi'\n",
            " 'Drama|Fantasy|Horror|Mystery|Sci-Fi|Thriller' 'Action|Animation'\n",
            " 'Adventure|Animation|Children|Musical|Romance'\n",
            " 'Action|Documentary|Drama|Thriller'\n",
            " 'Action|Adventure|Comedy|Sci-Fi|Thriller'\n",
            " 'Action|Adventure|Drama|Fantasy|Romance'\n",
            " 'Action|Animation|Drama|Fantasy|Sci-Fi' 'Drama|Fantasy|Romance|Sci-Fi'\n",
            " 'Action|Animation|Crime|Sci-Fi|Thriller'\n",
            " 'Drama|Horror|Mystery|Romance|Thriller'\n",
            " 'Action|Comedy|Crime|Fantasy|Thriller' 'Crime|Drama|Mystery|Thriller|War'\n",
            " 'Comedy|Drama|Romance|Sci-Fi' 'Action|Animation|Horror'\n",
            " 'Comedy|Crime|Horror|Mystery|Thriller' 'Comedy|Fantasy|Mystery|Sci-Fi'\n",
            " 'Comedy|Crime|Drama|Sci-Fi|Thriller' 'Action|Comedy|Horror|Musical'\n",
            " 'Drama|Sci-Fi|War' 'Action|Animation|Drama|Sci-Fi'\n",
            " 'Action|Comedy|Horror|Sci-Fi|Thriller|Western' 'Action|Comedy|Drama|War'\n",
            " 'Drama|Mystery|Romance|War' 'Action|Animation|Drama|Sci-Fi|Thriller'\n",
            " 'Children|Comedy|Crime|Drama|Fantasy' 'Action|Horror|Sci-Fi|War'\n",
            " 'Animation|Drama|Mystery|Sci-Fi|Thriller' 'Action|Drama|Fantasy|Sci-Fi'\n",
            " 'Comedy|Crime|Drama|Horror|Mystery'\n",
            " 'Adventure|Children|Comedy|Fantasy|IMAX' 'Animation|Documentary'\n",
            " 'Drama|Horror|Mystery|Sci-Fi|Thriller' 'Animation|Fantasy|Sci-Fi|War'\n",
            " 'Action|Animation|Fantasy|Sci-Fi' 'Action|Adventure|Crime|Drama'\n",
            " 'Action|Adventure|Comedy|Crime|Romance|Thriller'\n",
            " 'Action|Adventure|Drama|Romance|War'\n",
            " 'Adventure|Animation|Fantasy|Romance'\n",
            " 'Action|Fantasy|Horror|Mystery|Sci-Fi|Thriller'\n",
            " 'Adventure|Comedy|Crime|Drama|Mystery|Thriller'\n",
            " 'Comedy|Crime|Drama|Mystery' 'Comedy|Crime|Musical'\n",
            " 'Adventure|Animation|Children|Comedy|Fantasy|Sci-Fi|IMAX'\n",
            " 'Adventure|Comedy|Documentary' 'Comedy|Crime|Drama|Western'\n",
            " 'Adventure|Drama|War|Western' 'Animation|Fantasy|Sci-Fi|Thriller'\n",
            " 'Action|Crime|Film-Noir|Mystery|Thriller' 'Animation|Comedy|Sci-Fi'\n",
            " 'Animation|Fantasy|Horror' 'Children|Documentary' 'Action|Crime|IMAX'\n",
            " 'Adventure|Animation|Children|Comedy|Fantasy|War'\n",
            " 'Action|Adventure|Horror|Mystery|Sci-Fi|Thriller'\n",
            " 'Action|Crime|Drama|Thriller|War' 'Fantasy|Mystery|Romance|Thriller'\n",
            " 'Crime|Drama|Horror|Thriller' 'Animation|Comedy|Fantasy|Musical|Romance'\n",
            " 'Adventure|Children|Drama|Fantasy' 'Action|Horror|Mystery|Thriller'\n",
            " 'Adventure|Comedy|Fantasy|Horror'\n",
            " 'Action|Adventure|Animation|Children|Comedy|Sci-Fi'\n",
            " 'Adventure|Drama|Horror|Thriller' 'Adventure|Fantasy|Thriller|IMAX'\n",
            " 'Crime|Drama|Thriller|War' 'Action|Adventure|Comedy|Drama|Romance'\n",
            " 'Animation|Drama|Romance|Sci-Fi' 'Fantasy|Mystery|Western'\n",
            " 'Adventure|Comedy|Drama|Fantasy' 'Action|Comedy|Crime|Western'\n",
            " 'Action|Crime|Drama|Horror' 'Action|Fantasy|Sci-Fi|Thriller'\n",
            " 'Action|Drama|Fantasy|Horror|Mystery|Sci-Fi|Thriller'\n",
            " 'Action|Animation|Children|Sci-Fi' 'Action|Sci-Fi|Thriller|IMAX'\n",
            " 'Comedy|Fantasy|Horror|Sci-Fi' 'Action|Crime|Mystery'\n",
            " 'Crime|Drama|Film-Noir|Mystery'\n",
            " 'Action|Animation|Film-Noir|Sci-Fi|Thriller'\n",
            " 'Action|Adventure|Thriller|IMAX' 'Adventure|Comedy|Drama|Fantasy|Romance'\n",
            " 'Children|Comedy|Drama|Musical|Romance' 'Comedy|Documentary|Romance'\n",
            " 'Animation|Children|Fantasy|Mystery' 'Comedy|Fantasy|Mystery'\n",
            " 'Action|Comedy|Fantasy|IMAX'\n",
            " 'Adventure|Animation|Children|Comedy|Fantasy|IMAX'\n",
            " 'Adventure|Animation|Comedy|Fantasy|Romance|Sci-Fi' 'Crime|Drama|Musical'\n",
            " 'Adventure|Comedy|Sci-Fi|Thriller'\n",
            " 'Adventure|Animation|Children|Comedy|IMAX' 'Documentary|Drama|War'\n",
            " 'Crime|Western' 'Action|Adventure|Crime|Drama|Thriller|War'\n",
            " 'Children|Comedy|Drama|Fantasy' 'Drama|Fantasy|Horror|Romance'\n",
            " 'Action|Fantasy|Thriller' 'Action|Comedy|Crime|Mystery'\n",
            " 'Action|Comedy|Drama|Horror|Thriller' 'Action|Fantasy|War|IMAX'\n",
            " 'Comedy|Drama|Horror|Sci-Fi|Thriller' 'Drama|Fantasy|Mystery|Thriller'\n",
            " 'Action|Crime|Horror|Sci-Fi|Thriller' 'Adventure|Drama|Sci-Fi|Thriller'\n",
            " 'Action|Adventure|Animation|Comedy|Fantasy|Mystery|Sci-Fi'\n",
            " 'Crime|Drama|Fantasy|Mystery|Thriller' 'Action|Crime|Horror|Thriller'\n",
            " 'Animation|Mystery|Sci-Fi' 'Adventure|Crime|Thriller'\n",
            " 'Action|Adventure|Crime|Horror|Thriller' 'Adventure|Drama|Fantasy|IMAX'\n",
            " 'Adventure|Comedy|Fantasy|Romance' 'Action|Adventure|Fantasy|War'\n",
            " 'Action|Crime|Drama|Western' 'Action|Adventure|Comedy|Drama|Thriller'\n",
            " 'Action|Adventure|Animation|Crime|Fantasy'\n",
            " 'Action|Adventure|Animation|Fantasy|IMAX' 'Comedy|Drama|Sci-Fi|Thriller'\n",
            " 'Adventure|Animation|Children|Comedy|Fantasy|Musical|Romance'\n",
            " 'Action|Horror|Sci-Fi|Thriller|IMAX' 'Drama|Horror|Musical|Thriller'\n",
            " 'Action|Mystery|Sci-Fi|Thriller' 'Adventure|Animation|Drama|Horror'\n",
            " 'Animation|Comedy|Drama|Romance|Sci-Fi' 'Crime|Sci-Fi'\n",
            " 'Adventure|Children|Drama|Fantasy|IMAX' 'Adventure|Romance|Thriller'\n",
            " 'Crime|Drama|War' 'Action|Crime|Drama|IMAX' 'Documentary|Musical|IMAX'\n",
            " 'Action|Children|Sci-Fi|IMAX' 'Action|Animation|Children|Comedy|IMAX'\n",
            " 'Comedy|Crime|Drama|Horror' 'Action|Comedy|Drama|Thriller'\n",
            " 'Adventure|Animation|Children|Romance|Sci-Fi'\n",
            " 'Action|Adventure|Comedy|Crime|Fantasy'\n",
            " 'Action|Animation|Comedy|Romance|Sci-Fi' 'Children|Comedy|Drama|Mystery'\n",
            " 'Animation|Children|Comedy|Fantasy|Musical'\n",
            " 'Action|Adventure|Horror|Sci-Fi|Thriller'\n",
            " 'Adventure|Children|Comedy|Romance|Sci-Fi'\n",
            " 'Action|Comedy|Fantasy|Horror|Thriller'\n",
            " 'Action|Drama|Mystery|Sci-Fi|Thriller|IMAX' 'Adventure|Fantasy|Thriller'\n",
            " 'Action|Animation|Crime' 'Adventure|Comedy|Drama|Romance'\n",
            " 'Animation|Documentary|Drama|War' 'Action|Comedy|Fantasy|Thriller'\n",
            " 'Action|Animation|Comedy|Horror' 'Action|Crime|Thriller|IMAX'\n",
            " 'Animation|Comedy|Fantasy|Sci-Fi'\n",
            " 'Action|Adventure|Animation|Comedy|Fantasy|Sci-Fi'\n",
            " 'Action|Adventure|Animation|Children|Comedy|IMAX'\n",
            " 'Children|Fantasy|Musical|Romance' 'Drama|Fantasy|Romance|Thriller'\n",
            " 'Adventure|Animation|Comedy|Fantasy' 'Drama|Sci-Fi|Thriller|IMAX'\n",
            " 'Action|Adventure|Animation' 'Action|Animation|Comedy|Sci-Fi' 'Animation'\n",
            " 'Adventure|Comedy|Mystery' 'Comedy|Drama|Musical|Sci-Fi'\n",
            " 'Comedy|Crime|Horror|Thriller' 'Action|Drama|Mystery|Sci-Fi|Thriller'\n",
            " 'Animation|Sci-Fi|IMAX' 'Drama|Fantasy|Sci-Fi|Thriller'\n",
            " 'Action|Comedy|IMAX' 'Adventure|Fantasy|Musical|Romance'\n",
            " 'Action|Animation|Mystery|Sci-Fi' 'Action|Adventure|Animation|Drama'\n",
            " 'Action|Adventure|Comedy|Horror'\n",
            " 'Action|Adventure|Animation|Children|Comedy|Romance'\n",
            " 'Action|Adventure|Animation|Horror'\n",
            " 'Adventure|Fantasy|Mystery|Romance|IMAX'\n",
            " 'Adventure|Children|Fantasy|Sci-Fi|Thriller'\n",
            " 'Comedy|Documentary|Drama|Romance' 'Adventure|Animation|Sci-Fi'\n",
            " 'Animation|Children|Fantasy|IMAX'\n",
            " 'Action|Animation|Comedy|Horror|Thriller' 'Animation|Comedy|Drama'\n",
            " 'Action|Adventure|Drama|Fantasy|Romance|Sci-Fi|Thriller'\n",
            " 'Action|Comedy|Drama|Romance' 'Adventure|Animation|Children|Comedy|Crime'\n",
            " 'Animation|Children|Drama|Fantasy|IMAX'\n",
            " 'Animation|Children|Comedy|Fantasy'\n",
            " 'Drama|Fantasy|Horror|Romance|Thriller'\n",
            " 'Action|Adventure|Animation|Comedy|Thriller'\n",
            " 'Crime|Drama|Fantasy|Horror|Thriller' 'Children|Drama|Romance'\n",
            " 'Horror|Thriller|Western' 'Comedy|Musical|Sci-Fi|Western'\n",
            " 'Action|Adventure|Fantasy|Romance|IMAX' 'Fantasy|Romance|Thriller|IMAX'\n",
            " 'Action|Crime|Drama|Mystery|Sci-Fi|Thriller|IMAX' 'Action|Children|Drama'\n",
            " 'Action|Comedy|Fantasy|Musical|Romance' 'Documentary|Drama|Mystery'\n",
            " 'Adventure|Animation|Fantasy|IMAX' 'Documentary|Mystery'\n",
            " 'Action|Adventure|Comedy|Crime|Drama|Film-Noir|Horror|Mystery|Thriller|Western'\n",
            " 'Horror|IMAX' 'Action|Animation|Children|Comedy|Sci-Fi|IMAX'\n",
            " 'Action|Adventure|Fantasy|IMAX'\n",
            " 'Animation|Children|Comedy|Fantasy|Musical|Romance|IMAX' 'Crime|Romance'\n",
            " 'Adventure|Documentary|Western'\n",
            " 'Action|Comedy|Crime|Fantasy|Thriller|IMAX' 'Action|Fantasy|Western'\n",
            " 'Action|Sci-Fi|Thriller|Western|IMAX'\n",
            " 'Action|Adventure|Animation|Children|Comedy|Western'\n",
            " 'Romance|Sci-Fi|Thriller' 'Adventure|Animation|Comedy|Sci-Fi'\n",
            " 'Action|Adventure|Animation|Children|Comedy|Sci-Fi|IMAX'\n",
            " 'Action|Fantasy|Thriller|IMAX' 'Animation|Children|Comedy|Horror'\n",
            " 'Action|Adventure|Drama|Fantasy|IMAX' 'Action|Crime|Drama|Thriller|IMAX'\n",
            " 'Drama|Mystery|War' 'Action|Adventure|Sci-Fi|Thriller|War'\n",
            " 'Mystery|Sci-Fi|Thriller|IMAX' 'Action|Adventure|Sci-Fi|War|IMAX'\n",
            " 'Action|Adventure|Drama|Fantasy|Mystery|IMAX' 'Horror|Thriller|IMAX'\n",
            " 'Sci-Fi|Thriller|IMAX' 'Action|Drama|Sci-Fi|IMAX' 'Crime|Sci-Fi|Thriller'\n",
            " 'Action|Drama|Mystery|Thriller' 'Adventure|Animation|Comedy|Fantasy|IMAX'\n",
            " 'Action|Animation|Mystery|IMAX' 'Children|Drama|Mystery'\n",
            " 'Action|Drama|Fantasy' 'Animation|Children|Comedy|IMAX'\n",
            " 'Animation|Children|Comedy|Drama' 'Action|Crime|Film-Noir'\n",
            " 'Action|Adventure|Crime|IMAX' 'Action|Adventure|Drama|Thriller|IMAX'\n",
            " 'Action|Adventure|Comedy|Crime|Mystery|Thriller'\n",
            " 'Action|Fantasy|Horror|IMAX' 'Crime|Drama|Fantasy'\n",
            " 'Action|Adventure|Comedy|Sci-Fi|IMAX' 'Action|Adventure|Horror'\n",
            " 'Crime|Thriller|Western' 'Animation|Fantasy|Musical|IMAX'\n",
            " 'Action|Animation|Fantasy' 'Comedy|Horror|IMAX'\n",
            " 'Action|Comedy|Sci-Fi|IMAX' 'Action|Horror|Sci-Fi|IMAX'\n",
            " 'Action|Adventure|Animation|Children'\n",
            " 'Action|Adventure|Animation|Sci-Fi|Thriller' 'Comedy|Drama|Musical|IMAX'\n",
            " 'Children|Musical|Mystery' 'Drama|Fantasy|Musical|Mystery|Sci-Fi'\n",
            " 'Animation|Comedy|Horror|IMAX' 'Drama|Sci-Fi|IMAX'\n",
            " 'Action|Adventure|Comedy|Documentary|Fantasy' 'Action|Adventure|Crime'\n",
            " 'Children|Crime|Drama' 'Adventure|Drama|Fantasy|Romance|IMAX'\n",
            " 'Animation|Comedy|Romance' 'Drama|Musical|Romance|IMAX'\n",
            " 'Adventure|Comedy|Fantasy|Romance|IMAX' 'Animation|Comedy|Horror|Musical'\n",
            " 'Action|Animation|Comedy' 'Children|Horror|Sci-Fi' 'Action|Drama|IMAX'\n",
            " 'Documentary|Fantasy' 'Action|Adventure|Fantasy|Sci-Fi|IMAX'\n",
            " 'Action|Drama|Horror|IMAX' 'Action|Drama|Thriller|IMAX'\n",
            " 'Action|Adventure|Western|IMAX' 'Drama|Fantasy|Thriller|War'\n",
            " 'Action|IMAX' 'Action|Sci-Fi|IMAX' 'Adventure|Comedy|Musical|Sci-Fi'\n",
            " 'Adventure|Drama|Thriller|IMAX' 'Children|Drama|War'\n",
            " 'Adventure|Animation|Comedy|Fantasy|Musical|Romance'\n",
            " 'Action|Animation|Drama' 'Drama|Horror|Romance'\n",
            " 'Action|Animation|Fantasy|IMAX' 'Adventure|Romance|Sci-Fi|IMAX'\n",
            " 'Adventure|Animation|Children|Comedy|Drama|Romance'\n",
            " 'Action|Fantasy|Sci-Fi|IMAX' 'Action|Crime|Sci-Fi|IMAX'\n",
            " 'Animation|Comedy|Drama|Romance' 'Sci-Fi|IMAX' 'Animation|Romance'\n",
            " 'Action|Drama|War|IMAX' 'Action|Animation|Children|Comedy|Musical'\n",
            " 'Action|Adventure|Children|IMAX' 'Action|Animation|Children'\n",
            " 'Animation|Drama|Fantasy|Mystery' 'Action|Animation|Crime|Thriller'\n",
            " 'Documentary|Drama|Musical' '(no genres listed)' 'Adventure|Animation'\n",
            " 'Adventure|Animation|Romance' 'Animation|Children|Comedy|Musical|Sci-Fi'\n",
            " 'Action|Adventure|Comedy|Drama|Fantasy|Thriller'\n",
            " 'Documentary|Drama|Thriller' 'Adventure|Mystery|Thriller'\n",
            " 'Horror|Romance|Thriller' 'Animation|Children|Mystery'\n",
            " 'Comedy|Drama|Fantasy|Mystery|Romance' 'Crime|Drama|Horror|Mystery'\n",
            " 'Adventure|Romance|Sci-Fi' 'Horror|Sci-Fi|Western'\n",
            " 'Action|Adventure|Children|Comedy|Sci-Fi'\n",
            " 'Action|Adventure|Animation|Comedy|Sci-Fi' 'Horror|Romance|Sci-Fi'\n",
            " 'Action|Adventure|Children|Mystery|Sci-Fi' 'Comedy|Crime|Sci-Fi'\n",
            " 'Action|Comedy|Fantasy|Sci-Fi'\n",
            " 'Adventure|Animation|Children|Comedy|Drama|Fantasy'\n",
            " 'Adventure|Children|Comedy|Sci-Fi' 'Action|Animation|Crime|Sci-Fi'\n",
            " 'Action|Adventure|Romance|Sci-Fi' 'Action|Crime|Drama|Sci-Fi'\n",
            " 'Animation|Children|Comedy|Drama|Romance' 'Action|Fantasy|Mystery'\n",
            " 'Comedy|Horror|Mystery' 'Comedy|Crime|Fantasy' 'Animation|Horror|Mystery'\n",
            " 'Comedy|Romance|Western' 'Adventure|Drama|Fantasy|Sci-Fi'\n",
            " 'Adventure|Children|Drama|Sci-Fi'\n",
            " 'Adventure|Children|Comedy|Drama|Fantasy|Sci-Fi'\n",
            " 'Animation|Fantasy|Horror|Mystery'\n",
            " 'Adventure|Animation|Fantasy|Horror|Sci-Fi'\n",
            " 'Action|Animation|Crime|Drama'\n",
            " 'Action|Adventure|Animation|Drama|Fantasy|Sci-Fi'\n",
            " 'Action|Animation|Mystery' 'Animation|Drama|Sci-Fi'\n",
            " 'Animation|Drama|Fantasy|Romance'\n",
            " 'Action|Adventure|Comedy|Fantasy|Sci-Fi|Thriller'\n",
            " 'Action|Adventure|Fantasy|Horror|Thriller' 'Comedy|Sci-Fi|War'\n",
            " 'Comedy|Mystery|Romance|Thriller' 'Fantasy|Horror|Sci-Fi|Western'\n",
            " 'Animation|Crime|Drama' 'Adventure|Mystery|Sci-Fi|Thriller'\n",
            " 'Action|Comedy|Crime|Horror' 'Action|Adventure|Children|Sci-Fi'\n",
            " 'Action|Adventure|Comedy|Fantasy|Sci-Fi'\n",
            " 'Action|Animation|Comedy|Fantasy']\n"
          ]
        }
      ]
    },
    {
      "cell_type": "markdown",
      "source": [
        "Menampilkan isi dataset movies."
      ],
      "metadata": {
        "id": "8pkYJmAEKPQm"
      }
    },
    {
      "cell_type": "code",
      "source": [
        "movies.head()"
      ],
      "metadata": {
        "colab": {
          "base_uri": "https://localhost:8080/",
          "height": 206
        },
        "id": "ZtXNEfOZbCDk",
        "outputId": "62cb0413-ddc6-4cef-804a-3ac7239a3dd0"
      },
      "execution_count": null,
      "outputs": [
        {
          "output_type": "execute_result",
          "data": {
            "text/plain": [
              "   movieId                               title  \\\n",
              "0        1                    Toy Story (1995)   \n",
              "1        2                      Jumanji (1995)   \n",
              "2        3             Grumpier Old Men (1995)   \n",
              "3        4            Waiting to Exhale (1995)   \n",
              "4        5  Father of the Bride Part II (1995)   \n",
              "\n",
              "                                        genres  \n",
              "0  Adventure|Animation|Children|Comedy|Fantasy  \n",
              "1                   Adventure|Children|Fantasy  \n",
              "2                               Comedy|Romance  \n",
              "3                         Comedy|Drama|Romance  \n",
              "4                                       Comedy  "
            ],
            "text/html": [
              "\n",
              "  <div id=\"df-7c0faa24-80cf-46ee-a816-598406923259\">\n",
              "    <div class=\"colab-df-container\">\n",
              "      <div>\n",
              "<style scoped>\n",
              "    .dataframe tbody tr th:only-of-type {\n",
              "        vertical-align: middle;\n",
              "    }\n",
              "\n",
              "    .dataframe tbody tr th {\n",
              "        vertical-align: top;\n",
              "    }\n",
              "\n",
              "    .dataframe thead th {\n",
              "        text-align: right;\n",
              "    }\n",
              "</style>\n",
              "<table border=\"1\" class=\"dataframe\">\n",
              "  <thead>\n",
              "    <tr style=\"text-align: right;\">\n",
              "      <th></th>\n",
              "      <th>movieId</th>\n",
              "      <th>title</th>\n",
              "      <th>genres</th>\n",
              "    </tr>\n",
              "  </thead>\n",
              "  <tbody>\n",
              "    <tr>\n",
              "      <th>0</th>\n",
              "      <td>1</td>\n",
              "      <td>Toy Story (1995)</td>\n",
              "      <td>Adventure|Animation|Children|Comedy|Fantasy</td>\n",
              "    </tr>\n",
              "    <tr>\n",
              "      <th>1</th>\n",
              "      <td>2</td>\n",
              "      <td>Jumanji (1995)</td>\n",
              "      <td>Adventure|Children|Fantasy</td>\n",
              "    </tr>\n",
              "    <tr>\n",
              "      <th>2</th>\n",
              "      <td>3</td>\n",
              "      <td>Grumpier Old Men (1995)</td>\n",
              "      <td>Comedy|Romance</td>\n",
              "    </tr>\n",
              "    <tr>\n",
              "      <th>3</th>\n",
              "      <td>4</td>\n",
              "      <td>Waiting to Exhale (1995)</td>\n",
              "      <td>Comedy|Drama|Romance</td>\n",
              "    </tr>\n",
              "    <tr>\n",
              "      <th>4</th>\n",
              "      <td>5</td>\n",
              "      <td>Father of the Bride Part II (1995)</td>\n",
              "      <td>Comedy</td>\n",
              "    </tr>\n",
              "  </tbody>\n",
              "</table>\n",
              "</div>\n",
              "      <button class=\"colab-df-convert\" onclick=\"convertToInteractive('df-7c0faa24-80cf-46ee-a816-598406923259')\"\n",
              "              title=\"Convert this dataframe to an interactive table.\"\n",
              "              style=\"display:none;\">\n",
              "        \n",
              "  <svg xmlns=\"http://www.w3.org/2000/svg\" height=\"24px\"viewBox=\"0 0 24 24\"\n",
              "       width=\"24px\">\n",
              "    <path d=\"M0 0h24v24H0V0z\" fill=\"none\"/>\n",
              "    <path d=\"M18.56 5.44l.94 2.06.94-2.06 2.06-.94-2.06-.94-.94-2.06-.94 2.06-2.06.94zm-11 1L8.5 8.5l.94-2.06 2.06-.94-2.06-.94L8.5 2.5l-.94 2.06-2.06.94zm10 10l.94 2.06.94-2.06 2.06-.94-2.06-.94-.94-2.06-.94 2.06-2.06.94z\"/><path d=\"M17.41 7.96l-1.37-1.37c-.4-.4-.92-.59-1.43-.59-.52 0-1.04.2-1.43.59L10.3 9.45l-7.72 7.72c-.78.78-.78 2.05 0 2.83L4 21.41c.39.39.9.59 1.41.59.51 0 1.02-.2 1.41-.59l7.78-7.78 2.81-2.81c.8-.78.8-2.07 0-2.86zM5.41 20L4 18.59l7.72-7.72 1.47 1.35L5.41 20z\"/>\n",
              "  </svg>\n",
              "      </button>\n",
              "      \n",
              "  <style>\n",
              "    .colab-df-container {\n",
              "      display:flex;\n",
              "      flex-wrap:wrap;\n",
              "      gap: 12px;\n",
              "    }\n",
              "\n",
              "    .colab-df-convert {\n",
              "      background-color: #E8F0FE;\n",
              "      border: none;\n",
              "      border-radius: 50%;\n",
              "      cursor: pointer;\n",
              "      display: none;\n",
              "      fill: #1967D2;\n",
              "      height: 32px;\n",
              "      padding: 0 0 0 0;\n",
              "      width: 32px;\n",
              "    }\n",
              "\n",
              "    .colab-df-convert:hover {\n",
              "      background-color: #E2EBFA;\n",
              "      box-shadow: 0px 1px 2px rgba(60, 64, 67, 0.3), 0px 1px 3px 1px rgba(60, 64, 67, 0.15);\n",
              "      fill: #174EA6;\n",
              "    }\n",
              "\n",
              "    [theme=dark] .colab-df-convert {\n",
              "      background-color: #3B4455;\n",
              "      fill: #D2E3FC;\n",
              "    }\n",
              "\n",
              "    [theme=dark] .colab-df-convert:hover {\n",
              "      background-color: #434B5C;\n",
              "      box-shadow: 0px 1px 3px 1px rgba(0, 0, 0, 0.15);\n",
              "      filter: drop-shadow(0px 1px 2px rgba(0, 0, 0, 0.3));\n",
              "      fill: #FFFFFF;\n",
              "    }\n",
              "  </style>\n",
              "\n",
              "      <script>\n",
              "        const buttonEl =\n",
              "          document.querySelector('#df-7c0faa24-80cf-46ee-a816-598406923259 button.colab-df-convert');\n",
              "        buttonEl.style.display =\n",
              "          google.colab.kernel.accessAllowed ? 'block' : 'none';\n",
              "\n",
              "        async function convertToInteractive(key) {\n",
              "          const element = document.querySelector('#df-7c0faa24-80cf-46ee-a816-598406923259');\n",
              "          const dataTable =\n",
              "            await google.colab.kernel.invokeFunction('convertToInteractive',\n",
              "                                                     [key], {});\n",
              "          if (!dataTable) return;\n",
              "\n",
              "          const docLinkHtml = 'Like what you see? Visit the ' +\n",
              "            '<a target=\"_blank\" href=https://colab.research.google.com/notebooks/data_table.ipynb>data table notebook</a>'\n",
              "            + ' to learn more about interactive tables.';\n",
              "          element.innerHTML = '';\n",
              "          dataTable['output_type'] = 'display_data';\n",
              "          await google.colab.output.renderOutput(dataTable, element);\n",
              "          const docLink = document.createElement('div');\n",
              "          docLink.innerHTML = docLinkHtml;\n",
              "          element.appendChild(docLink);\n",
              "        }\n",
              "      </script>\n",
              "    </div>\n",
              "  </div>\n",
              "  "
            ]
          },
          "metadata": {},
          "execution_count": 7
        }
      ]
    },
    {
      "cell_type": "markdown",
      "source": [
        "Pengecekan deskripsi statistik dataset movies dengan fungsi describe()."
      ],
      "metadata": {
        "id": "GfZD3p9tK-Ff"
      }
    },
    {
      "cell_type": "code",
      "source": [
        "movies.describe()"
      ],
      "metadata": {
        "colab": {
          "base_uri": "https://localhost:8080/",
          "height": 300
        },
        "id": "s3giQYqZbIu0",
        "outputId": "cd21f3b0-89a9-4360-cd7f-80cdd9ea0491"
      },
      "execution_count": null,
      "outputs": [
        {
          "output_type": "execute_result",
          "data": {
            "text/plain": [
              "             movieId\n",
              "count    9742.000000\n",
              "mean    42200.353623\n",
              "std     52160.494854\n",
              "min         1.000000\n",
              "25%      3248.250000\n",
              "50%      7300.000000\n",
              "75%     76232.000000\n",
              "max    193609.000000"
            ],
            "text/html": [
              "\n",
              "  <div id=\"df-7bc12f7f-8b99-4766-b337-935365a7377b\">\n",
              "    <div class=\"colab-df-container\">\n",
              "      <div>\n",
              "<style scoped>\n",
              "    .dataframe tbody tr th:only-of-type {\n",
              "        vertical-align: middle;\n",
              "    }\n",
              "\n",
              "    .dataframe tbody tr th {\n",
              "        vertical-align: top;\n",
              "    }\n",
              "\n",
              "    .dataframe thead th {\n",
              "        text-align: right;\n",
              "    }\n",
              "</style>\n",
              "<table border=\"1\" class=\"dataframe\">\n",
              "  <thead>\n",
              "    <tr style=\"text-align: right;\">\n",
              "      <th></th>\n",
              "      <th>movieId</th>\n",
              "    </tr>\n",
              "  </thead>\n",
              "  <tbody>\n",
              "    <tr>\n",
              "      <th>count</th>\n",
              "      <td>9742.000000</td>\n",
              "    </tr>\n",
              "    <tr>\n",
              "      <th>mean</th>\n",
              "      <td>42200.353623</td>\n",
              "    </tr>\n",
              "    <tr>\n",
              "      <th>std</th>\n",
              "      <td>52160.494854</td>\n",
              "    </tr>\n",
              "    <tr>\n",
              "      <th>min</th>\n",
              "      <td>1.000000</td>\n",
              "    </tr>\n",
              "    <tr>\n",
              "      <th>25%</th>\n",
              "      <td>3248.250000</td>\n",
              "    </tr>\n",
              "    <tr>\n",
              "      <th>50%</th>\n",
              "      <td>7300.000000</td>\n",
              "    </tr>\n",
              "    <tr>\n",
              "      <th>75%</th>\n",
              "      <td>76232.000000</td>\n",
              "    </tr>\n",
              "    <tr>\n",
              "      <th>max</th>\n",
              "      <td>193609.000000</td>\n",
              "    </tr>\n",
              "  </tbody>\n",
              "</table>\n",
              "</div>\n",
              "      <button class=\"colab-df-convert\" onclick=\"convertToInteractive('df-7bc12f7f-8b99-4766-b337-935365a7377b')\"\n",
              "              title=\"Convert this dataframe to an interactive table.\"\n",
              "              style=\"display:none;\">\n",
              "        \n",
              "  <svg xmlns=\"http://www.w3.org/2000/svg\" height=\"24px\"viewBox=\"0 0 24 24\"\n",
              "       width=\"24px\">\n",
              "    <path d=\"M0 0h24v24H0V0z\" fill=\"none\"/>\n",
              "    <path d=\"M18.56 5.44l.94 2.06.94-2.06 2.06-.94-2.06-.94-.94-2.06-.94 2.06-2.06.94zm-11 1L8.5 8.5l.94-2.06 2.06-.94-2.06-.94L8.5 2.5l-.94 2.06-2.06.94zm10 10l.94 2.06.94-2.06 2.06-.94-2.06-.94-.94-2.06-.94 2.06-2.06.94z\"/><path d=\"M17.41 7.96l-1.37-1.37c-.4-.4-.92-.59-1.43-.59-.52 0-1.04.2-1.43.59L10.3 9.45l-7.72 7.72c-.78.78-.78 2.05 0 2.83L4 21.41c.39.39.9.59 1.41.59.51 0 1.02-.2 1.41-.59l7.78-7.78 2.81-2.81c.8-.78.8-2.07 0-2.86zM5.41 20L4 18.59l7.72-7.72 1.47 1.35L5.41 20z\"/>\n",
              "  </svg>\n",
              "      </button>\n",
              "      \n",
              "  <style>\n",
              "    .colab-df-container {\n",
              "      display:flex;\n",
              "      flex-wrap:wrap;\n",
              "      gap: 12px;\n",
              "    }\n",
              "\n",
              "    .colab-df-convert {\n",
              "      background-color: #E8F0FE;\n",
              "      border: none;\n",
              "      border-radius: 50%;\n",
              "      cursor: pointer;\n",
              "      display: none;\n",
              "      fill: #1967D2;\n",
              "      height: 32px;\n",
              "      padding: 0 0 0 0;\n",
              "      width: 32px;\n",
              "    }\n",
              "\n",
              "    .colab-df-convert:hover {\n",
              "      background-color: #E2EBFA;\n",
              "      box-shadow: 0px 1px 2px rgba(60, 64, 67, 0.3), 0px 1px 3px 1px rgba(60, 64, 67, 0.15);\n",
              "      fill: #174EA6;\n",
              "    }\n",
              "\n",
              "    [theme=dark] .colab-df-convert {\n",
              "      background-color: #3B4455;\n",
              "      fill: #D2E3FC;\n",
              "    }\n",
              "\n",
              "    [theme=dark] .colab-df-convert:hover {\n",
              "      background-color: #434B5C;\n",
              "      box-shadow: 0px 1px 3px 1px rgba(0, 0, 0, 0.15);\n",
              "      filter: drop-shadow(0px 1px 2px rgba(0, 0, 0, 0.3));\n",
              "      fill: #FFFFFF;\n",
              "    }\n",
              "  </style>\n",
              "\n",
              "      <script>\n",
              "        const buttonEl =\n",
              "          document.querySelector('#df-7bc12f7f-8b99-4766-b337-935365a7377b button.colab-df-convert');\n",
              "        buttonEl.style.display =\n",
              "          google.colab.kernel.accessAllowed ? 'block' : 'none';\n",
              "\n",
              "        async function convertToInteractive(key) {\n",
              "          const element = document.querySelector('#df-7bc12f7f-8b99-4766-b337-935365a7377b');\n",
              "          const dataTable =\n",
              "            await google.colab.kernel.invokeFunction('convertToInteractive',\n",
              "                                                     [key], {});\n",
              "          if (!dataTable) return;\n",
              "\n",
              "          const docLinkHtml = 'Like what you see? Visit the ' +\n",
              "            '<a target=\"_blank\" href=https://colab.research.google.com/notebooks/data_table.ipynb>data table notebook</a>'\n",
              "            + ' to learn more about interactive tables.';\n",
              "          element.innerHTML = '';\n",
              "          dataTable['output_type'] = 'display_data';\n",
              "          await google.colab.output.renderOutput(dataTable, element);\n",
              "          const docLink = document.createElement('div');\n",
              "          docLink.innerHTML = docLinkHtml;\n",
              "          element.appendChild(docLink);\n",
              "        }\n",
              "      </script>\n",
              "    </div>\n",
              "  </div>\n",
              "  "
            ]
          },
          "metadata": {},
          "execution_count": 8
        }
      ]
    },
    {
      "cell_type": "markdown",
      "source": [
        "### 2.2.2 Dataset Ratings"
      ],
      "metadata": {
        "id": "eCw5-UsHLGt3"
      }
    },
    {
      "cell_type": "markdown",
      "source": [
        "Pengecekan informasi variabel dari dataset ratings yaitu jumlah kolom, nama kolom, jumlah data per kolom dan tipe datanya."
      ],
      "metadata": {
        "id": "BRwA0C7wLKxe"
      }
    },
    {
      "cell_type": "code",
      "source": [
        "ratings.info()"
      ],
      "metadata": {
        "colab": {
          "base_uri": "https://localhost:8080/"
        },
        "id": "xcIVLvBwQX7O",
        "outputId": "408ae223-e857-4cda-866c-4b69e2ea3149"
      },
      "execution_count": null,
      "outputs": [
        {
          "output_type": "stream",
          "name": "stdout",
          "text": [
            "<class 'pandas.core.frame.DataFrame'>\n",
            "RangeIndex: 100836 entries, 0 to 100835\n",
            "Data columns (total 4 columns):\n",
            " #   Column     Non-Null Count   Dtype  \n",
            "---  ------     --------------   -----  \n",
            " 0   userId     100836 non-null  int64  \n",
            " 1   movieId    100836 non-null  int64  \n",
            " 2   rating     100836 non-null  float64\n",
            " 3   timestamp  100836 non-null  int64  \n",
            "dtypes: float64(1), int64(3)\n",
            "memory usage: 3.1 MB\n"
          ]
        }
      ]
    },
    {
      "cell_type": "markdown",
      "source": [
        "Menampilkan banyaknya data ratings, jumlah user, dan rating film."
      ],
      "metadata": {
        "id": "CvgqOjrYLUe3"
      }
    },
    {
      "cell_type": "code",
      "source": [
        "print('Jumlah user: ', len(ratings.userId.unique()))\n",
        "print('Jumlah rating: ', len(ratings))\n",
        "print('Rating: ', ratings.rating.unique())"
      ],
      "metadata": {
        "id": "Z8QpIyypQeVX",
        "colab": {
          "base_uri": "https://localhost:8080/"
        },
        "outputId": "56b7d0c8-86eb-4ff2-9702-1741f8ab70e6"
      },
      "execution_count": null,
      "outputs": [
        {
          "output_type": "stream",
          "name": "stdout",
          "text": [
            "Jumlah user:  610\n",
            "Jumlah rating:  100836\n",
            "Rating:  [4.  5.  3.  2.  1.  4.5 3.5 2.5 0.5 1.5]\n"
          ]
        }
      ]
    },
    {
      "cell_type": "markdown",
      "source": [
        "Menampilkan isi dataset ratings."
      ],
      "metadata": {
        "id": "OW_saTtzLeV-"
      }
    },
    {
      "cell_type": "code",
      "source": [
        "ratings.head()"
      ],
      "metadata": {
        "colab": {
          "base_uri": "https://localhost:8080/",
          "height": 206
        },
        "id": "F5kYGeItbQV3",
        "outputId": "795684f1-df9f-4436-db2a-4cc6a00af56a"
      },
      "execution_count": null,
      "outputs": [
        {
          "output_type": "execute_result",
          "data": {
            "text/plain": [
              "   userId  movieId  rating  timestamp\n",
              "0       1        1     4.0  964982703\n",
              "1       1        3     4.0  964981247\n",
              "2       1        6     4.0  964982224\n",
              "3       1       47     5.0  964983815\n",
              "4       1       50     5.0  964982931"
            ],
            "text/html": [
              "\n",
              "  <div id=\"df-c34677cf-1885-4617-8863-633be49ea78e\">\n",
              "    <div class=\"colab-df-container\">\n",
              "      <div>\n",
              "<style scoped>\n",
              "    .dataframe tbody tr th:only-of-type {\n",
              "        vertical-align: middle;\n",
              "    }\n",
              "\n",
              "    .dataframe tbody tr th {\n",
              "        vertical-align: top;\n",
              "    }\n",
              "\n",
              "    .dataframe thead th {\n",
              "        text-align: right;\n",
              "    }\n",
              "</style>\n",
              "<table border=\"1\" class=\"dataframe\">\n",
              "  <thead>\n",
              "    <tr style=\"text-align: right;\">\n",
              "      <th></th>\n",
              "      <th>userId</th>\n",
              "      <th>movieId</th>\n",
              "      <th>rating</th>\n",
              "      <th>timestamp</th>\n",
              "    </tr>\n",
              "  </thead>\n",
              "  <tbody>\n",
              "    <tr>\n",
              "      <th>0</th>\n",
              "      <td>1</td>\n",
              "      <td>1</td>\n",
              "      <td>4.0</td>\n",
              "      <td>964982703</td>\n",
              "    </tr>\n",
              "    <tr>\n",
              "      <th>1</th>\n",
              "      <td>1</td>\n",
              "      <td>3</td>\n",
              "      <td>4.0</td>\n",
              "      <td>964981247</td>\n",
              "    </tr>\n",
              "    <tr>\n",
              "      <th>2</th>\n",
              "      <td>1</td>\n",
              "      <td>6</td>\n",
              "      <td>4.0</td>\n",
              "      <td>964982224</td>\n",
              "    </tr>\n",
              "    <tr>\n",
              "      <th>3</th>\n",
              "      <td>1</td>\n",
              "      <td>47</td>\n",
              "      <td>5.0</td>\n",
              "      <td>964983815</td>\n",
              "    </tr>\n",
              "    <tr>\n",
              "      <th>4</th>\n",
              "      <td>1</td>\n",
              "      <td>50</td>\n",
              "      <td>5.0</td>\n",
              "      <td>964982931</td>\n",
              "    </tr>\n",
              "  </tbody>\n",
              "</table>\n",
              "</div>\n",
              "      <button class=\"colab-df-convert\" onclick=\"convertToInteractive('df-c34677cf-1885-4617-8863-633be49ea78e')\"\n",
              "              title=\"Convert this dataframe to an interactive table.\"\n",
              "              style=\"display:none;\">\n",
              "        \n",
              "  <svg xmlns=\"http://www.w3.org/2000/svg\" height=\"24px\"viewBox=\"0 0 24 24\"\n",
              "       width=\"24px\">\n",
              "    <path d=\"M0 0h24v24H0V0z\" fill=\"none\"/>\n",
              "    <path d=\"M18.56 5.44l.94 2.06.94-2.06 2.06-.94-2.06-.94-.94-2.06-.94 2.06-2.06.94zm-11 1L8.5 8.5l.94-2.06 2.06-.94-2.06-.94L8.5 2.5l-.94 2.06-2.06.94zm10 10l.94 2.06.94-2.06 2.06-.94-2.06-.94-.94-2.06-.94 2.06-2.06.94z\"/><path d=\"M17.41 7.96l-1.37-1.37c-.4-.4-.92-.59-1.43-.59-.52 0-1.04.2-1.43.59L10.3 9.45l-7.72 7.72c-.78.78-.78 2.05 0 2.83L4 21.41c.39.39.9.59 1.41.59.51 0 1.02-.2 1.41-.59l7.78-7.78 2.81-2.81c.8-.78.8-2.07 0-2.86zM5.41 20L4 18.59l7.72-7.72 1.47 1.35L5.41 20z\"/>\n",
              "  </svg>\n",
              "      </button>\n",
              "      \n",
              "  <style>\n",
              "    .colab-df-container {\n",
              "      display:flex;\n",
              "      flex-wrap:wrap;\n",
              "      gap: 12px;\n",
              "    }\n",
              "\n",
              "    .colab-df-convert {\n",
              "      background-color: #E8F0FE;\n",
              "      border: none;\n",
              "      border-radius: 50%;\n",
              "      cursor: pointer;\n",
              "      display: none;\n",
              "      fill: #1967D2;\n",
              "      height: 32px;\n",
              "      padding: 0 0 0 0;\n",
              "      width: 32px;\n",
              "    }\n",
              "\n",
              "    .colab-df-convert:hover {\n",
              "      background-color: #E2EBFA;\n",
              "      box-shadow: 0px 1px 2px rgba(60, 64, 67, 0.3), 0px 1px 3px 1px rgba(60, 64, 67, 0.15);\n",
              "      fill: #174EA6;\n",
              "    }\n",
              "\n",
              "    [theme=dark] .colab-df-convert {\n",
              "      background-color: #3B4455;\n",
              "      fill: #D2E3FC;\n",
              "    }\n",
              "\n",
              "    [theme=dark] .colab-df-convert:hover {\n",
              "      background-color: #434B5C;\n",
              "      box-shadow: 0px 1px 3px 1px rgba(0, 0, 0, 0.15);\n",
              "      filter: drop-shadow(0px 1px 2px rgba(0, 0, 0, 0.3));\n",
              "      fill: #FFFFFF;\n",
              "    }\n",
              "  </style>\n",
              "\n",
              "      <script>\n",
              "        const buttonEl =\n",
              "          document.querySelector('#df-c34677cf-1885-4617-8863-633be49ea78e button.colab-df-convert');\n",
              "        buttonEl.style.display =\n",
              "          google.colab.kernel.accessAllowed ? 'block' : 'none';\n",
              "\n",
              "        async function convertToInteractive(key) {\n",
              "          const element = document.querySelector('#df-c34677cf-1885-4617-8863-633be49ea78e');\n",
              "          const dataTable =\n",
              "            await google.colab.kernel.invokeFunction('convertToInteractive',\n",
              "                                                     [key], {});\n",
              "          if (!dataTable) return;\n",
              "\n",
              "          const docLinkHtml = 'Like what you see? Visit the ' +\n",
              "            '<a target=\"_blank\" href=https://colab.research.google.com/notebooks/data_table.ipynb>data table notebook</a>'\n",
              "            + ' to learn more about interactive tables.';\n",
              "          element.innerHTML = '';\n",
              "          dataTable['output_type'] = 'display_data';\n",
              "          await google.colab.output.renderOutput(dataTable, element);\n",
              "          const docLink = document.createElement('div');\n",
              "          docLink.innerHTML = docLinkHtml;\n",
              "          element.appendChild(docLink);\n",
              "        }\n",
              "      </script>\n",
              "    </div>\n",
              "  </div>\n",
              "  "
            ]
          },
          "metadata": {},
          "execution_count": 11
        }
      ]
    },
    {
      "cell_type": "markdown",
      "source": [
        "Pengecekan deskripsi statistik dataset ratings dengan fungsi describe()."
      ],
      "metadata": {
        "id": "6atgHXBoLjBu"
      }
    },
    {
      "cell_type": "code",
      "source": [
        "ratings.describe()"
      ],
      "metadata": {
        "colab": {
          "base_uri": "https://localhost:8080/",
          "height": 300
        },
        "id": "HX7J6F47bcGA",
        "outputId": "608f3b8a-7840-45c7-d852-38cc04dca826"
      },
      "execution_count": null,
      "outputs": [
        {
          "output_type": "execute_result",
          "data": {
            "text/plain": [
              "              userId        movieId         rating     timestamp\n",
              "count  100836.000000  100836.000000  100836.000000  1.008360e+05\n",
              "mean      326.127564   19435.295718       3.501557  1.205946e+09\n",
              "std       182.618491   35530.987199       1.042529  2.162610e+08\n",
              "min         1.000000       1.000000       0.500000  8.281246e+08\n",
              "25%       177.000000    1199.000000       3.000000  1.019124e+09\n",
              "50%       325.000000    2991.000000       3.500000  1.186087e+09\n",
              "75%       477.000000    8122.000000       4.000000  1.435994e+09\n",
              "max       610.000000  193609.000000       5.000000  1.537799e+09"
            ],
            "text/html": [
              "\n",
              "  <div id=\"df-468bdb72-2065-483c-b883-1611c534a6dd\">\n",
              "    <div class=\"colab-df-container\">\n",
              "      <div>\n",
              "<style scoped>\n",
              "    .dataframe tbody tr th:only-of-type {\n",
              "        vertical-align: middle;\n",
              "    }\n",
              "\n",
              "    .dataframe tbody tr th {\n",
              "        vertical-align: top;\n",
              "    }\n",
              "\n",
              "    .dataframe thead th {\n",
              "        text-align: right;\n",
              "    }\n",
              "</style>\n",
              "<table border=\"1\" class=\"dataframe\">\n",
              "  <thead>\n",
              "    <tr style=\"text-align: right;\">\n",
              "      <th></th>\n",
              "      <th>userId</th>\n",
              "      <th>movieId</th>\n",
              "      <th>rating</th>\n",
              "      <th>timestamp</th>\n",
              "    </tr>\n",
              "  </thead>\n",
              "  <tbody>\n",
              "    <tr>\n",
              "      <th>count</th>\n",
              "      <td>100836.000000</td>\n",
              "      <td>100836.000000</td>\n",
              "      <td>100836.000000</td>\n",
              "      <td>1.008360e+05</td>\n",
              "    </tr>\n",
              "    <tr>\n",
              "      <th>mean</th>\n",
              "      <td>326.127564</td>\n",
              "      <td>19435.295718</td>\n",
              "      <td>3.501557</td>\n",
              "      <td>1.205946e+09</td>\n",
              "    </tr>\n",
              "    <tr>\n",
              "      <th>std</th>\n",
              "      <td>182.618491</td>\n",
              "      <td>35530.987199</td>\n",
              "      <td>1.042529</td>\n",
              "      <td>2.162610e+08</td>\n",
              "    </tr>\n",
              "    <tr>\n",
              "      <th>min</th>\n",
              "      <td>1.000000</td>\n",
              "      <td>1.000000</td>\n",
              "      <td>0.500000</td>\n",
              "      <td>8.281246e+08</td>\n",
              "    </tr>\n",
              "    <tr>\n",
              "      <th>25%</th>\n",
              "      <td>177.000000</td>\n",
              "      <td>1199.000000</td>\n",
              "      <td>3.000000</td>\n",
              "      <td>1.019124e+09</td>\n",
              "    </tr>\n",
              "    <tr>\n",
              "      <th>50%</th>\n",
              "      <td>325.000000</td>\n",
              "      <td>2991.000000</td>\n",
              "      <td>3.500000</td>\n",
              "      <td>1.186087e+09</td>\n",
              "    </tr>\n",
              "    <tr>\n",
              "      <th>75%</th>\n",
              "      <td>477.000000</td>\n",
              "      <td>8122.000000</td>\n",
              "      <td>4.000000</td>\n",
              "      <td>1.435994e+09</td>\n",
              "    </tr>\n",
              "    <tr>\n",
              "      <th>max</th>\n",
              "      <td>610.000000</td>\n",
              "      <td>193609.000000</td>\n",
              "      <td>5.000000</td>\n",
              "      <td>1.537799e+09</td>\n",
              "    </tr>\n",
              "  </tbody>\n",
              "</table>\n",
              "</div>\n",
              "      <button class=\"colab-df-convert\" onclick=\"convertToInteractive('df-468bdb72-2065-483c-b883-1611c534a6dd')\"\n",
              "              title=\"Convert this dataframe to an interactive table.\"\n",
              "              style=\"display:none;\">\n",
              "        \n",
              "  <svg xmlns=\"http://www.w3.org/2000/svg\" height=\"24px\"viewBox=\"0 0 24 24\"\n",
              "       width=\"24px\">\n",
              "    <path d=\"M0 0h24v24H0V0z\" fill=\"none\"/>\n",
              "    <path d=\"M18.56 5.44l.94 2.06.94-2.06 2.06-.94-2.06-.94-.94-2.06-.94 2.06-2.06.94zm-11 1L8.5 8.5l.94-2.06 2.06-.94-2.06-.94L8.5 2.5l-.94 2.06-2.06.94zm10 10l.94 2.06.94-2.06 2.06-.94-2.06-.94-.94-2.06-.94 2.06-2.06.94z\"/><path d=\"M17.41 7.96l-1.37-1.37c-.4-.4-.92-.59-1.43-.59-.52 0-1.04.2-1.43.59L10.3 9.45l-7.72 7.72c-.78.78-.78 2.05 0 2.83L4 21.41c.39.39.9.59 1.41.59.51 0 1.02-.2 1.41-.59l7.78-7.78 2.81-2.81c.8-.78.8-2.07 0-2.86zM5.41 20L4 18.59l7.72-7.72 1.47 1.35L5.41 20z\"/>\n",
              "  </svg>\n",
              "      </button>\n",
              "      \n",
              "  <style>\n",
              "    .colab-df-container {\n",
              "      display:flex;\n",
              "      flex-wrap:wrap;\n",
              "      gap: 12px;\n",
              "    }\n",
              "\n",
              "    .colab-df-convert {\n",
              "      background-color: #E8F0FE;\n",
              "      border: none;\n",
              "      border-radius: 50%;\n",
              "      cursor: pointer;\n",
              "      display: none;\n",
              "      fill: #1967D2;\n",
              "      height: 32px;\n",
              "      padding: 0 0 0 0;\n",
              "      width: 32px;\n",
              "    }\n",
              "\n",
              "    .colab-df-convert:hover {\n",
              "      background-color: #E2EBFA;\n",
              "      box-shadow: 0px 1px 2px rgba(60, 64, 67, 0.3), 0px 1px 3px 1px rgba(60, 64, 67, 0.15);\n",
              "      fill: #174EA6;\n",
              "    }\n",
              "\n",
              "    [theme=dark] .colab-df-convert {\n",
              "      background-color: #3B4455;\n",
              "      fill: #D2E3FC;\n",
              "    }\n",
              "\n",
              "    [theme=dark] .colab-df-convert:hover {\n",
              "      background-color: #434B5C;\n",
              "      box-shadow: 0px 1px 3px 1px rgba(0, 0, 0, 0.15);\n",
              "      filter: drop-shadow(0px 1px 2px rgba(0, 0, 0, 0.3));\n",
              "      fill: #FFFFFF;\n",
              "    }\n",
              "  </style>\n",
              "\n",
              "      <script>\n",
              "        const buttonEl =\n",
              "          document.querySelector('#df-468bdb72-2065-483c-b883-1611c534a6dd button.colab-df-convert');\n",
              "        buttonEl.style.display =\n",
              "          google.colab.kernel.accessAllowed ? 'block' : 'none';\n",
              "\n",
              "        async function convertToInteractive(key) {\n",
              "          const element = document.querySelector('#df-468bdb72-2065-483c-b883-1611c534a6dd');\n",
              "          const dataTable =\n",
              "            await google.colab.kernel.invokeFunction('convertToInteractive',\n",
              "                                                     [key], {});\n",
              "          if (!dataTable) return;\n",
              "\n",
              "          const docLinkHtml = 'Like what you see? Visit the ' +\n",
              "            '<a target=\"_blank\" href=https://colab.research.google.com/notebooks/data_table.ipynb>data table notebook</a>'\n",
              "            + ' to learn more about interactive tables.';\n",
              "          element.innerHTML = '';\n",
              "          dataTable['output_type'] = 'display_data';\n",
              "          await google.colab.output.renderOutput(dataTable, element);\n",
              "          const docLink = document.createElement('div');\n",
              "          docLink.innerHTML = docLinkHtml;\n",
              "          element.appendChild(docLink);\n",
              "        }\n",
              "      </script>\n",
              "    </div>\n",
              "  </div>\n",
              "  "
            ]
          },
          "metadata": {},
          "execution_count": 12
        }
      ]
    },
    {
      "cell_type": "markdown",
      "source": [
        "# **3. Data Preprocessing**"
      ],
      "metadata": {
        "id": "79SldkZkLroH"
      }
    },
    {
      "cell_type": "markdown",
      "source": [
        "Tahap data preprocessing adalah teknik yang digunakan untuk mengubah data mentah menjadi data yang bersih yang siap untuk digunakan pada proses selanjutnya."
      ],
      "metadata": {
        "id": "zTr0HWhxMIC_"
      }
    },
    {
      "cell_type": "markdown",
      "source": [
        "## 3.1 Menggabungkan Data Movies dan Ratings"
      ],
      "metadata": {
        "id": "gqVlv7MWL5R_"
      }
    },
    {
      "cell_type": "markdown",
      "source": [
        "Menggabungkan dataset movies dan ratings menggunakan library Pandas merge pada kolom movieId."
      ],
      "metadata": {
        "id": "yv8bSDwgMLT_"
      }
    },
    {
      "cell_type": "code",
      "source": [
        "movierating = pd.merge(movies, ratings, on = 'movieId')\n",
        "movierating.head()"
      ],
      "metadata": {
        "colab": {
          "base_uri": "https://localhost:8080/",
          "height": 206
        },
        "id": "ynKBaGEmbf2T",
        "outputId": "814acd25-6b6a-4600-be7a-65a40f37b083"
      },
      "execution_count": null,
      "outputs": [
        {
          "output_type": "execute_result",
          "data": {
            "text/plain": [
              "   movieId             title                                       genres  \\\n",
              "0        1  Toy Story (1995)  Adventure|Animation|Children|Comedy|Fantasy   \n",
              "1        1  Toy Story (1995)  Adventure|Animation|Children|Comedy|Fantasy   \n",
              "2        1  Toy Story (1995)  Adventure|Animation|Children|Comedy|Fantasy   \n",
              "3        1  Toy Story (1995)  Adventure|Animation|Children|Comedy|Fantasy   \n",
              "4        1  Toy Story (1995)  Adventure|Animation|Children|Comedy|Fantasy   \n",
              "\n",
              "   userId  rating   timestamp  \n",
              "0       1     4.0   964982703  \n",
              "1       5     4.0   847434962  \n",
              "2       7     4.5  1106635946  \n",
              "3      15     2.5  1510577970  \n",
              "4      17     4.5  1305696483  "
            ],
            "text/html": [
              "\n",
              "  <div id=\"df-0702100e-ff1f-4a62-a6d6-1b3e6b8c50a7\">\n",
              "    <div class=\"colab-df-container\">\n",
              "      <div>\n",
              "<style scoped>\n",
              "    .dataframe tbody tr th:only-of-type {\n",
              "        vertical-align: middle;\n",
              "    }\n",
              "\n",
              "    .dataframe tbody tr th {\n",
              "        vertical-align: top;\n",
              "    }\n",
              "\n",
              "    .dataframe thead th {\n",
              "        text-align: right;\n",
              "    }\n",
              "</style>\n",
              "<table border=\"1\" class=\"dataframe\">\n",
              "  <thead>\n",
              "    <tr style=\"text-align: right;\">\n",
              "      <th></th>\n",
              "      <th>movieId</th>\n",
              "      <th>title</th>\n",
              "      <th>genres</th>\n",
              "      <th>userId</th>\n",
              "      <th>rating</th>\n",
              "      <th>timestamp</th>\n",
              "    </tr>\n",
              "  </thead>\n",
              "  <tbody>\n",
              "    <tr>\n",
              "      <th>0</th>\n",
              "      <td>1</td>\n",
              "      <td>Toy Story (1995)</td>\n",
              "      <td>Adventure|Animation|Children|Comedy|Fantasy</td>\n",
              "      <td>1</td>\n",
              "      <td>4.0</td>\n",
              "      <td>964982703</td>\n",
              "    </tr>\n",
              "    <tr>\n",
              "      <th>1</th>\n",
              "      <td>1</td>\n",
              "      <td>Toy Story (1995)</td>\n",
              "      <td>Adventure|Animation|Children|Comedy|Fantasy</td>\n",
              "      <td>5</td>\n",
              "      <td>4.0</td>\n",
              "      <td>847434962</td>\n",
              "    </tr>\n",
              "    <tr>\n",
              "      <th>2</th>\n",
              "      <td>1</td>\n",
              "      <td>Toy Story (1995)</td>\n",
              "      <td>Adventure|Animation|Children|Comedy|Fantasy</td>\n",
              "      <td>7</td>\n",
              "      <td>4.5</td>\n",
              "      <td>1106635946</td>\n",
              "    </tr>\n",
              "    <tr>\n",
              "      <th>3</th>\n",
              "      <td>1</td>\n",
              "      <td>Toy Story (1995)</td>\n",
              "      <td>Adventure|Animation|Children|Comedy|Fantasy</td>\n",
              "      <td>15</td>\n",
              "      <td>2.5</td>\n",
              "      <td>1510577970</td>\n",
              "    </tr>\n",
              "    <tr>\n",
              "      <th>4</th>\n",
              "      <td>1</td>\n",
              "      <td>Toy Story (1995)</td>\n",
              "      <td>Adventure|Animation|Children|Comedy|Fantasy</td>\n",
              "      <td>17</td>\n",
              "      <td>4.5</td>\n",
              "      <td>1305696483</td>\n",
              "    </tr>\n",
              "  </tbody>\n",
              "</table>\n",
              "</div>\n",
              "      <button class=\"colab-df-convert\" onclick=\"convertToInteractive('df-0702100e-ff1f-4a62-a6d6-1b3e6b8c50a7')\"\n",
              "              title=\"Convert this dataframe to an interactive table.\"\n",
              "              style=\"display:none;\">\n",
              "        \n",
              "  <svg xmlns=\"http://www.w3.org/2000/svg\" height=\"24px\"viewBox=\"0 0 24 24\"\n",
              "       width=\"24px\">\n",
              "    <path d=\"M0 0h24v24H0V0z\" fill=\"none\"/>\n",
              "    <path d=\"M18.56 5.44l.94 2.06.94-2.06 2.06-.94-2.06-.94-.94-2.06-.94 2.06-2.06.94zm-11 1L8.5 8.5l.94-2.06 2.06-.94-2.06-.94L8.5 2.5l-.94 2.06-2.06.94zm10 10l.94 2.06.94-2.06 2.06-.94-2.06-.94-.94-2.06-.94 2.06-2.06.94z\"/><path d=\"M17.41 7.96l-1.37-1.37c-.4-.4-.92-.59-1.43-.59-.52 0-1.04.2-1.43.59L10.3 9.45l-7.72 7.72c-.78.78-.78 2.05 0 2.83L4 21.41c.39.39.9.59 1.41.59.51 0 1.02-.2 1.41-.59l7.78-7.78 2.81-2.81c.8-.78.8-2.07 0-2.86zM5.41 20L4 18.59l7.72-7.72 1.47 1.35L5.41 20z\"/>\n",
              "  </svg>\n",
              "      </button>\n",
              "      \n",
              "  <style>\n",
              "    .colab-df-container {\n",
              "      display:flex;\n",
              "      flex-wrap:wrap;\n",
              "      gap: 12px;\n",
              "    }\n",
              "\n",
              "    .colab-df-convert {\n",
              "      background-color: #E8F0FE;\n",
              "      border: none;\n",
              "      border-radius: 50%;\n",
              "      cursor: pointer;\n",
              "      display: none;\n",
              "      fill: #1967D2;\n",
              "      height: 32px;\n",
              "      padding: 0 0 0 0;\n",
              "      width: 32px;\n",
              "    }\n",
              "\n",
              "    .colab-df-convert:hover {\n",
              "      background-color: #E2EBFA;\n",
              "      box-shadow: 0px 1px 2px rgba(60, 64, 67, 0.3), 0px 1px 3px 1px rgba(60, 64, 67, 0.15);\n",
              "      fill: #174EA6;\n",
              "    }\n",
              "\n",
              "    [theme=dark] .colab-df-convert {\n",
              "      background-color: #3B4455;\n",
              "      fill: #D2E3FC;\n",
              "    }\n",
              "\n",
              "    [theme=dark] .colab-df-convert:hover {\n",
              "      background-color: #434B5C;\n",
              "      box-shadow: 0px 1px 3px 1px rgba(0, 0, 0, 0.15);\n",
              "      filter: drop-shadow(0px 1px 2px rgba(0, 0, 0, 0.3));\n",
              "      fill: #FFFFFF;\n",
              "    }\n",
              "  </style>\n",
              "\n",
              "      <script>\n",
              "        const buttonEl =\n",
              "          document.querySelector('#df-0702100e-ff1f-4a62-a6d6-1b3e6b8c50a7 button.colab-df-convert');\n",
              "        buttonEl.style.display =\n",
              "          google.colab.kernel.accessAllowed ? 'block' : 'none';\n",
              "\n",
              "        async function convertToInteractive(key) {\n",
              "          const element = document.querySelector('#df-0702100e-ff1f-4a62-a6d6-1b3e6b8c50a7');\n",
              "          const dataTable =\n",
              "            await google.colab.kernel.invokeFunction('convertToInteractive',\n",
              "                                                     [key], {});\n",
              "          if (!dataTable) return;\n",
              "\n",
              "          const docLinkHtml = 'Like what you see? Visit the ' +\n",
              "            '<a target=\"_blank\" href=https://colab.research.google.com/notebooks/data_table.ipynb>data table notebook</a>'\n",
              "            + ' to learn more about interactive tables.';\n",
              "          element.innerHTML = '';\n",
              "          dataTable['output_type'] = 'display_data';\n",
              "          await google.colab.output.renderOutput(dataTable, element);\n",
              "          const docLink = document.createElement('div');\n",
              "          docLink.innerHTML = docLinkHtml;\n",
              "          element.appendChild(docLink);\n",
              "        }\n",
              "      </script>\n",
              "    </div>\n",
              "  </div>\n",
              "  "
            ]
          },
          "metadata": {},
          "execution_count": 13
        }
      ]
    },
    {
      "cell_type": "markdown",
      "source": [
        "# **4. Data Preparation**"
      ],
      "metadata": {
        "id": "cy9pCgvzMiIJ"
      }
    },
    {
      "cell_type": "markdown",
      "source": [
        "Tahap data preparation merupakan proses transformasi data menjadi bentuk yang dapat diterima oleh model machine learning nanti. Proses data preparation yang dilakukan, yaitu membersihkan data missing value, melakukan pengecekan data duplikat, dan pemisahan genre pada dataset movie."
      ],
      "metadata": {
        "id": "Cidr6Yw3uFFt"
      }
    },
    {
      "cell_type": "markdown",
      "source": [
        "## 4.1 Pengecekan Missing Value"
      ],
      "metadata": {
        "id": "9wXlm0x7MxcP"
      }
    },
    {
      "cell_type": "markdown",
      "source": [
        "Melakukan pengecekan data yang hilang atau missing value menggunakan fungsi .isnull().sum()."
      ],
      "metadata": {
        "id": "mlnDdzMKwMF-"
      }
    },
    {
      "cell_type": "code",
      "source": [
        "movies.isnull().sum()"
      ],
      "metadata": {
        "colab": {
          "base_uri": "https://localhost:8080/"
        },
        "id": "YARMPLyEcra9",
        "outputId": "8f52e112-85bd-49a3-e881-0b24e3f6152d"
      },
      "execution_count": null,
      "outputs": [
        {
          "output_type": "execute_result",
          "data": {
            "text/plain": [
              "movieId    0\n",
              "title      0\n",
              "genres     0\n",
              "dtype: int64"
            ]
          },
          "metadata": {},
          "execution_count": 14
        }
      ]
    },
    {
      "cell_type": "code",
      "source": [
        "ratings.isnull().sum()"
      ],
      "metadata": {
        "colab": {
          "base_uri": "https://localhost:8080/"
        },
        "id": "i7Rl8AGAdJRH",
        "outputId": "957a5395-5b5a-45ad-98bb-6ac9cad5eb5c"
      },
      "execution_count": null,
      "outputs": [
        {
          "output_type": "execute_result",
          "data": {
            "text/plain": [
              "userId       0\n",
              "movieId      0\n",
              "rating       0\n",
              "timestamp    0\n",
              "dtype: int64"
            ]
          },
          "metadata": {},
          "execution_count": 15
        }
      ]
    },
    {
      "cell_type": "code",
      "source": [
        "movierating.isnull().sum()"
      ],
      "metadata": {
        "colab": {
          "base_uri": "https://localhost:8080/"
        },
        "id": "QwoSUSIBdR5-",
        "outputId": "72955f20-1875-4154-be23-c7d9f075f58e"
      },
      "execution_count": null,
      "outputs": [
        {
          "output_type": "execute_result",
          "data": {
            "text/plain": [
              "movieId      0\n",
              "title        0\n",
              "genres       0\n",
              "userId       0\n",
              "rating       0\n",
              "timestamp    0\n",
              "dtype: int64"
            ]
          },
          "metadata": {},
          "execution_count": 16
        }
      ]
    },
    {
      "cell_type": "markdown",
      "source": [
        "## 4.2 Pengecekan Data Duplikat"
      ],
      "metadata": {
        "id": "NUbzORuqM1dP"
      }
    },
    {
      "cell_type": "markdown",
      "source": [
        "Melakukan pengecekan data yang sama atau duplikat menggunakan fungsi duplicated().sum()."
      ],
      "metadata": {
        "id": "1FuBSXgfwads"
      }
    },
    {
      "cell_type": "code",
      "source": [
        "print(f'Jumlah data movies yang duplikat: {movies.duplicated().sum()}')\n",
        "print(f'Jumlah data rating yang duplikat: {ratings.duplicated().sum()}')\n",
        "print(f'Jumlah data movierating yang duplikat: {movierating.duplicated().sum()}')"
      ],
      "metadata": {
        "id": "rQaIUXLsM7r_",
        "colab": {
          "base_uri": "https://localhost:8080/"
        },
        "outputId": "1bc7a061-e0e8-476f-f690-ec85ac083abe"
      },
      "execution_count": null,
      "outputs": [
        {
          "output_type": "stream",
          "name": "stdout",
          "text": [
            "Jumlah data movies yang duplikat: 0\n",
            "Jumlah data rating yang duplikat: 0\n",
            "Jumlah data movierating yang duplikat: 0\n"
          ]
        }
      ]
    },
    {
      "cell_type": "code",
      "source": [
        "movies[movies.duplicated()]"
      ],
      "metadata": {
        "colab": {
          "base_uri": "https://localhost:8080/",
          "height": 49
        },
        "id": "gj6FmiIRdVOD",
        "outputId": "6382c4a1-8719-49e0-9e97-71a5cb01d622"
      },
      "execution_count": null,
      "outputs": [
        {
          "output_type": "execute_result",
          "data": {
            "text/plain": [
              "Empty DataFrame\n",
              "Columns: [movieId, title, genres]\n",
              "Index: []"
            ],
            "text/html": [
              "\n",
              "  <div id=\"df-779ae5a7-c0ac-4b1d-a1e6-021553ccef87\">\n",
              "    <div class=\"colab-df-container\">\n",
              "      <div>\n",
              "<style scoped>\n",
              "    .dataframe tbody tr th:only-of-type {\n",
              "        vertical-align: middle;\n",
              "    }\n",
              "\n",
              "    .dataframe tbody tr th {\n",
              "        vertical-align: top;\n",
              "    }\n",
              "\n",
              "    .dataframe thead th {\n",
              "        text-align: right;\n",
              "    }\n",
              "</style>\n",
              "<table border=\"1\" class=\"dataframe\">\n",
              "  <thead>\n",
              "    <tr style=\"text-align: right;\">\n",
              "      <th></th>\n",
              "      <th>movieId</th>\n",
              "      <th>title</th>\n",
              "      <th>genres</th>\n",
              "    </tr>\n",
              "  </thead>\n",
              "  <tbody>\n",
              "  </tbody>\n",
              "</table>\n",
              "</div>\n",
              "      <button class=\"colab-df-convert\" onclick=\"convertToInteractive('df-779ae5a7-c0ac-4b1d-a1e6-021553ccef87')\"\n",
              "              title=\"Convert this dataframe to an interactive table.\"\n",
              "              style=\"display:none;\">\n",
              "        \n",
              "  <svg xmlns=\"http://www.w3.org/2000/svg\" height=\"24px\"viewBox=\"0 0 24 24\"\n",
              "       width=\"24px\">\n",
              "    <path d=\"M0 0h24v24H0V0z\" fill=\"none\"/>\n",
              "    <path d=\"M18.56 5.44l.94 2.06.94-2.06 2.06-.94-2.06-.94-.94-2.06-.94 2.06-2.06.94zm-11 1L8.5 8.5l.94-2.06 2.06-.94-2.06-.94L8.5 2.5l-.94 2.06-2.06.94zm10 10l.94 2.06.94-2.06 2.06-.94-2.06-.94-.94-2.06-.94 2.06-2.06.94z\"/><path d=\"M17.41 7.96l-1.37-1.37c-.4-.4-.92-.59-1.43-.59-.52 0-1.04.2-1.43.59L10.3 9.45l-7.72 7.72c-.78.78-.78 2.05 0 2.83L4 21.41c.39.39.9.59 1.41.59.51 0 1.02-.2 1.41-.59l7.78-7.78 2.81-2.81c.8-.78.8-2.07 0-2.86zM5.41 20L4 18.59l7.72-7.72 1.47 1.35L5.41 20z\"/>\n",
              "  </svg>\n",
              "      </button>\n",
              "      \n",
              "  <style>\n",
              "    .colab-df-container {\n",
              "      display:flex;\n",
              "      flex-wrap:wrap;\n",
              "      gap: 12px;\n",
              "    }\n",
              "\n",
              "    .colab-df-convert {\n",
              "      background-color: #E8F0FE;\n",
              "      border: none;\n",
              "      border-radius: 50%;\n",
              "      cursor: pointer;\n",
              "      display: none;\n",
              "      fill: #1967D2;\n",
              "      height: 32px;\n",
              "      padding: 0 0 0 0;\n",
              "      width: 32px;\n",
              "    }\n",
              "\n",
              "    .colab-df-convert:hover {\n",
              "      background-color: #E2EBFA;\n",
              "      box-shadow: 0px 1px 2px rgba(60, 64, 67, 0.3), 0px 1px 3px 1px rgba(60, 64, 67, 0.15);\n",
              "      fill: #174EA6;\n",
              "    }\n",
              "\n",
              "    [theme=dark] .colab-df-convert {\n",
              "      background-color: #3B4455;\n",
              "      fill: #D2E3FC;\n",
              "    }\n",
              "\n",
              "    [theme=dark] .colab-df-convert:hover {\n",
              "      background-color: #434B5C;\n",
              "      box-shadow: 0px 1px 3px 1px rgba(0, 0, 0, 0.15);\n",
              "      filter: drop-shadow(0px 1px 2px rgba(0, 0, 0, 0.3));\n",
              "      fill: #FFFFFF;\n",
              "    }\n",
              "  </style>\n",
              "\n",
              "      <script>\n",
              "        const buttonEl =\n",
              "          document.querySelector('#df-779ae5a7-c0ac-4b1d-a1e6-021553ccef87 button.colab-df-convert');\n",
              "        buttonEl.style.display =\n",
              "          google.colab.kernel.accessAllowed ? 'block' : 'none';\n",
              "\n",
              "        async function convertToInteractive(key) {\n",
              "          const element = document.querySelector('#df-779ae5a7-c0ac-4b1d-a1e6-021553ccef87');\n",
              "          const dataTable =\n",
              "            await google.colab.kernel.invokeFunction('convertToInteractive',\n",
              "                                                     [key], {});\n",
              "          if (!dataTable) return;\n",
              "\n",
              "          const docLinkHtml = 'Like what you see? Visit the ' +\n",
              "            '<a target=\"_blank\" href=https://colab.research.google.com/notebooks/data_table.ipynb>data table notebook</a>'\n",
              "            + ' to learn more about interactive tables.';\n",
              "          element.innerHTML = '';\n",
              "          dataTable['output_type'] = 'display_data';\n",
              "          await google.colab.output.renderOutput(dataTable, element);\n",
              "          const docLink = document.createElement('div');\n",
              "          docLink.innerHTML = docLinkHtml;\n",
              "          element.appendChild(docLink);\n",
              "        }\n",
              "      </script>\n",
              "    </div>\n",
              "  </div>\n",
              "  "
            ]
          },
          "metadata": {},
          "execution_count": 18
        }
      ]
    },
    {
      "cell_type": "code",
      "source": [
        "ratings[ratings.duplicated()]"
      ],
      "metadata": {
        "colab": {
          "base_uri": "https://localhost:8080/",
          "height": 49
        },
        "id": "EyNNO_3yeOoT",
        "outputId": "64c7eb5d-a669-41d1-b315-6b9abf30d8b3"
      },
      "execution_count": null,
      "outputs": [
        {
          "output_type": "execute_result",
          "data": {
            "text/plain": [
              "Empty DataFrame\n",
              "Columns: [userId, movieId, rating, timestamp]\n",
              "Index: []"
            ],
            "text/html": [
              "\n",
              "  <div id=\"df-c434e2c0-a270-4007-aa2a-996a037bdf0c\">\n",
              "    <div class=\"colab-df-container\">\n",
              "      <div>\n",
              "<style scoped>\n",
              "    .dataframe tbody tr th:only-of-type {\n",
              "        vertical-align: middle;\n",
              "    }\n",
              "\n",
              "    .dataframe tbody tr th {\n",
              "        vertical-align: top;\n",
              "    }\n",
              "\n",
              "    .dataframe thead th {\n",
              "        text-align: right;\n",
              "    }\n",
              "</style>\n",
              "<table border=\"1\" class=\"dataframe\">\n",
              "  <thead>\n",
              "    <tr style=\"text-align: right;\">\n",
              "      <th></th>\n",
              "      <th>userId</th>\n",
              "      <th>movieId</th>\n",
              "      <th>rating</th>\n",
              "      <th>timestamp</th>\n",
              "    </tr>\n",
              "  </thead>\n",
              "  <tbody>\n",
              "  </tbody>\n",
              "</table>\n",
              "</div>\n",
              "      <button class=\"colab-df-convert\" onclick=\"convertToInteractive('df-c434e2c0-a270-4007-aa2a-996a037bdf0c')\"\n",
              "              title=\"Convert this dataframe to an interactive table.\"\n",
              "              style=\"display:none;\">\n",
              "        \n",
              "  <svg xmlns=\"http://www.w3.org/2000/svg\" height=\"24px\"viewBox=\"0 0 24 24\"\n",
              "       width=\"24px\">\n",
              "    <path d=\"M0 0h24v24H0V0z\" fill=\"none\"/>\n",
              "    <path d=\"M18.56 5.44l.94 2.06.94-2.06 2.06-.94-2.06-.94-.94-2.06-.94 2.06-2.06.94zm-11 1L8.5 8.5l.94-2.06 2.06-.94-2.06-.94L8.5 2.5l-.94 2.06-2.06.94zm10 10l.94 2.06.94-2.06 2.06-.94-2.06-.94-.94-2.06-.94 2.06-2.06.94z\"/><path d=\"M17.41 7.96l-1.37-1.37c-.4-.4-.92-.59-1.43-.59-.52 0-1.04.2-1.43.59L10.3 9.45l-7.72 7.72c-.78.78-.78 2.05 0 2.83L4 21.41c.39.39.9.59 1.41.59.51 0 1.02-.2 1.41-.59l7.78-7.78 2.81-2.81c.8-.78.8-2.07 0-2.86zM5.41 20L4 18.59l7.72-7.72 1.47 1.35L5.41 20z\"/>\n",
              "  </svg>\n",
              "      </button>\n",
              "      \n",
              "  <style>\n",
              "    .colab-df-container {\n",
              "      display:flex;\n",
              "      flex-wrap:wrap;\n",
              "      gap: 12px;\n",
              "    }\n",
              "\n",
              "    .colab-df-convert {\n",
              "      background-color: #E8F0FE;\n",
              "      border: none;\n",
              "      border-radius: 50%;\n",
              "      cursor: pointer;\n",
              "      display: none;\n",
              "      fill: #1967D2;\n",
              "      height: 32px;\n",
              "      padding: 0 0 0 0;\n",
              "      width: 32px;\n",
              "    }\n",
              "\n",
              "    .colab-df-convert:hover {\n",
              "      background-color: #E2EBFA;\n",
              "      box-shadow: 0px 1px 2px rgba(60, 64, 67, 0.3), 0px 1px 3px 1px rgba(60, 64, 67, 0.15);\n",
              "      fill: #174EA6;\n",
              "    }\n",
              "\n",
              "    [theme=dark] .colab-df-convert {\n",
              "      background-color: #3B4455;\n",
              "      fill: #D2E3FC;\n",
              "    }\n",
              "\n",
              "    [theme=dark] .colab-df-convert:hover {\n",
              "      background-color: #434B5C;\n",
              "      box-shadow: 0px 1px 3px 1px rgba(0, 0, 0, 0.15);\n",
              "      filter: drop-shadow(0px 1px 2px rgba(0, 0, 0, 0.3));\n",
              "      fill: #FFFFFF;\n",
              "    }\n",
              "  </style>\n",
              "\n",
              "      <script>\n",
              "        const buttonEl =\n",
              "          document.querySelector('#df-c434e2c0-a270-4007-aa2a-996a037bdf0c button.colab-df-convert');\n",
              "        buttonEl.style.display =\n",
              "          google.colab.kernel.accessAllowed ? 'block' : 'none';\n",
              "\n",
              "        async function convertToInteractive(key) {\n",
              "          const element = document.querySelector('#df-c434e2c0-a270-4007-aa2a-996a037bdf0c');\n",
              "          const dataTable =\n",
              "            await google.colab.kernel.invokeFunction('convertToInteractive',\n",
              "                                                     [key], {});\n",
              "          if (!dataTable) return;\n",
              "\n",
              "          const docLinkHtml = 'Like what you see? Visit the ' +\n",
              "            '<a target=\"_blank\" href=https://colab.research.google.com/notebooks/data_table.ipynb>data table notebook</a>'\n",
              "            + ' to learn more about interactive tables.';\n",
              "          element.innerHTML = '';\n",
              "          dataTable['output_type'] = 'display_data';\n",
              "          await google.colab.output.renderOutput(dataTable, element);\n",
              "          const docLink = document.createElement('div');\n",
              "          docLink.innerHTML = docLinkHtml;\n",
              "          element.appendChild(docLink);\n",
              "        }\n",
              "      </script>\n",
              "    </div>\n",
              "  </div>\n",
              "  "
            ]
          },
          "metadata": {},
          "execution_count": 19
        }
      ]
    },
    {
      "cell_type": "code",
      "source": [
        "movierating[movierating.duplicated()]"
      ],
      "metadata": {
        "colab": {
          "base_uri": "https://localhost:8080/",
          "height": 49
        },
        "id": "Iiv04Jbfdz-N",
        "outputId": "15d2357c-77ce-4ceb-ce6e-d28743e750d0"
      },
      "execution_count": null,
      "outputs": [
        {
          "output_type": "execute_result",
          "data": {
            "text/plain": [
              "Empty DataFrame\n",
              "Columns: [movieId, title, genres, userId, rating, timestamp]\n",
              "Index: []"
            ],
            "text/html": [
              "\n",
              "  <div id=\"df-865b25c0-c631-4496-ad81-f0fe9705e27f\">\n",
              "    <div class=\"colab-df-container\">\n",
              "      <div>\n",
              "<style scoped>\n",
              "    .dataframe tbody tr th:only-of-type {\n",
              "        vertical-align: middle;\n",
              "    }\n",
              "\n",
              "    .dataframe tbody tr th {\n",
              "        vertical-align: top;\n",
              "    }\n",
              "\n",
              "    .dataframe thead th {\n",
              "        text-align: right;\n",
              "    }\n",
              "</style>\n",
              "<table border=\"1\" class=\"dataframe\">\n",
              "  <thead>\n",
              "    <tr style=\"text-align: right;\">\n",
              "      <th></th>\n",
              "      <th>movieId</th>\n",
              "      <th>title</th>\n",
              "      <th>genres</th>\n",
              "      <th>userId</th>\n",
              "      <th>rating</th>\n",
              "      <th>timestamp</th>\n",
              "    </tr>\n",
              "  </thead>\n",
              "  <tbody>\n",
              "  </tbody>\n",
              "</table>\n",
              "</div>\n",
              "      <button class=\"colab-df-convert\" onclick=\"convertToInteractive('df-865b25c0-c631-4496-ad81-f0fe9705e27f')\"\n",
              "              title=\"Convert this dataframe to an interactive table.\"\n",
              "              style=\"display:none;\">\n",
              "        \n",
              "  <svg xmlns=\"http://www.w3.org/2000/svg\" height=\"24px\"viewBox=\"0 0 24 24\"\n",
              "       width=\"24px\">\n",
              "    <path d=\"M0 0h24v24H0V0z\" fill=\"none\"/>\n",
              "    <path d=\"M18.56 5.44l.94 2.06.94-2.06 2.06-.94-2.06-.94-.94-2.06-.94 2.06-2.06.94zm-11 1L8.5 8.5l.94-2.06 2.06-.94-2.06-.94L8.5 2.5l-.94 2.06-2.06.94zm10 10l.94 2.06.94-2.06 2.06-.94-2.06-.94-.94-2.06-.94 2.06-2.06.94z\"/><path d=\"M17.41 7.96l-1.37-1.37c-.4-.4-.92-.59-1.43-.59-.52 0-1.04.2-1.43.59L10.3 9.45l-7.72 7.72c-.78.78-.78 2.05 0 2.83L4 21.41c.39.39.9.59 1.41.59.51 0 1.02-.2 1.41-.59l7.78-7.78 2.81-2.81c.8-.78.8-2.07 0-2.86zM5.41 20L4 18.59l7.72-7.72 1.47 1.35L5.41 20z\"/>\n",
              "  </svg>\n",
              "      </button>\n",
              "      \n",
              "  <style>\n",
              "    .colab-df-container {\n",
              "      display:flex;\n",
              "      flex-wrap:wrap;\n",
              "      gap: 12px;\n",
              "    }\n",
              "\n",
              "    .colab-df-convert {\n",
              "      background-color: #E8F0FE;\n",
              "      border: none;\n",
              "      border-radius: 50%;\n",
              "      cursor: pointer;\n",
              "      display: none;\n",
              "      fill: #1967D2;\n",
              "      height: 32px;\n",
              "      padding: 0 0 0 0;\n",
              "      width: 32px;\n",
              "    }\n",
              "\n",
              "    .colab-df-convert:hover {\n",
              "      background-color: #E2EBFA;\n",
              "      box-shadow: 0px 1px 2px rgba(60, 64, 67, 0.3), 0px 1px 3px 1px rgba(60, 64, 67, 0.15);\n",
              "      fill: #174EA6;\n",
              "    }\n",
              "\n",
              "    [theme=dark] .colab-df-convert {\n",
              "      background-color: #3B4455;\n",
              "      fill: #D2E3FC;\n",
              "    }\n",
              "\n",
              "    [theme=dark] .colab-df-convert:hover {\n",
              "      background-color: #434B5C;\n",
              "      box-shadow: 0px 1px 3px 1px rgba(0, 0, 0, 0.15);\n",
              "      filter: drop-shadow(0px 1px 2px rgba(0, 0, 0, 0.3));\n",
              "      fill: #FFFFFF;\n",
              "    }\n",
              "  </style>\n",
              "\n",
              "      <script>\n",
              "        const buttonEl =\n",
              "          document.querySelector('#df-865b25c0-c631-4496-ad81-f0fe9705e27f button.colab-df-convert');\n",
              "        buttonEl.style.display =\n",
              "          google.colab.kernel.accessAllowed ? 'block' : 'none';\n",
              "\n",
              "        async function convertToInteractive(key) {\n",
              "          const element = document.querySelector('#df-865b25c0-c631-4496-ad81-f0fe9705e27f');\n",
              "          const dataTable =\n",
              "            await google.colab.kernel.invokeFunction('convertToInteractive',\n",
              "                                                     [key], {});\n",
              "          if (!dataTable) return;\n",
              "\n",
              "          const docLinkHtml = 'Like what you see? Visit the ' +\n",
              "            '<a target=\"_blank\" href=https://colab.research.google.com/notebooks/data_table.ipynb>data table notebook</a>'\n",
              "            + ' to learn more about interactive tables.';\n",
              "          element.innerHTML = '';\n",
              "          dataTable['output_type'] = 'display_data';\n",
              "          await google.colab.output.renderOutput(dataTable, element);\n",
              "          const docLink = document.createElement('div');\n",
              "          docLink.innerHTML = docLinkHtml;\n",
              "          element.appendChild(docLink);\n",
              "        }\n",
              "      </script>\n",
              "    </div>\n",
              "  </div>\n",
              "  "
            ]
          },
          "metadata": {},
          "execution_count": 20
        }
      ]
    },
    {
      "cell_type": "markdown",
      "source": [
        "## 4.3 Pemisahan Genre pada Dataset Movies"
      ],
      "metadata": {
        "id": "N4rbH_nzNFuH"
      }
    },
    {
      "cell_type": "markdown",
      "source": [
        "Melakukan pemisahan banyak genre yang tergabung pada dataset menjadi masing-masing genre terpisah."
      ],
      "metadata": {
        "id": "pwlPvzJWyTZ5"
      }
    },
    {
      "cell_type": "code",
      "source": [
        "movies_new = movies.assign(genres=movies.genres.str.split('|')).explode('genres').reset_index(drop=True)\n",
        "movies_new"
      ],
      "metadata": {
        "colab": {
          "base_uri": "https://localhost:8080/",
          "height": 424
        },
        "id": "Nw4a8A-afIIa",
        "outputId": "ea265ec0-3fc4-4068-cd21-55fc4c181f44"
      },
      "execution_count": null,
      "outputs": [
        {
          "output_type": "execute_result",
          "data": {
            "text/plain": [
              "       movieId                                title     genres\n",
              "0            1                     Toy Story (1995)  Adventure\n",
              "1            1                     Toy Story (1995)  Animation\n",
              "2            1                     Toy Story (1995)   Children\n",
              "3            1                     Toy Story (1995)     Comedy\n",
              "4            1                     Toy Story (1995)    Fantasy\n",
              "...        ...                                  ...        ...\n",
              "22079   193583         No Game No Life: Zero (2017)    Fantasy\n",
              "22080   193585                         Flint (2017)      Drama\n",
              "22081   193587  Bungo Stray Dogs: Dead Apple (2018)     Action\n",
              "22082   193587  Bungo Stray Dogs: Dead Apple (2018)  Animation\n",
              "22083   193609  Andrew Dice Clay: Dice Rules (1991)     Comedy\n",
              "\n",
              "[22084 rows x 3 columns]"
            ],
            "text/html": [
              "\n",
              "  <div id=\"df-83956759-42f4-4a4d-b0a3-e5616cc4299c\">\n",
              "    <div class=\"colab-df-container\">\n",
              "      <div>\n",
              "<style scoped>\n",
              "    .dataframe tbody tr th:only-of-type {\n",
              "        vertical-align: middle;\n",
              "    }\n",
              "\n",
              "    .dataframe tbody tr th {\n",
              "        vertical-align: top;\n",
              "    }\n",
              "\n",
              "    .dataframe thead th {\n",
              "        text-align: right;\n",
              "    }\n",
              "</style>\n",
              "<table border=\"1\" class=\"dataframe\">\n",
              "  <thead>\n",
              "    <tr style=\"text-align: right;\">\n",
              "      <th></th>\n",
              "      <th>movieId</th>\n",
              "      <th>title</th>\n",
              "      <th>genres</th>\n",
              "    </tr>\n",
              "  </thead>\n",
              "  <tbody>\n",
              "    <tr>\n",
              "      <th>0</th>\n",
              "      <td>1</td>\n",
              "      <td>Toy Story (1995)</td>\n",
              "      <td>Adventure</td>\n",
              "    </tr>\n",
              "    <tr>\n",
              "      <th>1</th>\n",
              "      <td>1</td>\n",
              "      <td>Toy Story (1995)</td>\n",
              "      <td>Animation</td>\n",
              "    </tr>\n",
              "    <tr>\n",
              "      <th>2</th>\n",
              "      <td>1</td>\n",
              "      <td>Toy Story (1995)</td>\n",
              "      <td>Children</td>\n",
              "    </tr>\n",
              "    <tr>\n",
              "      <th>3</th>\n",
              "      <td>1</td>\n",
              "      <td>Toy Story (1995)</td>\n",
              "      <td>Comedy</td>\n",
              "    </tr>\n",
              "    <tr>\n",
              "      <th>4</th>\n",
              "      <td>1</td>\n",
              "      <td>Toy Story (1995)</td>\n",
              "      <td>Fantasy</td>\n",
              "    </tr>\n",
              "    <tr>\n",
              "      <th>...</th>\n",
              "      <td>...</td>\n",
              "      <td>...</td>\n",
              "      <td>...</td>\n",
              "    </tr>\n",
              "    <tr>\n",
              "      <th>22079</th>\n",
              "      <td>193583</td>\n",
              "      <td>No Game No Life: Zero (2017)</td>\n",
              "      <td>Fantasy</td>\n",
              "    </tr>\n",
              "    <tr>\n",
              "      <th>22080</th>\n",
              "      <td>193585</td>\n",
              "      <td>Flint (2017)</td>\n",
              "      <td>Drama</td>\n",
              "    </tr>\n",
              "    <tr>\n",
              "      <th>22081</th>\n",
              "      <td>193587</td>\n",
              "      <td>Bungo Stray Dogs: Dead Apple (2018)</td>\n",
              "      <td>Action</td>\n",
              "    </tr>\n",
              "    <tr>\n",
              "      <th>22082</th>\n",
              "      <td>193587</td>\n",
              "      <td>Bungo Stray Dogs: Dead Apple (2018)</td>\n",
              "      <td>Animation</td>\n",
              "    </tr>\n",
              "    <tr>\n",
              "      <th>22083</th>\n",
              "      <td>193609</td>\n",
              "      <td>Andrew Dice Clay: Dice Rules (1991)</td>\n",
              "      <td>Comedy</td>\n",
              "    </tr>\n",
              "  </tbody>\n",
              "</table>\n",
              "<p>22084 rows × 3 columns</p>\n",
              "</div>\n",
              "      <button class=\"colab-df-convert\" onclick=\"convertToInteractive('df-83956759-42f4-4a4d-b0a3-e5616cc4299c')\"\n",
              "              title=\"Convert this dataframe to an interactive table.\"\n",
              "              style=\"display:none;\">\n",
              "        \n",
              "  <svg xmlns=\"http://www.w3.org/2000/svg\" height=\"24px\"viewBox=\"0 0 24 24\"\n",
              "       width=\"24px\">\n",
              "    <path d=\"M0 0h24v24H0V0z\" fill=\"none\"/>\n",
              "    <path d=\"M18.56 5.44l.94 2.06.94-2.06 2.06-.94-2.06-.94-.94-2.06-.94 2.06-2.06.94zm-11 1L8.5 8.5l.94-2.06 2.06-.94-2.06-.94L8.5 2.5l-.94 2.06-2.06.94zm10 10l.94 2.06.94-2.06 2.06-.94-2.06-.94-.94-2.06-.94 2.06-2.06.94z\"/><path d=\"M17.41 7.96l-1.37-1.37c-.4-.4-.92-.59-1.43-.59-.52 0-1.04.2-1.43.59L10.3 9.45l-7.72 7.72c-.78.78-.78 2.05 0 2.83L4 21.41c.39.39.9.59 1.41.59.51 0 1.02-.2 1.41-.59l7.78-7.78 2.81-2.81c.8-.78.8-2.07 0-2.86zM5.41 20L4 18.59l7.72-7.72 1.47 1.35L5.41 20z\"/>\n",
              "  </svg>\n",
              "      </button>\n",
              "      \n",
              "  <style>\n",
              "    .colab-df-container {\n",
              "      display:flex;\n",
              "      flex-wrap:wrap;\n",
              "      gap: 12px;\n",
              "    }\n",
              "\n",
              "    .colab-df-convert {\n",
              "      background-color: #E8F0FE;\n",
              "      border: none;\n",
              "      border-radius: 50%;\n",
              "      cursor: pointer;\n",
              "      display: none;\n",
              "      fill: #1967D2;\n",
              "      height: 32px;\n",
              "      padding: 0 0 0 0;\n",
              "      width: 32px;\n",
              "    }\n",
              "\n",
              "    .colab-df-convert:hover {\n",
              "      background-color: #E2EBFA;\n",
              "      box-shadow: 0px 1px 2px rgba(60, 64, 67, 0.3), 0px 1px 3px 1px rgba(60, 64, 67, 0.15);\n",
              "      fill: #174EA6;\n",
              "    }\n",
              "\n",
              "    [theme=dark] .colab-df-convert {\n",
              "      background-color: #3B4455;\n",
              "      fill: #D2E3FC;\n",
              "    }\n",
              "\n",
              "    [theme=dark] .colab-df-convert:hover {\n",
              "      background-color: #434B5C;\n",
              "      box-shadow: 0px 1px 3px 1px rgba(0, 0, 0, 0.15);\n",
              "      filter: drop-shadow(0px 1px 2px rgba(0, 0, 0, 0.3));\n",
              "      fill: #FFFFFF;\n",
              "    }\n",
              "  </style>\n",
              "\n",
              "      <script>\n",
              "        const buttonEl =\n",
              "          document.querySelector('#df-83956759-42f4-4a4d-b0a3-e5616cc4299c button.colab-df-convert');\n",
              "        buttonEl.style.display =\n",
              "          google.colab.kernel.accessAllowed ? 'block' : 'none';\n",
              "\n",
              "        async function convertToInteractive(key) {\n",
              "          const element = document.querySelector('#df-83956759-42f4-4a4d-b0a3-e5616cc4299c');\n",
              "          const dataTable =\n",
              "            await google.colab.kernel.invokeFunction('convertToInteractive',\n",
              "                                                     [key], {});\n",
              "          if (!dataTable) return;\n",
              "\n",
              "          const docLinkHtml = 'Like what you see? Visit the ' +\n",
              "            '<a target=\"_blank\" href=https://colab.research.google.com/notebooks/data_table.ipynb>data table notebook</a>'\n",
              "            + ' to learn more about interactive tables.';\n",
              "          element.innerHTML = '';\n",
              "          dataTable['output_type'] = 'display_data';\n",
              "          await google.colab.output.renderOutput(dataTable, element);\n",
              "          const docLink = document.createElement('div');\n",
              "          docLink.innerHTML = docLinkHtml;\n",
              "          element.appendChild(docLink);\n",
              "        }\n",
              "      </script>\n",
              "    </div>\n",
              "  </div>\n",
              "  "
            ]
          },
          "metadata": {},
          "execution_count": 21
        }
      ]
    },
    {
      "cell_type": "markdown",
      "source": [
        "# **5. Modeling**"
      ],
      "metadata": {
        "id": "d0dMe3rFNeCP"
      }
    },
    {
      "cell_type": "markdown",
      "source": [
        "Tahap pengembangan model machine learning atau modeling sistem rekomendasi dilakukan untuk memberikan hasil rekomendasi film terbaik kepada pengguna tertentu berdasarkan rating atau penilaian pengguna terhadap film tersebut. Tahap modeling yang dilakukan menggunakan teknik pendekatan content-based filtering recommendation dan collaborative filtering recommendation."
      ],
      "metadata": {
        "id": "gQDrWzYkynCl"
      }
    },
    {
      "cell_type": "code",
      "source": [
        "movies = movies[:10000]\n",
        "ratings = ratings[:5000]"
      ],
      "metadata": {
        "id": "6sfvhlWOyW5x"
      },
      "execution_count": null,
      "outputs": []
    },
    {
      "cell_type": "markdown",
      "source": [
        "## 5.1 Model Development dengan Content-based"
      ],
      "metadata": {
        "id": "GmgHVlDfy3ee"
      }
    },
    {
      "cell_type": "markdown",
      "source": [
        "Content-based filtering adalah teknik merekomendasikan item yang mirip dengan item yang disukai pengguna di masa lalu. Content-based filtering mempelajari profil minat pengguna baru berdasarkan data dari objek yang telah dinilai pengguna. Algoritma ini bekerja dengan menyarankan item serupa yang pernah disukai di masa lalu atau sedang dilihat di masa kini kepada pengguna. Semakin banyak informasi yang diberikan pengguna, semakin baik akurasi sistem rekomendasi."
      ],
      "metadata": {
        "id": "Afu1Lj36FtwV"
      }
    },
    {
      "cell_type": "markdown",
      "source": [
        "### 5.1.1 TF-IDF Vectorizer"
      ],
      "metadata": {
        "id": "HnUTiIP3zOOP"
      }
    },
    {
      "cell_type": "markdown",
      "source": [
        "TF-IDF Vectorizer digunakan untuk menemukan representasi fitur penting dari setiap kategori film. TF-IDF Vectorizer dari library scikit-learn akan melakukan vektorisasi nilai dengan menggunakan metode fit_transform dan transform, serta melakukan tokenisasi data secara langsung."
      ],
      "metadata": {
        "id": "btgnpipDGD_5"
      }
    },
    {
      "cell_type": "code",
      "source": [
        "from sklearn.feature_extraction.text import TfidfVectorizer\n",
        "\n",
        "tf = TfidfVectorizer()\n",
        "\n",
        "tf.fit(movies_new['genres']) \n",
        "\n",
        "tf.get_feature_names() "
      ],
      "metadata": {
        "id": "nR4NByzCeSss",
        "colab": {
          "base_uri": "https://localhost:8080/"
        },
        "outputId": "9bc2402a-0baa-45ad-e311-32d67fe833c4"
      },
      "execution_count": null,
      "outputs": [
        {
          "output_type": "stream",
          "name": "stderr",
          "text": [
            "/usr/local/lib/python3.7/dist-packages/sklearn/utils/deprecation.py:87: FutureWarning: Function get_feature_names is deprecated; get_feature_names is deprecated in 1.0 and will be removed in 1.2. Please use get_feature_names_out instead.\n",
            "  warnings.warn(msg, category=FutureWarning)\n"
          ]
        },
        {
          "output_type": "execute_result",
          "data": {
            "text/plain": [
              "['action',\n",
              " 'adventure',\n",
              " 'animation',\n",
              " 'children',\n",
              " 'comedy',\n",
              " 'crime',\n",
              " 'documentary',\n",
              " 'drama',\n",
              " 'fantasy',\n",
              " 'fi',\n",
              " 'film',\n",
              " 'genres',\n",
              " 'horror',\n",
              " 'imax',\n",
              " 'listed',\n",
              " 'musical',\n",
              " 'mystery',\n",
              " 'no',\n",
              " 'noir',\n",
              " 'romance',\n",
              " 'sci',\n",
              " 'thriller',\n",
              " 'war',\n",
              " 'western']"
            ]
          },
          "metadata": {},
          "execution_count": 23
        }
      ]
    },
    {
      "cell_type": "markdown",
      "source": [
        "Transformasi data film pada kolom genres menjadi bentuk verktor matriks."
      ],
      "metadata": {
        "id": "KKd-jjUMJe7O"
      }
    },
    {
      "cell_type": "code",
      "source": [
        "tfidf_matrix = tf.fit_transform(movies_new['genres']) \n",
        "tfidf_matrix.shape "
      ],
      "metadata": {
        "colab": {
          "base_uri": "https://localhost:8080/"
        },
        "id": "1T3T812RhgM4",
        "outputId": "1e66b3ff-c0d7-43b2-b944-ffc5d17b9151"
      },
      "execution_count": null,
      "outputs": [
        {
          "output_type": "execute_result",
          "data": {
            "text/plain": [
              "(22084, 24)"
            ]
          },
          "metadata": {},
          "execution_count": 24
        }
      ]
    },
    {
      "cell_type": "markdown",
      "source": [
        "Mengubah bentuk vectorizer yaitu vektor menjadi bentuk matriks."
      ],
      "metadata": {
        "id": "Bt7X36TxJlzb"
      }
    },
    {
      "cell_type": "code",
      "source": [
        "tfidf_matrix.todense()"
      ],
      "metadata": {
        "colab": {
          "base_uri": "https://localhost:8080/"
        },
        "id": "xma49zsHh1sK",
        "outputId": "e12d069b-3c7b-4dea-fe34-9fcfda8351f1"
      },
      "execution_count": null,
      "outputs": [
        {
          "output_type": "execute_result",
          "data": {
            "text/plain": [
              "matrix([[0., 1., 0., ..., 0., 0., 0.],\n",
              "        [0., 0., 1., ..., 0., 0., 0.],\n",
              "        [0., 0., 0., ..., 0., 0., 0.],\n",
              "        ...,\n",
              "        [1., 0., 0., ..., 0., 0., 0.],\n",
              "        [0., 0., 1., ..., 0., 0., 0.],\n",
              "        [0., 0., 0., ..., 0., 0., 0.]])"
            ]
          },
          "metadata": {},
          "execution_count": 25
        }
      ]
    },
    {
      "cell_type": "code",
      "source": [
        "pd.DataFrame(\n",
        "    tfidf_matrix.todense(), \n",
        "    columns=tf.get_feature_names_out(),\n",
        "    index=movies_new.title\n",
        ").sample(24, axis=1).sample(10, axis=0)"
      ],
      "metadata": {
        "colab": {
          "base_uri": "https://localhost:8080/",
          "height": 887
        },
        "id": "uWunvBPGioYc",
        "outputId": "1cfdaab5-72d9-4eb7-a230-d059cdde2765"
      },
      "execution_count": null,
      "outputs": [
        {
          "output_type": "execute_result",
          "data": {
            "text/plain": [
              "                                   thriller   genres  mystery  noir       no  \\\n",
              "title                                                                          \n",
              "Stalingrad (2013)                       0.0  0.00000      0.0   0.0  0.00000   \n",
              "Carry on Cabby (1963)                   0.0  0.00000      0.0   0.0  0.00000   \n",
              "The Amazing Screw-On Head (2006)        0.0  0.00000      0.0   0.0  0.00000   \n",
              "Stargate (1994)                         0.0  0.00000      0.0   0.0  0.00000   \n",
              "Addiction, The (1995)                   0.0  0.00000      0.0   0.0  0.00000   \n",
              "Ali Wong: Baby Cobra (2016)             0.0  0.57735      0.0   0.0  0.57735   \n",
              "Great Mouse Detective, The (1986)       0.0  0.00000      0.0   0.0  0.00000   \n",
              "Alone in the Dark (2005)                0.0  0.00000      0.0   0.0  0.00000   \n",
              "Sum of All Fears, The (2002)            1.0  0.00000      0.0   0.0  0.00000   \n",
              "Carrie (2002)                           0.0  0.00000      0.0   0.0  0.00000   \n",
              "\n",
              "                                   action        fi  drama  imax  western  \\\n",
              "title                                                                       \n",
              "Stalingrad (2013)                     0.0  0.000000    1.0   0.0      0.0   \n",
              "Carry on Cabby (1963)                 0.0  0.000000    0.0   0.0      0.0   \n",
              "The Amazing Screw-On Head (2006)      0.0  0.000000    0.0   0.0      0.0   \n",
              "Stargate (1994)                       0.0  0.707107    0.0   0.0      0.0   \n",
              "Addiction, The (1995)                 0.0  0.000000    1.0   0.0      0.0   \n",
              "Ali Wong: Baby Cobra (2016)           0.0  0.000000    0.0   0.0      0.0   \n",
              "Great Mouse Detective, The (1986)     0.0  0.000000    0.0   0.0      0.0   \n",
              "Alone in the Dark (2005)              0.0  0.000000    0.0   0.0      0.0   \n",
              "Sum of All Fears, The (2002)          0.0  0.000000    0.0   0.0      0.0   \n",
              "Carrie (2002)                         0.0  0.000000    1.0   0.0      0.0   \n",
              "\n",
              "                                   ...  adventure  fantasy  war       sci  \\\n",
              "title                              ...                                      \n",
              "Stalingrad (2013)                  ...        0.0      0.0  0.0  0.000000   \n",
              "Carry on Cabby (1963)              ...        0.0      0.0  0.0  0.000000   \n",
              "The Amazing Screw-On Head (2006)   ...        1.0      0.0  0.0  0.000000   \n",
              "Stargate (1994)                    ...        0.0      0.0  0.0  0.707107   \n",
              "Addiction, The (1995)              ...        0.0      0.0  0.0  0.000000   \n",
              "Ali Wong: Baby Cobra (2016)        ...        0.0      0.0  0.0  0.000000   \n",
              "Great Mouse Detective, The (1986)  ...        0.0      0.0  0.0  0.000000   \n",
              "Alone in the Dark (2005)           ...        0.0      0.0  0.0  0.000000   \n",
              "Sum of All Fears, The (2002)       ...        0.0      0.0  0.0  0.000000   \n",
              "Carrie (2002)                      ...        0.0      0.0  0.0  0.000000   \n",
              "\n",
              "                                   comedy  animation  children  horror  \\\n",
              "title                                                                    \n",
              "Stalingrad (2013)                     0.0        0.0       0.0     0.0   \n",
              "Carry on Cabby (1963)                 0.0        0.0       0.0     0.0   \n",
              "The Amazing Screw-On Head (2006)      0.0        0.0       0.0     0.0   \n",
              "Stargate (1994)                       0.0        0.0       0.0     0.0   \n",
              "Addiction, The (1995)                 0.0        0.0       0.0     0.0   \n",
              "Ali Wong: Baby Cobra (2016)           0.0        0.0       0.0     0.0   \n",
              "Great Mouse Detective, The (1986)     0.0        0.0       0.0     0.0   \n",
              "Alone in the Dark (2005)              0.0        0.0       0.0     1.0   \n",
              "Sum of All Fears, The (2002)          0.0        0.0       0.0     0.0   \n",
              "Carrie (2002)                         0.0        0.0       0.0     0.0   \n",
              "\n",
              "                                   documentary  musical  \n",
              "title                                                    \n",
              "Stalingrad (2013)                          0.0      0.0  \n",
              "Carry on Cabby (1963)                      0.0      0.0  \n",
              "The Amazing Screw-On Head (2006)           0.0      0.0  \n",
              "Stargate (1994)                            0.0      0.0  \n",
              "Addiction, The (1995)                      0.0      0.0  \n",
              "Ali Wong: Baby Cobra (2016)                0.0      0.0  \n",
              "Great Mouse Detective, The (1986)          0.0      0.0  \n",
              "Alone in the Dark (2005)                   0.0      0.0  \n",
              "Sum of All Fears, The (2002)               0.0      0.0  \n",
              "Carrie (2002)                              0.0      0.0  \n",
              "\n",
              "[10 rows x 24 columns]"
            ],
            "text/html": [
              "\n",
              "  <div id=\"df-6376923c-afcd-487f-8ecf-8256822ed991\">\n",
              "    <div class=\"colab-df-container\">\n",
              "      <div>\n",
              "<style scoped>\n",
              "    .dataframe tbody tr th:only-of-type {\n",
              "        vertical-align: middle;\n",
              "    }\n",
              "\n",
              "    .dataframe tbody tr th {\n",
              "        vertical-align: top;\n",
              "    }\n",
              "\n",
              "    .dataframe thead th {\n",
              "        text-align: right;\n",
              "    }\n",
              "</style>\n",
              "<table border=\"1\" class=\"dataframe\">\n",
              "  <thead>\n",
              "    <tr style=\"text-align: right;\">\n",
              "      <th></th>\n",
              "      <th>thriller</th>\n",
              "      <th>genres</th>\n",
              "      <th>mystery</th>\n",
              "      <th>noir</th>\n",
              "      <th>no</th>\n",
              "      <th>action</th>\n",
              "      <th>fi</th>\n",
              "      <th>drama</th>\n",
              "      <th>imax</th>\n",
              "      <th>western</th>\n",
              "      <th>...</th>\n",
              "      <th>adventure</th>\n",
              "      <th>fantasy</th>\n",
              "      <th>war</th>\n",
              "      <th>sci</th>\n",
              "      <th>comedy</th>\n",
              "      <th>animation</th>\n",
              "      <th>children</th>\n",
              "      <th>horror</th>\n",
              "      <th>documentary</th>\n",
              "      <th>musical</th>\n",
              "    </tr>\n",
              "    <tr>\n",
              "      <th>title</th>\n",
              "      <th></th>\n",
              "      <th></th>\n",
              "      <th></th>\n",
              "      <th></th>\n",
              "      <th></th>\n",
              "      <th></th>\n",
              "      <th></th>\n",
              "      <th></th>\n",
              "      <th></th>\n",
              "      <th></th>\n",
              "      <th></th>\n",
              "      <th></th>\n",
              "      <th></th>\n",
              "      <th></th>\n",
              "      <th></th>\n",
              "      <th></th>\n",
              "      <th></th>\n",
              "      <th></th>\n",
              "      <th></th>\n",
              "      <th></th>\n",
              "      <th></th>\n",
              "    </tr>\n",
              "  </thead>\n",
              "  <tbody>\n",
              "    <tr>\n",
              "      <th>Stalingrad (2013)</th>\n",
              "      <td>0.0</td>\n",
              "      <td>0.00000</td>\n",
              "      <td>0.0</td>\n",
              "      <td>0.0</td>\n",
              "      <td>0.00000</td>\n",
              "      <td>0.0</td>\n",
              "      <td>0.000000</td>\n",
              "      <td>1.0</td>\n",
              "      <td>0.0</td>\n",
              "      <td>0.0</td>\n",
              "      <td>...</td>\n",
              "      <td>0.0</td>\n",
              "      <td>0.0</td>\n",
              "      <td>0.0</td>\n",
              "      <td>0.000000</td>\n",
              "      <td>0.0</td>\n",
              "      <td>0.0</td>\n",
              "      <td>0.0</td>\n",
              "      <td>0.0</td>\n",
              "      <td>0.0</td>\n",
              "      <td>0.0</td>\n",
              "    </tr>\n",
              "    <tr>\n",
              "      <th>Carry on Cabby (1963)</th>\n",
              "      <td>0.0</td>\n",
              "      <td>0.00000</td>\n",
              "      <td>0.0</td>\n",
              "      <td>0.0</td>\n",
              "      <td>0.00000</td>\n",
              "      <td>0.0</td>\n",
              "      <td>0.000000</td>\n",
              "      <td>0.0</td>\n",
              "      <td>0.0</td>\n",
              "      <td>0.0</td>\n",
              "      <td>...</td>\n",
              "      <td>0.0</td>\n",
              "      <td>0.0</td>\n",
              "      <td>0.0</td>\n",
              "      <td>0.000000</td>\n",
              "      <td>0.0</td>\n",
              "      <td>0.0</td>\n",
              "      <td>0.0</td>\n",
              "      <td>0.0</td>\n",
              "      <td>0.0</td>\n",
              "      <td>0.0</td>\n",
              "    </tr>\n",
              "    <tr>\n",
              "      <th>The Amazing Screw-On Head (2006)</th>\n",
              "      <td>0.0</td>\n",
              "      <td>0.00000</td>\n",
              "      <td>0.0</td>\n",
              "      <td>0.0</td>\n",
              "      <td>0.00000</td>\n",
              "      <td>0.0</td>\n",
              "      <td>0.000000</td>\n",
              "      <td>0.0</td>\n",
              "      <td>0.0</td>\n",
              "      <td>0.0</td>\n",
              "      <td>...</td>\n",
              "      <td>1.0</td>\n",
              "      <td>0.0</td>\n",
              "      <td>0.0</td>\n",
              "      <td>0.000000</td>\n",
              "      <td>0.0</td>\n",
              "      <td>0.0</td>\n",
              "      <td>0.0</td>\n",
              "      <td>0.0</td>\n",
              "      <td>0.0</td>\n",
              "      <td>0.0</td>\n",
              "    </tr>\n",
              "    <tr>\n",
              "      <th>Stargate (1994)</th>\n",
              "      <td>0.0</td>\n",
              "      <td>0.00000</td>\n",
              "      <td>0.0</td>\n",
              "      <td>0.0</td>\n",
              "      <td>0.00000</td>\n",
              "      <td>0.0</td>\n",
              "      <td>0.707107</td>\n",
              "      <td>0.0</td>\n",
              "      <td>0.0</td>\n",
              "      <td>0.0</td>\n",
              "      <td>...</td>\n",
              "      <td>0.0</td>\n",
              "      <td>0.0</td>\n",
              "      <td>0.0</td>\n",
              "      <td>0.707107</td>\n",
              "      <td>0.0</td>\n",
              "      <td>0.0</td>\n",
              "      <td>0.0</td>\n",
              "      <td>0.0</td>\n",
              "      <td>0.0</td>\n",
              "      <td>0.0</td>\n",
              "    </tr>\n",
              "    <tr>\n",
              "      <th>Addiction, The (1995)</th>\n",
              "      <td>0.0</td>\n",
              "      <td>0.00000</td>\n",
              "      <td>0.0</td>\n",
              "      <td>0.0</td>\n",
              "      <td>0.00000</td>\n",
              "      <td>0.0</td>\n",
              "      <td>0.000000</td>\n",
              "      <td>1.0</td>\n",
              "      <td>0.0</td>\n",
              "      <td>0.0</td>\n",
              "      <td>...</td>\n",
              "      <td>0.0</td>\n",
              "      <td>0.0</td>\n",
              "      <td>0.0</td>\n",
              "      <td>0.000000</td>\n",
              "      <td>0.0</td>\n",
              "      <td>0.0</td>\n",
              "      <td>0.0</td>\n",
              "      <td>0.0</td>\n",
              "      <td>0.0</td>\n",
              "      <td>0.0</td>\n",
              "    </tr>\n",
              "    <tr>\n",
              "      <th>Ali Wong: Baby Cobra (2016)</th>\n",
              "      <td>0.0</td>\n",
              "      <td>0.57735</td>\n",
              "      <td>0.0</td>\n",
              "      <td>0.0</td>\n",
              "      <td>0.57735</td>\n",
              "      <td>0.0</td>\n",
              "      <td>0.000000</td>\n",
              "      <td>0.0</td>\n",
              "      <td>0.0</td>\n",
              "      <td>0.0</td>\n",
              "      <td>...</td>\n",
              "      <td>0.0</td>\n",
              "      <td>0.0</td>\n",
              "      <td>0.0</td>\n",
              "      <td>0.000000</td>\n",
              "      <td>0.0</td>\n",
              "      <td>0.0</td>\n",
              "      <td>0.0</td>\n",
              "      <td>0.0</td>\n",
              "      <td>0.0</td>\n",
              "      <td>0.0</td>\n",
              "    </tr>\n",
              "    <tr>\n",
              "      <th>Great Mouse Detective, The (1986)</th>\n",
              "      <td>0.0</td>\n",
              "      <td>0.00000</td>\n",
              "      <td>0.0</td>\n",
              "      <td>0.0</td>\n",
              "      <td>0.00000</td>\n",
              "      <td>0.0</td>\n",
              "      <td>0.000000</td>\n",
              "      <td>0.0</td>\n",
              "      <td>0.0</td>\n",
              "      <td>0.0</td>\n",
              "      <td>...</td>\n",
              "      <td>0.0</td>\n",
              "      <td>0.0</td>\n",
              "      <td>0.0</td>\n",
              "      <td>0.000000</td>\n",
              "      <td>0.0</td>\n",
              "      <td>0.0</td>\n",
              "      <td>0.0</td>\n",
              "      <td>0.0</td>\n",
              "      <td>0.0</td>\n",
              "      <td>0.0</td>\n",
              "    </tr>\n",
              "    <tr>\n",
              "      <th>Alone in the Dark (2005)</th>\n",
              "      <td>0.0</td>\n",
              "      <td>0.00000</td>\n",
              "      <td>0.0</td>\n",
              "      <td>0.0</td>\n",
              "      <td>0.00000</td>\n",
              "      <td>0.0</td>\n",
              "      <td>0.000000</td>\n",
              "      <td>0.0</td>\n",
              "      <td>0.0</td>\n",
              "      <td>0.0</td>\n",
              "      <td>...</td>\n",
              "      <td>0.0</td>\n",
              "      <td>0.0</td>\n",
              "      <td>0.0</td>\n",
              "      <td>0.000000</td>\n",
              "      <td>0.0</td>\n",
              "      <td>0.0</td>\n",
              "      <td>0.0</td>\n",
              "      <td>1.0</td>\n",
              "      <td>0.0</td>\n",
              "      <td>0.0</td>\n",
              "    </tr>\n",
              "    <tr>\n",
              "      <th>Sum of All Fears, The (2002)</th>\n",
              "      <td>1.0</td>\n",
              "      <td>0.00000</td>\n",
              "      <td>0.0</td>\n",
              "      <td>0.0</td>\n",
              "      <td>0.00000</td>\n",
              "      <td>0.0</td>\n",
              "      <td>0.000000</td>\n",
              "      <td>0.0</td>\n",
              "      <td>0.0</td>\n",
              "      <td>0.0</td>\n",
              "      <td>...</td>\n",
              "      <td>0.0</td>\n",
              "      <td>0.0</td>\n",
              "      <td>0.0</td>\n",
              "      <td>0.000000</td>\n",
              "      <td>0.0</td>\n",
              "      <td>0.0</td>\n",
              "      <td>0.0</td>\n",
              "      <td>0.0</td>\n",
              "      <td>0.0</td>\n",
              "      <td>0.0</td>\n",
              "    </tr>\n",
              "    <tr>\n",
              "      <th>Carrie (2002)</th>\n",
              "      <td>0.0</td>\n",
              "      <td>0.00000</td>\n",
              "      <td>0.0</td>\n",
              "      <td>0.0</td>\n",
              "      <td>0.00000</td>\n",
              "      <td>0.0</td>\n",
              "      <td>0.000000</td>\n",
              "      <td>1.0</td>\n",
              "      <td>0.0</td>\n",
              "      <td>0.0</td>\n",
              "      <td>...</td>\n",
              "      <td>0.0</td>\n",
              "      <td>0.0</td>\n",
              "      <td>0.0</td>\n",
              "      <td>0.000000</td>\n",
              "      <td>0.0</td>\n",
              "      <td>0.0</td>\n",
              "      <td>0.0</td>\n",
              "      <td>0.0</td>\n",
              "      <td>0.0</td>\n",
              "      <td>0.0</td>\n",
              "    </tr>\n",
              "  </tbody>\n",
              "</table>\n",
              "<p>10 rows × 24 columns</p>\n",
              "</div>\n",
              "      <button class=\"colab-df-convert\" onclick=\"convertToInteractive('df-6376923c-afcd-487f-8ecf-8256822ed991')\"\n",
              "              title=\"Convert this dataframe to an interactive table.\"\n",
              "              style=\"display:none;\">\n",
              "        \n",
              "  <svg xmlns=\"http://www.w3.org/2000/svg\" height=\"24px\"viewBox=\"0 0 24 24\"\n",
              "       width=\"24px\">\n",
              "    <path d=\"M0 0h24v24H0V0z\" fill=\"none\"/>\n",
              "    <path d=\"M18.56 5.44l.94 2.06.94-2.06 2.06-.94-2.06-.94-.94-2.06-.94 2.06-2.06.94zm-11 1L8.5 8.5l.94-2.06 2.06-.94-2.06-.94L8.5 2.5l-.94 2.06-2.06.94zm10 10l.94 2.06.94-2.06 2.06-.94-2.06-.94-.94-2.06-.94 2.06-2.06.94z\"/><path d=\"M17.41 7.96l-1.37-1.37c-.4-.4-.92-.59-1.43-.59-.52 0-1.04.2-1.43.59L10.3 9.45l-7.72 7.72c-.78.78-.78 2.05 0 2.83L4 21.41c.39.39.9.59 1.41.59.51 0 1.02-.2 1.41-.59l7.78-7.78 2.81-2.81c.8-.78.8-2.07 0-2.86zM5.41 20L4 18.59l7.72-7.72 1.47 1.35L5.41 20z\"/>\n",
              "  </svg>\n",
              "      </button>\n",
              "      \n",
              "  <style>\n",
              "    .colab-df-container {\n",
              "      display:flex;\n",
              "      flex-wrap:wrap;\n",
              "      gap: 12px;\n",
              "    }\n",
              "\n",
              "    .colab-df-convert {\n",
              "      background-color: #E8F0FE;\n",
              "      border: none;\n",
              "      border-radius: 50%;\n",
              "      cursor: pointer;\n",
              "      display: none;\n",
              "      fill: #1967D2;\n",
              "      height: 32px;\n",
              "      padding: 0 0 0 0;\n",
              "      width: 32px;\n",
              "    }\n",
              "\n",
              "    .colab-df-convert:hover {\n",
              "      background-color: #E2EBFA;\n",
              "      box-shadow: 0px 1px 2px rgba(60, 64, 67, 0.3), 0px 1px 3px 1px rgba(60, 64, 67, 0.15);\n",
              "      fill: #174EA6;\n",
              "    }\n",
              "\n",
              "    [theme=dark] .colab-df-convert {\n",
              "      background-color: #3B4455;\n",
              "      fill: #D2E3FC;\n",
              "    }\n",
              "\n",
              "    [theme=dark] .colab-df-convert:hover {\n",
              "      background-color: #434B5C;\n",
              "      box-shadow: 0px 1px 3px 1px rgba(0, 0, 0, 0.15);\n",
              "      filter: drop-shadow(0px 1px 2px rgba(0, 0, 0, 0.3));\n",
              "      fill: #FFFFFF;\n",
              "    }\n",
              "  </style>\n",
              "\n",
              "      <script>\n",
              "        const buttonEl =\n",
              "          document.querySelector('#df-6376923c-afcd-487f-8ecf-8256822ed991 button.colab-df-convert');\n",
              "        buttonEl.style.display =\n",
              "          google.colab.kernel.accessAllowed ? 'block' : 'none';\n",
              "\n",
              "        async function convertToInteractive(key) {\n",
              "          const element = document.querySelector('#df-6376923c-afcd-487f-8ecf-8256822ed991');\n",
              "          const dataTable =\n",
              "            await google.colab.kernel.invokeFunction('convertToInteractive',\n",
              "                                                     [key], {});\n",
              "          if (!dataTable) return;\n",
              "\n",
              "          const docLinkHtml = 'Like what you see? Visit the ' +\n",
              "            '<a target=\"_blank\" href=https://colab.research.google.com/notebooks/data_table.ipynb>data table notebook</a>'\n",
              "            + ' to learn more about interactive tables.';\n",
              "          element.innerHTML = '';\n",
              "          dataTable['output_type'] = 'display_data';\n",
              "          await google.colab.output.renderOutput(dataTable, element);\n",
              "          const docLink = document.createElement('div');\n",
              "          docLink.innerHTML = docLinkHtml;\n",
              "          element.appendChild(docLink);\n",
              "        }\n",
              "      </script>\n",
              "    </div>\n",
              "  </div>\n",
              "  "
            ]
          },
          "metadata": {},
          "execution_count": 47
        }
      ]
    },
    {
      "cell_type": "markdown",
      "source": [
        "### 5.1.2 Cosine Similarity"
      ],
      "metadata": {
        "id": "SRktHK3NzX2W"
      }
    },
    {
      "cell_type": "markdown",
      "source": [
        "Melakukan perhitungan derajat kesamaan atau similatiry degree antar judul film dengan teknik cosine similarity menggunakan library scikit-learn."
      ],
      "metadata": {
        "id": "aoJzHtzlJ7xA"
      }
    },
    {
      "cell_type": "code",
      "source": [
        "from sklearn.metrics.pairwise import cosine_similarity\n",
        "\n",
        "cosine_sim = cosine_similarity(tfidf_matrix) \n",
        "cosine_sim"
      ],
      "metadata": {
        "colab": {
          "base_uri": "https://localhost:8080/"
        },
        "id": "e5QF6uM4izC7",
        "outputId": "e8f77b7c-fe39-4ac8-931b-51935d1afd50"
      },
      "execution_count": null,
      "outputs": [
        {
          "output_type": "execute_result",
          "data": {
            "text/plain": [
              "array([[1., 0., 0., ..., 0., 0., 0.],\n",
              "       [0., 1., 0., ..., 0., 1., 0.],\n",
              "       [0., 0., 1., ..., 0., 0., 0.],\n",
              "       ...,\n",
              "       [0., 0., 0., ..., 1., 0., 0.],\n",
              "       [0., 1., 0., ..., 0., 1., 0.],\n",
              "       [0., 0., 0., ..., 0., 0., 1.]])"
            ]
          },
          "metadata": {},
          "execution_count": 48
        }
      ]
    },
    {
      "cell_type": "markdown",
      "source": [
        "Mengubah matriks cosine similarity menjadi bentuk dataframe antar judul film."
      ],
      "metadata": {
        "id": "MLhAclt8KOx8"
      }
    },
    {
      "cell_type": "code",
      "source": [
        "cosine_sim_df = pd.DataFrame(cosine_sim, index=movies_new['title'], columns=movies_new['title'])\n",
        "print('Shape:', cosine_sim_df.shape)\n",
        "\n",
        "cosine_sim_df.sample(5, axis=1).sample(10, axis=0)"
      ],
      "metadata": {
        "colab": {
          "base_uri": "https://localhost:8080/",
          "height": 525
        },
        "id": "ixK7M4G4lE85",
        "outputId": "ab12f437-09bb-4f3e-8ef3-610e08f4d720"
      },
      "execution_count": null,
      "outputs": [
        {
          "output_type": "stream",
          "name": "stdout",
          "text": [
            "Shape: (22084, 22084)\n"
          ]
        },
        {
          "output_type": "execute_result",
          "data": {
            "text/plain": [
              "title                                               Wrong Turn (2003)  \\\n",
              "title                                                                   \n",
              "Messengers, The (2007)                                            0.0   \n",
              "Scanners (1981)                                                   0.0   \n",
              "Prairie Home Companion, A (2006)                                  0.0   \n",
              "Journey to the Center of the Earth (1959)                         0.0   \n",
              "Loved Ones, The (2009)                                            0.0   \n",
              "Rome, Open City (a.k.a. Open City) (Roma, città...                0.0   \n",
              "Collateral (2004)                                                 1.0   \n",
              "Cherrybomb (2009)                                                 0.0   \n",
              "Steamboy (Suchîmubôi) (2004)                                      0.0   \n",
              "Amazing Grace (2006)                                              0.0   \n",
              "\n",
              "title                                               Marine, The (2006)  \\\n",
              "title                                                                    \n",
              "Messengers, The (2007)                                             0.0   \n",
              "Scanners (1981)                                                    0.0   \n",
              "Prairie Home Companion, A (2006)                                   0.0   \n",
              "Journey to the Center of the Earth (1959)                          0.0   \n",
              "Loved Ones, The (2009)                                             0.0   \n",
              "Rome, Open City (a.k.a. Open City) (Roma, città...                 0.0   \n",
              "Collateral (2004)                                                  1.0   \n",
              "Cherrybomb (2009)                                                  0.0   \n",
              "Steamboy (Suchîmubôi) (2004)                                       0.0   \n",
              "Amazing Grace (2006)                                               0.0   \n",
              "\n",
              "title                                               Bounce (2000)  \\\n",
              "title                                                               \n",
              "Messengers, The (2007)                                        0.0   \n",
              "Scanners (1981)                                               0.0   \n",
              "Prairie Home Companion, A (2006)                              0.0   \n",
              "Journey to the Center of the Earth (1959)                     0.0   \n",
              "Loved Ones, The (2009)                                        0.0   \n",
              "Rome, Open City (a.k.a. Open City) (Roma, città...            1.0   \n",
              "Collateral (2004)                                             0.0   \n",
              "Cherrybomb (2009)                                             1.0   \n",
              "Steamboy (Suchîmubôi) (2004)                                  0.0   \n",
              "Amazing Grace (2006)                                          1.0   \n",
              "\n",
              "title                                               Still Walking (Aruitemo aruitemo) (2008)  \\\n",
              "title                                                                                          \n",
              "Messengers, The (2007)                                                                   0.0   \n",
              "Scanners (1981)                                                                          0.0   \n",
              "Prairie Home Companion, A (2006)                                                         0.0   \n",
              "Journey to the Center of the Earth (1959)                                                0.0   \n",
              "Loved Ones, The (2009)                                                                   0.0   \n",
              "Rome, Open City (a.k.a. Open City) (Roma, città...                                       1.0   \n",
              "Collateral (2004)                                                                        0.0   \n",
              "Cherrybomb (2009)                                                                        1.0   \n",
              "Steamboy (Suchîmubôi) (2004)                                                             0.0   \n",
              "Amazing Grace (2006)                                                                     1.0   \n",
              "\n",
              "title                                               Collateral (2004)  \n",
              "title                                                                  \n",
              "Messengers, The (2007)                                            0.0  \n",
              "Scanners (1981)                                                   0.0  \n",
              "Prairie Home Companion, A (2006)                                  0.0  \n",
              "Journey to the Center of the Earth (1959)                         0.0  \n",
              "Loved Ones, The (2009)                                            0.0  \n",
              "Rome, Open City (a.k.a. Open City) (Roma, città...                0.0  \n",
              "Collateral (2004)                                                 1.0  \n",
              "Cherrybomb (2009)                                                 0.0  \n",
              "Steamboy (Suchîmubôi) (2004)                                      0.0  \n",
              "Amazing Grace (2006)                                              0.0  "
            ],
            "text/html": [
              "\n",
              "  <div id=\"df-fd1cbdaa-2a4c-4735-8a99-8735e78b4d05\">\n",
              "    <div class=\"colab-df-container\">\n",
              "      <div>\n",
              "<style scoped>\n",
              "    .dataframe tbody tr th:only-of-type {\n",
              "        vertical-align: middle;\n",
              "    }\n",
              "\n",
              "    .dataframe tbody tr th {\n",
              "        vertical-align: top;\n",
              "    }\n",
              "\n",
              "    .dataframe thead th {\n",
              "        text-align: right;\n",
              "    }\n",
              "</style>\n",
              "<table border=\"1\" class=\"dataframe\">\n",
              "  <thead>\n",
              "    <tr style=\"text-align: right;\">\n",
              "      <th>title</th>\n",
              "      <th>Wrong Turn (2003)</th>\n",
              "      <th>Marine, The (2006)</th>\n",
              "      <th>Bounce (2000)</th>\n",
              "      <th>Still Walking (Aruitemo aruitemo) (2008)</th>\n",
              "      <th>Collateral (2004)</th>\n",
              "    </tr>\n",
              "    <tr>\n",
              "      <th>title</th>\n",
              "      <th></th>\n",
              "      <th></th>\n",
              "      <th></th>\n",
              "      <th></th>\n",
              "      <th></th>\n",
              "    </tr>\n",
              "  </thead>\n",
              "  <tbody>\n",
              "    <tr>\n",
              "      <th>Messengers, The (2007)</th>\n",
              "      <td>0.0</td>\n",
              "      <td>0.0</td>\n",
              "      <td>0.0</td>\n",
              "      <td>0.0</td>\n",
              "      <td>0.0</td>\n",
              "    </tr>\n",
              "    <tr>\n",
              "      <th>Scanners (1981)</th>\n",
              "      <td>0.0</td>\n",
              "      <td>0.0</td>\n",
              "      <td>0.0</td>\n",
              "      <td>0.0</td>\n",
              "      <td>0.0</td>\n",
              "    </tr>\n",
              "    <tr>\n",
              "      <th>Prairie Home Companion, A (2006)</th>\n",
              "      <td>0.0</td>\n",
              "      <td>0.0</td>\n",
              "      <td>0.0</td>\n",
              "      <td>0.0</td>\n",
              "      <td>0.0</td>\n",
              "    </tr>\n",
              "    <tr>\n",
              "      <th>Journey to the Center of the Earth (1959)</th>\n",
              "      <td>0.0</td>\n",
              "      <td>0.0</td>\n",
              "      <td>0.0</td>\n",
              "      <td>0.0</td>\n",
              "      <td>0.0</td>\n",
              "    </tr>\n",
              "    <tr>\n",
              "      <th>Loved Ones, The (2009)</th>\n",
              "      <td>0.0</td>\n",
              "      <td>0.0</td>\n",
              "      <td>0.0</td>\n",
              "      <td>0.0</td>\n",
              "      <td>0.0</td>\n",
              "    </tr>\n",
              "    <tr>\n",
              "      <th>Rome, Open City (a.k.a. Open City) (Roma, città aperta) (1945)</th>\n",
              "      <td>0.0</td>\n",
              "      <td>0.0</td>\n",
              "      <td>1.0</td>\n",
              "      <td>1.0</td>\n",
              "      <td>0.0</td>\n",
              "    </tr>\n",
              "    <tr>\n",
              "      <th>Collateral (2004)</th>\n",
              "      <td>1.0</td>\n",
              "      <td>1.0</td>\n",
              "      <td>0.0</td>\n",
              "      <td>0.0</td>\n",
              "      <td>1.0</td>\n",
              "    </tr>\n",
              "    <tr>\n",
              "      <th>Cherrybomb (2009)</th>\n",
              "      <td>0.0</td>\n",
              "      <td>0.0</td>\n",
              "      <td>1.0</td>\n",
              "      <td>1.0</td>\n",
              "      <td>0.0</td>\n",
              "    </tr>\n",
              "    <tr>\n",
              "      <th>Steamboy (Suchîmubôi) (2004)</th>\n",
              "      <td>0.0</td>\n",
              "      <td>0.0</td>\n",
              "      <td>0.0</td>\n",
              "      <td>0.0</td>\n",
              "      <td>0.0</td>\n",
              "    </tr>\n",
              "    <tr>\n",
              "      <th>Amazing Grace (2006)</th>\n",
              "      <td>0.0</td>\n",
              "      <td>0.0</td>\n",
              "      <td>1.0</td>\n",
              "      <td>1.0</td>\n",
              "      <td>0.0</td>\n",
              "    </tr>\n",
              "  </tbody>\n",
              "</table>\n",
              "</div>\n",
              "      <button class=\"colab-df-convert\" onclick=\"convertToInteractive('df-fd1cbdaa-2a4c-4735-8a99-8735e78b4d05')\"\n",
              "              title=\"Convert this dataframe to an interactive table.\"\n",
              "              style=\"display:none;\">\n",
              "        \n",
              "  <svg xmlns=\"http://www.w3.org/2000/svg\" height=\"24px\"viewBox=\"0 0 24 24\"\n",
              "       width=\"24px\">\n",
              "    <path d=\"M0 0h24v24H0V0z\" fill=\"none\"/>\n",
              "    <path d=\"M18.56 5.44l.94 2.06.94-2.06 2.06-.94-2.06-.94-.94-2.06-.94 2.06-2.06.94zm-11 1L8.5 8.5l.94-2.06 2.06-.94-2.06-.94L8.5 2.5l-.94 2.06-2.06.94zm10 10l.94 2.06.94-2.06 2.06-.94-2.06-.94-.94-2.06-.94 2.06-2.06.94z\"/><path d=\"M17.41 7.96l-1.37-1.37c-.4-.4-.92-.59-1.43-.59-.52 0-1.04.2-1.43.59L10.3 9.45l-7.72 7.72c-.78.78-.78 2.05 0 2.83L4 21.41c.39.39.9.59 1.41.59.51 0 1.02-.2 1.41-.59l7.78-7.78 2.81-2.81c.8-.78.8-2.07 0-2.86zM5.41 20L4 18.59l7.72-7.72 1.47 1.35L5.41 20z\"/>\n",
              "  </svg>\n",
              "      </button>\n",
              "      \n",
              "  <style>\n",
              "    .colab-df-container {\n",
              "      display:flex;\n",
              "      flex-wrap:wrap;\n",
              "      gap: 12px;\n",
              "    }\n",
              "\n",
              "    .colab-df-convert {\n",
              "      background-color: #E8F0FE;\n",
              "      border: none;\n",
              "      border-radius: 50%;\n",
              "      cursor: pointer;\n",
              "      display: none;\n",
              "      fill: #1967D2;\n",
              "      height: 32px;\n",
              "      padding: 0 0 0 0;\n",
              "      width: 32px;\n",
              "    }\n",
              "\n",
              "    .colab-df-convert:hover {\n",
              "      background-color: #E2EBFA;\n",
              "      box-shadow: 0px 1px 2px rgba(60, 64, 67, 0.3), 0px 1px 3px 1px rgba(60, 64, 67, 0.15);\n",
              "      fill: #174EA6;\n",
              "    }\n",
              "\n",
              "    [theme=dark] .colab-df-convert {\n",
              "      background-color: #3B4455;\n",
              "      fill: #D2E3FC;\n",
              "    }\n",
              "\n",
              "    [theme=dark] .colab-df-convert:hover {\n",
              "      background-color: #434B5C;\n",
              "      box-shadow: 0px 1px 3px 1px rgba(0, 0, 0, 0.15);\n",
              "      filter: drop-shadow(0px 1px 2px rgba(0, 0, 0, 0.3));\n",
              "      fill: #FFFFFF;\n",
              "    }\n",
              "  </style>\n",
              "\n",
              "      <script>\n",
              "        const buttonEl =\n",
              "          document.querySelector('#df-fd1cbdaa-2a4c-4735-8a99-8735e78b4d05 button.colab-df-convert');\n",
              "        buttonEl.style.display =\n",
              "          google.colab.kernel.accessAllowed ? 'block' : 'none';\n",
              "\n",
              "        async function convertToInteractive(key) {\n",
              "          const element = document.querySelector('#df-fd1cbdaa-2a4c-4735-8a99-8735e78b4d05');\n",
              "          const dataTable =\n",
              "            await google.colab.kernel.invokeFunction('convertToInteractive',\n",
              "                                                     [key], {});\n",
              "          if (!dataTable) return;\n",
              "\n",
              "          const docLinkHtml = 'Like what you see? Visit the ' +\n",
              "            '<a target=\"_blank\" href=https://colab.research.google.com/notebooks/data_table.ipynb>data table notebook</a>'\n",
              "            + ' to learn more about interactive tables.';\n",
              "          element.innerHTML = '';\n",
              "          dataTable['output_type'] = 'display_data';\n",
              "          await google.colab.output.renderOutput(dataTable, element);\n",
              "          const docLink = document.createElement('div');\n",
              "          docLink.innerHTML = docLinkHtml;\n",
              "          element.appendChild(docLink);\n",
              "        }\n",
              "      </script>\n",
              "    </div>\n",
              "  </div>\n",
              "  "
            ]
          },
          "metadata": {},
          "execution_count": 52
        }
      ]
    },
    {
      "cell_type": "markdown",
      "source": [
        "### 5.1.3 Recommendation Testing"
      ],
      "metadata": {
        "id": "-SlrgLPnzeRI"
      }
    },
    {
      "cell_type": "markdown",
      "source": [
        "Melakukan pendefinisian fungsi movies_recommendations untuk menampilkan hasil rekomendasi film berdasarkan kesamaan genre dari sebuah judul film."
      ],
      "metadata": {
        "id": "7VmRpL_zKYW0"
      }
    },
    {
      "cell_type": "code",
      "source": [
        "def movies_recommendations(nama_movie, similarity_data=cosine_sim_df, items=movies_new[['title', 'genres']], k=5):\n",
        "    index = similarity_data.loc[:,nama_movie].to_numpy().argpartition(range(-1, -k, -1))\n",
        "    closest = similarity_data.columns[index[-1:-(k+2):-1]]\n",
        "    closest = closest.drop(nama_movie, errors='ignore')\n",
        "    return pd.DataFrame(closest).merge(items).head(k)"
      ],
      "metadata": {
        "id": "LSUWukJZltsF"
      },
      "execution_count": null,
      "outputs": []
    },
    {
      "cell_type": "code",
      "source": [
        "movie_title = 'Flint (2017)'\n",
        "movies_new[movies_new.title.eq(movie_title)]"
      ],
      "metadata": {
        "colab": {
          "base_uri": "https://localhost:8080/",
          "height": 81
        },
        "id": "mAVEIybLmeak",
        "outputId": "5af8d560-9b16-409c-a4bf-9757dee4f16d"
      },
      "execution_count": null,
      "outputs": [
        {
          "output_type": "execute_result",
          "data": {
            "text/plain": [
              "       movieId         title genres\n",
              "22080   193585  Flint (2017)  Drama"
            ],
            "text/html": [
              "\n",
              "  <div id=\"df-8357e6b0-99a0-4a35-9500-dc1a09cabe4c\">\n",
              "    <div class=\"colab-df-container\">\n",
              "      <div>\n",
              "<style scoped>\n",
              "    .dataframe tbody tr th:only-of-type {\n",
              "        vertical-align: middle;\n",
              "    }\n",
              "\n",
              "    .dataframe tbody tr th {\n",
              "        vertical-align: top;\n",
              "    }\n",
              "\n",
              "    .dataframe thead th {\n",
              "        text-align: right;\n",
              "    }\n",
              "</style>\n",
              "<table border=\"1\" class=\"dataframe\">\n",
              "  <thead>\n",
              "    <tr style=\"text-align: right;\">\n",
              "      <th></th>\n",
              "      <th>movieId</th>\n",
              "      <th>title</th>\n",
              "      <th>genres</th>\n",
              "    </tr>\n",
              "  </thead>\n",
              "  <tbody>\n",
              "    <tr>\n",
              "      <th>22080</th>\n",
              "      <td>193585</td>\n",
              "      <td>Flint (2017)</td>\n",
              "      <td>Drama</td>\n",
              "    </tr>\n",
              "  </tbody>\n",
              "</table>\n",
              "</div>\n",
              "      <button class=\"colab-df-convert\" onclick=\"convertToInteractive('df-8357e6b0-99a0-4a35-9500-dc1a09cabe4c')\"\n",
              "              title=\"Convert this dataframe to an interactive table.\"\n",
              "              style=\"display:none;\">\n",
              "        \n",
              "  <svg xmlns=\"http://www.w3.org/2000/svg\" height=\"24px\"viewBox=\"0 0 24 24\"\n",
              "       width=\"24px\">\n",
              "    <path d=\"M0 0h24v24H0V0z\" fill=\"none\"/>\n",
              "    <path d=\"M18.56 5.44l.94 2.06.94-2.06 2.06-.94-2.06-.94-.94-2.06-.94 2.06-2.06.94zm-11 1L8.5 8.5l.94-2.06 2.06-.94-2.06-.94L8.5 2.5l-.94 2.06-2.06.94zm10 10l.94 2.06.94-2.06 2.06-.94-2.06-.94-.94-2.06-.94 2.06-2.06.94z\"/><path d=\"M17.41 7.96l-1.37-1.37c-.4-.4-.92-.59-1.43-.59-.52 0-1.04.2-1.43.59L10.3 9.45l-7.72 7.72c-.78.78-.78 2.05 0 2.83L4 21.41c.39.39.9.59 1.41.59.51 0 1.02-.2 1.41-.59l7.78-7.78 2.81-2.81c.8-.78.8-2.07 0-2.86zM5.41 20L4 18.59l7.72-7.72 1.47 1.35L5.41 20z\"/>\n",
              "  </svg>\n",
              "      </button>\n",
              "      \n",
              "  <style>\n",
              "    .colab-df-container {\n",
              "      display:flex;\n",
              "      flex-wrap:wrap;\n",
              "      gap: 12px;\n",
              "    }\n",
              "\n",
              "    .colab-df-convert {\n",
              "      background-color: #E8F0FE;\n",
              "      border: none;\n",
              "      border-radius: 50%;\n",
              "      cursor: pointer;\n",
              "      display: none;\n",
              "      fill: #1967D2;\n",
              "      height: 32px;\n",
              "      padding: 0 0 0 0;\n",
              "      width: 32px;\n",
              "    }\n",
              "\n",
              "    .colab-df-convert:hover {\n",
              "      background-color: #E2EBFA;\n",
              "      box-shadow: 0px 1px 2px rgba(60, 64, 67, 0.3), 0px 1px 3px 1px rgba(60, 64, 67, 0.15);\n",
              "      fill: #174EA6;\n",
              "    }\n",
              "\n",
              "    [theme=dark] .colab-df-convert {\n",
              "      background-color: #3B4455;\n",
              "      fill: #D2E3FC;\n",
              "    }\n",
              "\n",
              "    [theme=dark] .colab-df-convert:hover {\n",
              "      background-color: #434B5C;\n",
              "      box-shadow: 0px 1px 3px 1px rgba(0, 0, 0, 0.15);\n",
              "      filter: drop-shadow(0px 1px 2px rgba(0, 0, 0, 0.3));\n",
              "      fill: #FFFFFF;\n",
              "    }\n",
              "  </style>\n",
              "\n",
              "      <script>\n",
              "        const buttonEl =\n",
              "          document.querySelector('#df-8357e6b0-99a0-4a35-9500-dc1a09cabe4c button.colab-df-convert');\n",
              "        buttonEl.style.display =\n",
              "          google.colab.kernel.accessAllowed ? 'block' : 'none';\n",
              "\n",
              "        async function convertToInteractive(key) {\n",
              "          const element = document.querySelector('#df-8357e6b0-99a0-4a35-9500-dc1a09cabe4c');\n",
              "          const dataTable =\n",
              "            await google.colab.kernel.invokeFunction('convertToInteractive',\n",
              "                                                     [key], {});\n",
              "          if (!dataTable) return;\n",
              "\n",
              "          const docLinkHtml = 'Like what you see? Visit the ' +\n",
              "            '<a target=\"_blank\" href=https://colab.research.google.com/notebooks/data_table.ipynb>data table notebook</a>'\n",
              "            + ' to learn more about interactive tables.';\n",
              "          element.innerHTML = '';\n",
              "          dataTable['output_type'] = 'display_data';\n",
              "          await google.colab.output.renderOutput(dataTable, element);\n",
              "          const docLink = document.createElement('div');\n",
              "          docLink.innerHTML = docLinkHtml;\n",
              "          element.appendChild(docLink);\n",
              "        }\n",
              "      </script>\n",
              "    </div>\n",
              "  </div>\n",
              "  "
            ]
          },
          "metadata": {},
          "execution_count": 76
        }
      ]
    },
    {
      "cell_type": "code",
      "source": [
        "movies_recommendations(movie_title)"
      ],
      "metadata": {
        "colab": {
          "base_uri": "https://localhost:8080/",
          "height": 206
        },
        "id": "flj_hs8jnJS7",
        "outputId": "e37f3da8-0c03-435d-9820-224de3f8eeb0"
      },
      "execution_count": null,
      "outputs": [
        {
          "output_type": "execute_result",
          "data": {
            "text/plain": [
              "                        title   genres\n",
              "0  Yankee Doodle Dandy (1942)    Drama\n",
              "1  Yankee Doodle Dandy (1942)  Musical\n",
              "2       Rainmaker, The (1997)    Drama\n",
              "3        Boogie Nights (1997)    Drama\n",
              "4              Witness (1985)    Drama"
            ],
            "text/html": [
              "\n",
              "  <div id=\"df-2870f1ec-e083-449d-bce0-b3643b00272a\">\n",
              "    <div class=\"colab-df-container\">\n",
              "      <div>\n",
              "<style scoped>\n",
              "    .dataframe tbody tr th:only-of-type {\n",
              "        vertical-align: middle;\n",
              "    }\n",
              "\n",
              "    .dataframe tbody tr th {\n",
              "        vertical-align: top;\n",
              "    }\n",
              "\n",
              "    .dataframe thead th {\n",
              "        text-align: right;\n",
              "    }\n",
              "</style>\n",
              "<table border=\"1\" class=\"dataframe\">\n",
              "  <thead>\n",
              "    <tr style=\"text-align: right;\">\n",
              "      <th></th>\n",
              "      <th>title</th>\n",
              "      <th>genres</th>\n",
              "    </tr>\n",
              "  </thead>\n",
              "  <tbody>\n",
              "    <tr>\n",
              "      <th>0</th>\n",
              "      <td>Yankee Doodle Dandy (1942)</td>\n",
              "      <td>Drama</td>\n",
              "    </tr>\n",
              "    <tr>\n",
              "      <th>1</th>\n",
              "      <td>Yankee Doodle Dandy (1942)</td>\n",
              "      <td>Musical</td>\n",
              "    </tr>\n",
              "    <tr>\n",
              "      <th>2</th>\n",
              "      <td>Rainmaker, The (1997)</td>\n",
              "      <td>Drama</td>\n",
              "    </tr>\n",
              "    <tr>\n",
              "      <th>3</th>\n",
              "      <td>Boogie Nights (1997)</td>\n",
              "      <td>Drama</td>\n",
              "    </tr>\n",
              "    <tr>\n",
              "      <th>4</th>\n",
              "      <td>Witness (1985)</td>\n",
              "      <td>Drama</td>\n",
              "    </tr>\n",
              "  </tbody>\n",
              "</table>\n",
              "</div>\n",
              "      <button class=\"colab-df-convert\" onclick=\"convertToInteractive('df-2870f1ec-e083-449d-bce0-b3643b00272a')\"\n",
              "              title=\"Convert this dataframe to an interactive table.\"\n",
              "              style=\"display:none;\">\n",
              "        \n",
              "  <svg xmlns=\"http://www.w3.org/2000/svg\" height=\"24px\"viewBox=\"0 0 24 24\"\n",
              "       width=\"24px\">\n",
              "    <path d=\"M0 0h24v24H0V0z\" fill=\"none\"/>\n",
              "    <path d=\"M18.56 5.44l.94 2.06.94-2.06 2.06-.94-2.06-.94-.94-2.06-.94 2.06-2.06.94zm-11 1L8.5 8.5l.94-2.06 2.06-.94-2.06-.94L8.5 2.5l-.94 2.06-2.06.94zm10 10l.94 2.06.94-2.06 2.06-.94-2.06-.94-.94-2.06-.94 2.06-2.06.94z\"/><path d=\"M17.41 7.96l-1.37-1.37c-.4-.4-.92-.59-1.43-.59-.52 0-1.04.2-1.43.59L10.3 9.45l-7.72 7.72c-.78.78-.78 2.05 0 2.83L4 21.41c.39.39.9.59 1.41.59.51 0 1.02-.2 1.41-.59l7.78-7.78 2.81-2.81c.8-.78.8-2.07 0-2.86zM5.41 20L4 18.59l7.72-7.72 1.47 1.35L5.41 20z\"/>\n",
              "  </svg>\n",
              "      </button>\n",
              "      \n",
              "  <style>\n",
              "    .colab-df-container {\n",
              "      display:flex;\n",
              "      flex-wrap:wrap;\n",
              "      gap: 12px;\n",
              "    }\n",
              "\n",
              "    .colab-df-convert {\n",
              "      background-color: #E8F0FE;\n",
              "      border: none;\n",
              "      border-radius: 50%;\n",
              "      cursor: pointer;\n",
              "      display: none;\n",
              "      fill: #1967D2;\n",
              "      height: 32px;\n",
              "      padding: 0 0 0 0;\n",
              "      width: 32px;\n",
              "    }\n",
              "\n",
              "    .colab-df-convert:hover {\n",
              "      background-color: #E2EBFA;\n",
              "      box-shadow: 0px 1px 2px rgba(60, 64, 67, 0.3), 0px 1px 3px 1px rgba(60, 64, 67, 0.15);\n",
              "      fill: #174EA6;\n",
              "    }\n",
              "\n",
              "    [theme=dark] .colab-df-convert {\n",
              "      background-color: #3B4455;\n",
              "      fill: #D2E3FC;\n",
              "    }\n",
              "\n",
              "    [theme=dark] .colab-df-convert:hover {\n",
              "      background-color: #434B5C;\n",
              "      box-shadow: 0px 1px 3px 1px rgba(0, 0, 0, 0.15);\n",
              "      filter: drop-shadow(0px 1px 2px rgba(0, 0, 0, 0.3));\n",
              "      fill: #FFFFFF;\n",
              "    }\n",
              "  </style>\n",
              "\n",
              "      <script>\n",
              "        const buttonEl =\n",
              "          document.querySelector('#df-2870f1ec-e083-449d-bce0-b3643b00272a button.colab-df-convert');\n",
              "        buttonEl.style.display =\n",
              "          google.colab.kernel.accessAllowed ? 'block' : 'none';\n",
              "\n",
              "        async function convertToInteractive(key) {\n",
              "          const element = document.querySelector('#df-2870f1ec-e083-449d-bce0-b3643b00272a');\n",
              "          const dataTable =\n",
              "            await google.colab.kernel.invokeFunction('convertToInteractive',\n",
              "                                                     [key], {});\n",
              "          if (!dataTable) return;\n",
              "\n",
              "          const docLinkHtml = 'Like what you see? Visit the ' +\n",
              "            '<a target=\"_blank\" href=https://colab.research.google.com/notebooks/data_table.ipynb>data table notebook</a>'\n",
              "            + ' to learn more about interactive tables.';\n",
              "          element.innerHTML = '';\n",
              "          dataTable['output_type'] = 'display_data';\n",
              "          await google.colab.output.renderOutput(dataTable, element);\n",
              "          const docLink = document.createElement('div');\n",
              "          docLink.innerHTML = docLinkHtml;\n",
              "          element.appendChild(docLink);\n",
              "        }\n",
              "      </script>\n",
              "    </div>\n",
              "  </div>\n",
              "  "
            ]
          },
          "metadata": {},
          "execution_count": 77
        }
      ]
    },
    {
      "cell_type": "markdown",
      "source": [
        "Berdasarkan hasil rekomendasi di atas, dapat dilihat bahwa sistem yang dibuat berhasil memberikan rekomendasi judul film berdasarkan sebuah judul film, yaitu 'Flint (2017)' dan dihasilkan rekomendasi judul film dengan genre film yang sama, yaitu drama."
      ],
      "metadata": {
        "id": "mpqbBWoiLDCE"
      }
    },
    {
      "cell_type": "markdown",
      "source": [
        "## 5.2 Model Development dengan Collaborative Filtering"
      ],
      "metadata": {
        "id": "i0iqKcuKoBHy"
      }
    },
    {
      "cell_type": "markdown",
      "source": [
        "Collaborative Filtering adalah teknik merekomendasikan item yang mirip dengan preferensi pengguna yang sama di masa lalu, misalnya berdasarkan penilaian film yang telah diberikan oleh seorang pengguna. Sistem akan merekomendasikan film berdasarkan riwayat penilaian pengguna tersebut terhadap film dan genrenya."
      ],
      "metadata": {
        "id": "LRPzRSd-Le7j"
      }
    },
    {
      "cell_type": "markdown",
      "source": [
        "### 5.2.1 Data Preparation"
      ],
      "metadata": {
        "id": "E-uODaK20CkO"
      }
    },
    {
      "cell_type": "code",
      "source": [
        "import pandas as pd\n",
        "import numpy as np \n",
        "from zipfile import ZipFile\n",
        "import tensorflow as tf\n",
        "from tensorflow import keras\n",
        "from tensorflow.keras import layers\n",
        "from pathlib import Path\n",
        "import matplotlib.pyplot as plt"
      ],
      "metadata": {
        "id": "NsVnjFKtnwkn"
      },
      "execution_count": null,
      "outputs": []
    },
    {
      "cell_type": "markdown",
      "source": [
        "Proses encoding fitur userId pada dataset ratings menjadi array."
      ],
      "metadata": {
        "id": "kklMDpzQMdzE"
      }
    },
    {
      "cell_type": "code",
      "source": [
        "user_ids = ratings['userId'].unique().tolist()\n",
        "print('list userId: ', user_ids)\n",
        "\n",
        "user_to_user_encoded = {x: i for i, x in enumerate(user_ids)}\n",
        "print('encoded userId : ', user_to_user_encoded)\n",
        "\n",
        "user_encoded_to_user = {i: x for i, x in enumerate(user_ids)}\n",
        "print('encoded angka ke userId: ', user_encoded_to_user)"
      ],
      "metadata": {
        "colab": {
          "base_uri": "https://localhost:8080/"
        },
        "id": "O5pGxQFQoUik",
        "outputId": "80ca1127-5b25-4d69-fce6-0d2e22c62ac9"
      },
      "execution_count": null,
      "outputs": [
        {
          "output_type": "stream",
          "name": "stdout",
          "text": [
            "list userId:  [1, 2, 3, 4, 5, 6, 7, 8, 9, 10, 11, 12, 13, 14, 15, 16, 17, 18, 19, 20, 21, 22, 23, 24, 25, 26, 27, 28, 29, 30, 31, 32]\n",
            "encoded userId :  {1: 0, 2: 1, 3: 2, 4: 3, 5: 4, 6: 5, 7: 6, 8: 7, 9: 8, 10: 9, 11: 10, 12: 11, 13: 12, 14: 13, 15: 14, 16: 15, 17: 16, 18: 17, 19: 18, 20: 19, 21: 20, 22: 21, 23: 22, 24: 23, 25: 24, 26: 25, 27: 26, 28: 27, 29: 28, 30: 29, 31: 30, 32: 31}\n",
            "encoded angka ke userId:  {0: 1, 1: 2, 2: 3, 3: 4, 4: 5, 5: 6, 6: 7, 7: 8, 8: 9, 9: 10, 10: 11, 11: 12, 12: 13, 13: 14, 14: 15, 15: 16, 16: 17, 17: 18, 18: 19, 19: 20, 20: 21, 21: 22, 22: 23, 23: 24, 24: 25, 25: 26, 26: 27, 27: 28, 28: 29, 29: 30, 30: 31, 31: 32}\n"
          ]
        }
      ]
    },
    {
      "cell_type": "markdown",
      "source": [
        "Proses encoding fitur movieId pada dataset ratings menjadi array."
      ],
      "metadata": {
        "id": "6xO6oRI4MtjS"
      }
    },
    {
      "cell_type": "code",
      "source": [
        "movies_ids = ratings['movieId'].unique().tolist()\n",
        "movie_to_movie_encoded = {x: i for i, x in enumerate(movies_ids)}\n",
        "movie_encoded_to_movie = {i: x for i, x in enumerate(movies_ids)}"
      ],
      "metadata": {
        "id": "cnFJ1DJBor-v"
      },
      "execution_count": null,
      "outputs": []
    },
    {
      "cell_type": "markdown",
      "source": [
        "Melakukan mapping atau pemetaan kolom user dan movie ke dataset ratings yang berkaitan."
      ],
      "metadata": {
        "id": "UZpPyX1FMzyr"
      }
    },
    {
      "cell_type": "code",
      "source": [
        "ratings['user'] = ratings['userId'].map(user_to_user_encoded)\n",
        "ratings['movie'] = ratings['movieId'].map(movie_to_movie_encoded)"
      ],
      "metadata": {
        "id": "ZT_Mur5Vp-p2"
      },
      "execution_count": null,
      "outputs": []
    },
    {
      "cell_type": "markdown",
      "source": [
        "Melakukan pengecekan jumlah user, jumlah film, penilaian minimal, dan penilaian maksiaml."
      ],
      "metadata": {
        "id": "fe1OAuWzM7mi"
      }
    },
    {
      "cell_type": "code",
      "source": [
        "num_users = len(user_to_user_encoded)\n",
        "print(num_users)\n",
        "num_movie = len(movie_encoded_to_movie)\n",
        "print(num_movie)\n",
        "\n",
        "ratings['rating'] = ratings['rating'].values.astype(np.float32)\n",
        "\n",
        "min_rating = min(ratings['rating'])\n",
        "max_rating = max(ratings['rating'])\n",
        "\n",
        "print('Number of User: {}, Number of Movie: {}, Min Rating: {}, Max Rating: {}'.format(\n",
        "    num_users, num_movie, min_rating, max_rating\n",
        "))"
      ],
      "metadata": {
        "colab": {
          "base_uri": "https://localhost:8080/"
        },
        "id": "ni1jX_8fqs9g",
        "outputId": "4bb09895-9263-44c8-a802-14596ac3deb5"
      },
      "execution_count": null,
      "outputs": [
        {
          "output_type": "stream",
          "name": "stdout",
          "text": [
            "32\n",
            "2427\n",
            "Number of User: 32, Number of Movie: 2427, Min Rating: 0.5, Max Rating: 5.0\n"
          ]
        }
      ]
    },
    {
      "cell_type": "markdown",
      "source": [
        "### 5.2.2 Split Data Latih dan Data Validasi"
      ],
      "metadata": {
        "id": "izC_w9CW0HRu"
      }
    },
    {
      "cell_type": "markdown",
      "source": [
        "Melakukan proses mengacak dataset ratings dengan fungsi .sample(frac=1)."
      ],
      "metadata": {
        "id": "g197AfMxNCvz"
      }
    },
    {
      "cell_type": "code",
      "source": [
        "ratings = ratings.sample(frac=1, random_state=42)\n",
        "ratings"
      ],
      "metadata": {
        "colab": {
          "base_uri": "https://localhost:8080/",
          "height": 424
        },
        "id": "adYcyRoJr-nV",
        "outputId": "a04b22d9-8de2-4cd3-c6f5-37d7667bdd6b"
      },
      "execution_count": null,
      "outputs": [
        {
          "output_type": "execute_result",
          "data": {
            "text/plain": [
              "      userId  movieId  rating   timestamp  user  movie\n",
              "1501      15     5618     3.0  1510578001    14    762\n",
              "2586      19     1717     3.0   965705195    18   1511\n",
              "2653      19     2040     2.0   965706728    18   1552\n",
              "1055       8      364     5.0   839463546     7    471\n",
              "705        6      329     4.0   845553200     5    599\n",
              "...      ...      ...     ...         ...   ...    ...\n",
              "4426      28     3793     3.5  1234516011    27    228\n",
              "466        4     3160     4.0   964539121     3    414\n",
              "3092      20     3408     3.5  1054037151    19    421\n",
              "3772      22    68358     0.5  1268727244    21   1151\n",
              "860        6      981     3.0   845556567     5    712\n",
              "\n",
              "[5000 rows x 6 columns]"
            ],
            "text/html": [
              "\n",
              "  <div id=\"df-f411cf3b-7092-4882-a64b-373412b37fb0\">\n",
              "    <div class=\"colab-df-container\">\n",
              "      <div>\n",
              "<style scoped>\n",
              "    .dataframe tbody tr th:only-of-type {\n",
              "        vertical-align: middle;\n",
              "    }\n",
              "\n",
              "    .dataframe tbody tr th {\n",
              "        vertical-align: top;\n",
              "    }\n",
              "\n",
              "    .dataframe thead th {\n",
              "        text-align: right;\n",
              "    }\n",
              "</style>\n",
              "<table border=\"1\" class=\"dataframe\">\n",
              "  <thead>\n",
              "    <tr style=\"text-align: right;\">\n",
              "      <th></th>\n",
              "      <th>userId</th>\n",
              "      <th>movieId</th>\n",
              "      <th>rating</th>\n",
              "      <th>timestamp</th>\n",
              "      <th>user</th>\n",
              "      <th>movie</th>\n",
              "    </tr>\n",
              "  </thead>\n",
              "  <tbody>\n",
              "    <tr>\n",
              "      <th>1501</th>\n",
              "      <td>15</td>\n",
              "      <td>5618</td>\n",
              "      <td>3.0</td>\n",
              "      <td>1510578001</td>\n",
              "      <td>14</td>\n",
              "      <td>762</td>\n",
              "    </tr>\n",
              "    <tr>\n",
              "      <th>2586</th>\n",
              "      <td>19</td>\n",
              "      <td>1717</td>\n",
              "      <td>3.0</td>\n",
              "      <td>965705195</td>\n",
              "      <td>18</td>\n",
              "      <td>1511</td>\n",
              "    </tr>\n",
              "    <tr>\n",
              "      <th>2653</th>\n",
              "      <td>19</td>\n",
              "      <td>2040</td>\n",
              "      <td>2.0</td>\n",
              "      <td>965706728</td>\n",
              "      <td>18</td>\n",
              "      <td>1552</td>\n",
              "    </tr>\n",
              "    <tr>\n",
              "      <th>1055</th>\n",
              "      <td>8</td>\n",
              "      <td>364</td>\n",
              "      <td>5.0</td>\n",
              "      <td>839463546</td>\n",
              "      <td>7</td>\n",
              "      <td>471</td>\n",
              "    </tr>\n",
              "    <tr>\n",
              "      <th>705</th>\n",
              "      <td>6</td>\n",
              "      <td>329</td>\n",
              "      <td>4.0</td>\n",
              "      <td>845553200</td>\n",
              "      <td>5</td>\n",
              "      <td>599</td>\n",
              "    </tr>\n",
              "    <tr>\n",
              "      <th>...</th>\n",
              "      <td>...</td>\n",
              "      <td>...</td>\n",
              "      <td>...</td>\n",
              "      <td>...</td>\n",
              "      <td>...</td>\n",
              "      <td>...</td>\n",
              "    </tr>\n",
              "    <tr>\n",
              "      <th>4426</th>\n",
              "      <td>28</td>\n",
              "      <td>3793</td>\n",
              "      <td>3.5</td>\n",
              "      <td>1234516011</td>\n",
              "      <td>27</td>\n",
              "      <td>228</td>\n",
              "    </tr>\n",
              "    <tr>\n",
              "      <th>466</th>\n",
              "      <td>4</td>\n",
              "      <td>3160</td>\n",
              "      <td>4.0</td>\n",
              "      <td>964539121</td>\n",
              "      <td>3</td>\n",
              "      <td>414</td>\n",
              "    </tr>\n",
              "    <tr>\n",
              "      <th>3092</th>\n",
              "      <td>20</td>\n",
              "      <td>3408</td>\n",
              "      <td>3.5</td>\n",
              "      <td>1054037151</td>\n",
              "      <td>19</td>\n",
              "      <td>421</td>\n",
              "    </tr>\n",
              "    <tr>\n",
              "      <th>3772</th>\n",
              "      <td>22</td>\n",
              "      <td>68358</td>\n",
              "      <td>0.5</td>\n",
              "      <td>1268727244</td>\n",
              "      <td>21</td>\n",
              "      <td>1151</td>\n",
              "    </tr>\n",
              "    <tr>\n",
              "      <th>860</th>\n",
              "      <td>6</td>\n",
              "      <td>981</td>\n",
              "      <td>3.0</td>\n",
              "      <td>845556567</td>\n",
              "      <td>5</td>\n",
              "      <td>712</td>\n",
              "    </tr>\n",
              "  </tbody>\n",
              "</table>\n",
              "<p>5000 rows × 6 columns</p>\n",
              "</div>\n",
              "      <button class=\"colab-df-convert\" onclick=\"convertToInteractive('df-f411cf3b-7092-4882-a64b-373412b37fb0')\"\n",
              "              title=\"Convert this dataframe to an interactive table.\"\n",
              "              style=\"display:none;\">\n",
              "        \n",
              "  <svg xmlns=\"http://www.w3.org/2000/svg\" height=\"24px\"viewBox=\"0 0 24 24\"\n",
              "       width=\"24px\">\n",
              "    <path d=\"M0 0h24v24H0V0z\" fill=\"none\"/>\n",
              "    <path d=\"M18.56 5.44l.94 2.06.94-2.06 2.06-.94-2.06-.94-.94-2.06-.94 2.06-2.06.94zm-11 1L8.5 8.5l.94-2.06 2.06-.94-2.06-.94L8.5 2.5l-.94 2.06-2.06.94zm10 10l.94 2.06.94-2.06 2.06-.94-2.06-.94-.94-2.06-.94 2.06-2.06.94z\"/><path d=\"M17.41 7.96l-1.37-1.37c-.4-.4-.92-.59-1.43-.59-.52 0-1.04.2-1.43.59L10.3 9.45l-7.72 7.72c-.78.78-.78 2.05 0 2.83L4 21.41c.39.39.9.59 1.41.59.51 0 1.02-.2 1.41-.59l7.78-7.78 2.81-2.81c.8-.78.8-2.07 0-2.86zM5.41 20L4 18.59l7.72-7.72 1.47 1.35L5.41 20z\"/>\n",
              "  </svg>\n",
              "      </button>\n",
              "      \n",
              "  <style>\n",
              "    .colab-df-container {\n",
              "      display:flex;\n",
              "      flex-wrap:wrap;\n",
              "      gap: 12px;\n",
              "    }\n",
              "\n",
              "    .colab-df-convert {\n",
              "      background-color: #E8F0FE;\n",
              "      border: none;\n",
              "      border-radius: 50%;\n",
              "      cursor: pointer;\n",
              "      display: none;\n",
              "      fill: #1967D2;\n",
              "      height: 32px;\n",
              "      padding: 0 0 0 0;\n",
              "      width: 32px;\n",
              "    }\n",
              "\n",
              "    .colab-df-convert:hover {\n",
              "      background-color: #E2EBFA;\n",
              "      box-shadow: 0px 1px 2px rgba(60, 64, 67, 0.3), 0px 1px 3px 1px rgba(60, 64, 67, 0.15);\n",
              "      fill: #174EA6;\n",
              "    }\n",
              "\n",
              "    [theme=dark] .colab-df-convert {\n",
              "      background-color: #3B4455;\n",
              "      fill: #D2E3FC;\n",
              "    }\n",
              "\n",
              "    [theme=dark] .colab-df-convert:hover {\n",
              "      background-color: #434B5C;\n",
              "      box-shadow: 0px 1px 3px 1px rgba(0, 0, 0, 0.15);\n",
              "      filter: drop-shadow(0px 1px 2px rgba(0, 0, 0, 0.3));\n",
              "      fill: #FFFFFF;\n",
              "    }\n",
              "  </style>\n",
              "\n",
              "      <script>\n",
              "        const buttonEl =\n",
              "          document.querySelector('#df-f411cf3b-7092-4882-a64b-373412b37fb0 button.colab-df-convert');\n",
              "        buttonEl.style.display =\n",
              "          google.colab.kernel.accessAllowed ? 'block' : 'none';\n",
              "\n",
              "        async function convertToInteractive(key) {\n",
              "          const element = document.querySelector('#df-f411cf3b-7092-4882-a64b-373412b37fb0');\n",
              "          const dataTable =\n",
              "            await google.colab.kernel.invokeFunction('convertToInteractive',\n",
              "                                                     [key], {});\n",
              "          if (!dataTable) return;\n",
              "\n",
              "          const docLinkHtml = 'Like what you see? Visit the ' +\n",
              "            '<a target=\"_blank\" href=https://colab.research.google.com/notebooks/data_table.ipynb>data table notebook</a>'\n",
              "            + ' to learn more about interactive tables.';\n",
              "          element.innerHTML = '';\n",
              "          dataTable['output_type'] = 'display_data';\n",
              "          await google.colab.output.renderOutput(dataTable, element);\n",
              "          const docLink = document.createElement('div');\n",
              "          docLink.innerHTML = docLinkHtml;\n",
              "          element.appendChild(docLink);\n",
              "        }\n",
              "      </script>\n",
              "    </div>\n",
              "  </div>\n",
              "  "
            ]
          },
          "metadata": {},
          "execution_count": 37
        }
      ]
    },
    {
      "cell_type": "markdown",
      "source": [
        "Membagi dataset menjadi data latih (train) dan data uji (test), yaitu sebesar 20% data uji dan 80% data latih."
      ],
      "metadata": {
        "id": "AbH08fi0NXmD"
      }
    },
    {
      "cell_type": "code",
      "source": [
        "x = ratings[['user', 'movie']].values\n",
        "y = ratings['rating'].apply(lambda x: (x - min_rating) / (max_rating - min_rating)).values\n",
        "\n",
        "train_indices = int(0.8 * ratings.shape[0])\n",
        "x_train, x_val, y_train, y_val = (\n",
        "    x[:train_indices],\n",
        "    x[train_indices:],\n",
        "    y[:train_indices],\n",
        "    y[train_indices:]\n",
        ")\n",
        "\n",
        "print(x, y)"
      ],
      "metadata": {
        "colab": {
          "base_uri": "https://localhost:8080/"
        },
        "id": "GoLbH80YsHo0",
        "outputId": "6299e30b-5c79-4af4-ec9d-0a35074c4de3"
      },
      "execution_count": null,
      "outputs": [
        {
          "output_type": "stream",
          "name": "stdout",
          "text": [
            "[[  14  762]\n",
            " [  18 1511]\n",
            " [  18 1552]\n",
            " ...\n",
            " [  19  421]\n",
            " [  21 1151]\n",
            " [   5  712]] [0.55555556 0.55555556 0.33333333 ... 0.66666667 0.         0.55555556]\n"
          ]
        }
      ]
    },
    {
      "cell_type": "markdown",
      "source": [
        "### 5.2.3 Model Development"
      ],
      "metadata": {
        "id": "MuR9VFuI0pcm"
      }
    },
    {
      "cell_type": "markdown",
      "source": [
        "Melakukan pendefinisian kelas RecommenderNet untuk membangun model klasifikasi teks tersebut."
      ],
      "metadata": {
        "id": "x07qN-JUNjSL"
      }
    },
    {
      "cell_type": "code",
      "source": [
        "class RecommenderNet(tf.keras.Model):\n",
        "  def __init__(self, num_users, num_movie, embedding_size, **kwargs):\n",
        "    super(RecommenderNet, self).__init__(**kwargs)\n",
        "    self.num_users = num_users\n",
        "    self.num_movie = num_movie\n",
        "    self.embedding_size = embedding_size\n",
        "    self.user_embedding = layers.Embedding(\n",
        "        num_users,\n",
        "        embedding_size,\n",
        "        embeddings_initializer = 'he_normal',\n",
        "        embeddings_regularizer = keras.regularizers.l2(1e-6)\n",
        "    )\n",
        "    self.user_bias = layers.Embedding(num_users, 1)\n",
        "    self.movie_embedding = layers.Embedding(\n",
        "        num_movie,\n",
        "        embedding_size,\n",
        "        embeddings_initializer = 'he_normal',\n",
        "        embeddings_regularizer = keras.regularizers.l2(1e-6)\n",
        "    )\n",
        "    self.movie_bias = layers.Embedding(num_movie, 1)\n",
        "    \n",
        "  def call(self, inputs):\n",
        "    user_vector = self.user_embedding(inputs[:,0])\n",
        "    user_bias = self.user_bias(inputs[:, 0])\n",
        "    movie_vector = self.movie_embedding(inputs[:, 1])\n",
        "    movie_bias = self.movie_bias(inputs[:, 1])\n",
        "    \n",
        "    dot_user_movie = tf.tensordot(user_vector, movie_vector, 2) \n",
        "    \n",
        "    x = dot_user_movie + user_bias + movie_bias\n",
        "    \n",
        "    return tf.nn.sigmoid(x)"
      ],
      "metadata": {
        "id": "HYBTG2ouse4p"
      },
      "execution_count": null,
      "outputs": []
    },
    {
      "cell_type": "markdown",
      "source": [
        "Proses kompilasi atau compile dengan binary crossentropy loss function, adam optimizer, dan metrik RMSE (Root Mean Square Error)."
      ],
      "metadata": {
        "id": "vc7KKeCXNtfz"
      }
    },
    {
      "cell_type": "code",
      "source": [
        "model = RecommenderNet(num_users, num_movie, 50)\n",
        "\n",
        "model.compile(\n",
        "    loss = tf.keras.losses.BinaryCrossentropy(),\n",
        "    optimizer = keras.optimizers.Adam(learning_rate=0.001),\n",
        "    metrics = [tf.keras.metrics.RootMeanSquaredError()]\n",
        ")"
      ],
      "metadata": {
        "id": "7Jn-4K94tfFJ"
      },
      "execution_count": null,
      "outputs": []
    },
    {
      "cell_type": "markdown",
      "source": [
        "Pelatihan model dengan fungsi .fit()."
      ],
      "metadata": {
        "id": "87fLrvK-N5vH"
      }
    },
    {
      "cell_type": "code",
      "source": [
        "history = model.fit(\n",
        "    x = x_train,\n",
        "    y = y_train,\n",
        "    batch_size = 8,\n",
        "    epochs = 100,\n",
        "    validation_data = (x_val, y_val)\n",
        ")"
      ],
      "metadata": {
        "colab": {
          "base_uri": "https://localhost:8080/"
        },
        "id": "t9S_DS-QtpPA",
        "outputId": "4a0eb660-bfc6-4ad1-f1a4-676d7bcd9d74"
      },
      "execution_count": null,
      "outputs": [
        {
          "output_type": "stream",
          "name": "stdout",
          "text": [
            "Epoch 1/100\n",
            "500/500 [==============================] - 7s 9ms/step - loss: 0.6810 - root_mean_squared_error: 0.2678 - val_loss: 0.6695 - val_root_mean_squared_error: 0.2561\n",
            "Epoch 2/100\n",
            "500/500 [==============================] - 5s 9ms/step - loss: 0.6420 - root_mean_squared_error: 0.2297 - val_loss: 0.6736 - val_root_mean_squared_error: 0.2600\n",
            "Epoch 3/100\n",
            "500/500 [==============================] - 4s 9ms/step - loss: 0.6307 - root_mean_squared_error: 0.2182 - val_loss: 0.6618 - val_root_mean_squared_error: 0.2487\n",
            "Epoch 4/100\n",
            "500/500 [==============================] - 5s 10ms/step - loss: 0.6240 - root_mean_squared_error: 0.2116 - val_loss: 0.6655 - val_root_mean_squared_error: 0.2523\n",
            "Epoch 5/100\n",
            "500/500 [==============================] - 6s 11ms/step - loss: 0.6210 - root_mean_squared_error: 0.2081 - val_loss: 0.6565 - val_root_mean_squared_error: 0.2437\n",
            "Epoch 6/100\n",
            "500/500 [==============================] - 6s 12ms/step - loss: 0.6137 - root_mean_squared_error: 0.2006 - val_loss: 0.6566 - val_root_mean_squared_error: 0.2440\n",
            "Epoch 7/100\n",
            "500/500 [==============================] - 5s 9ms/step - loss: 0.6101 - root_mean_squared_error: 0.1964 - val_loss: 0.6518 - val_root_mean_squared_error: 0.2393\n",
            "Epoch 8/100\n",
            "500/500 [==============================] - 4s 8ms/step - loss: 0.6061 - root_mean_squared_error: 0.1922 - val_loss: 0.6518 - val_root_mean_squared_error: 0.2394\n",
            "Epoch 9/100\n",
            "500/500 [==============================] - 3s 6ms/step - loss: 0.6031 - root_mean_squared_error: 0.1888 - val_loss: 0.6493 - val_root_mean_squared_error: 0.2371\n",
            "Epoch 10/100\n",
            "500/500 [==============================] - 3s 6ms/step - loss: 0.6004 - root_mean_squared_error: 0.1856 - val_loss: 0.6475 - val_root_mean_squared_error: 0.2353\n",
            "Epoch 11/100\n",
            "500/500 [==============================] - 3s 6ms/step - loss: 0.5985 - root_mean_squared_error: 0.1834 - val_loss: 0.6464 - val_root_mean_squared_error: 0.2343\n",
            "Epoch 12/100\n",
            "500/500 [==============================] - 3s 6ms/step - loss: 0.5963 - root_mean_squared_error: 0.1807 - val_loss: 0.6449 - val_root_mean_squared_error: 0.2329\n",
            "Epoch 13/100\n",
            "500/500 [==============================] - 4s 8ms/step - loss: 0.5950 - root_mean_squared_error: 0.1793 - val_loss: 0.6442 - val_root_mean_squared_error: 0.2323\n",
            "Epoch 14/100\n",
            "500/500 [==============================] - 3s 6ms/step - loss: 0.5919 - root_mean_squared_error: 0.1753 - val_loss: 0.6454 - val_root_mean_squared_error: 0.2335\n",
            "Epoch 15/100\n",
            "500/500 [==============================] - 3s 5ms/step - loss: 0.5906 - root_mean_squared_error: 0.1742 - val_loss: 0.6439 - val_root_mean_squared_error: 0.2321\n",
            "Epoch 16/100\n",
            "500/500 [==============================] - 3s 6ms/step - loss: 0.5896 - root_mean_squared_error: 0.1730 - val_loss: 0.6438 - val_root_mean_squared_error: 0.2320\n",
            "Epoch 17/100\n",
            "500/500 [==============================] - 3s 5ms/step - loss: 0.5877 - root_mean_squared_error: 0.1704 - val_loss: 0.6433 - val_root_mean_squared_error: 0.2315\n",
            "Epoch 18/100\n",
            "500/500 [==============================] - 3s 6ms/step - loss: 0.5866 - root_mean_squared_error: 0.1690 - val_loss: 0.6429 - val_root_mean_squared_error: 0.2313\n",
            "Epoch 19/100\n",
            "500/500 [==============================] - 3s 6ms/step - loss: 0.5856 - root_mean_squared_error: 0.1679 - val_loss: 0.6435 - val_root_mean_squared_error: 0.2319\n",
            "Epoch 20/100\n",
            "500/500 [==============================] - 3s 6ms/step - loss: 0.5826 - root_mean_squared_error: 0.1637 - val_loss: 0.6428 - val_root_mean_squared_error: 0.2312\n",
            "Epoch 21/100\n",
            "500/500 [==============================] - 3s 6ms/step - loss: 0.5808 - root_mean_squared_error: 0.1613 - val_loss: 0.6437 - val_root_mean_squared_error: 0.2321\n",
            "Epoch 22/100\n",
            "500/500 [==============================] - 3s 5ms/step - loss: 0.5815 - root_mean_squared_error: 0.1624 - val_loss: 0.6419 - val_root_mean_squared_error: 0.2303\n",
            "Epoch 23/100\n",
            "500/500 [==============================] - 3s 6ms/step - loss: 0.5799 - root_mean_squared_error: 0.1604 - val_loss: 0.6431 - val_root_mean_squared_error: 0.2316\n",
            "Epoch 24/100\n",
            "500/500 [==============================] - 3s 6ms/step - loss: 0.5797 - root_mean_squared_error: 0.1600 - val_loss: 0.6419 - val_root_mean_squared_error: 0.2303\n",
            "Epoch 25/100\n",
            "500/500 [==============================] - 3s 6ms/step - loss: 0.5774 - root_mean_squared_error: 0.1568 - val_loss: 0.6432 - val_root_mean_squared_error: 0.2315\n",
            "Epoch 26/100\n",
            "500/500 [==============================] - 3s 6ms/step - loss: 0.5768 - root_mean_squared_error: 0.1558 - val_loss: 0.6434 - val_root_mean_squared_error: 0.2318\n",
            "Epoch 27/100\n",
            "500/500 [==============================] - 3s 5ms/step - loss: 0.5766 - root_mean_squared_error: 0.1558 - val_loss: 0.6434 - val_root_mean_squared_error: 0.2318\n",
            "Epoch 28/100\n",
            "500/500 [==============================] - 3s 5ms/step - loss: 0.5756 - root_mean_squared_error: 0.1543 - val_loss: 0.6436 - val_root_mean_squared_error: 0.2320\n",
            "Epoch 29/100\n",
            "500/500 [==============================] - 3s 6ms/step - loss: 0.5752 - root_mean_squared_error: 0.1540 - val_loss: 0.6438 - val_root_mean_squared_error: 0.2322\n",
            "Epoch 30/100\n",
            "500/500 [==============================] - 3s 6ms/step - loss: 0.5736 - root_mean_squared_error: 0.1519 - val_loss: 0.6436 - val_root_mean_squared_error: 0.2320\n",
            "Epoch 31/100\n",
            "500/500 [==============================] - 3s 6ms/step - loss: 0.5732 - root_mean_squared_error: 0.1513 - val_loss: 0.6436 - val_root_mean_squared_error: 0.2319\n",
            "Epoch 32/100\n",
            "500/500 [==============================] - 3s 7ms/step - loss: 0.5727 - root_mean_squared_error: 0.1504 - val_loss: 0.6448 - val_root_mean_squared_error: 0.2330\n",
            "Epoch 33/100\n",
            "500/500 [==============================] - 3s 6ms/step - loss: 0.5722 - root_mean_squared_error: 0.1497 - val_loss: 0.6443 - val_root_mean_squared_error: 0.2325\n",
            "Epoch 34/100\n",
            "500/500 [==============================] - 3s 5ms/step - loss: 0.5709 - root_mean_squared_error: 0.1479 - val_loss: 0.6447 - val_root_mean_squared_error: 0.2330\n",
            "Epoch 35/100\n",
            "500/500 [==============================] - 3s 6ms/step - loss: 0.5706 - root_mean_squared_error: 0.1477 - val_loss: 0.6450 - val_root_mean_squared_error: 0.2332\n",
            "Epoch 36/100\n",
            "500/500 [==============================] - 3s 5ms/step - loss: 0.5699 - root_mean_squared_error: 0.1466 - val_loss: 0.6449 - val_root_mean_squared_error: 0.2330\n",
            "Epoch 37/100\n",
            "500/500 [==============================] - 3s 5ms/step - loss: 0.5696 - root_mean_squared_error: 0.1464 - val_loss: 0.6460 - val_root_mean_squared_error: 0.2341\n",
            "Epoch 38/100\n",
            "500/500 [==============================] - 3s 5ms/step - loss: 0.5688 - root_mean_squared_error: 0.1449 - val_loss: 0.6463 - val_root_mean_squared_error: 0.2344\n",
            "Epoch 39/100\n",
            "500/500 [==============================] - 3s 5ms/step - loss: 0.5684 - root_mean_squared_error: 0.1447 - val_loss: 0.6465 - val_root_mean_squared_error: 0.2346\n",
            "Epoch 40/100\n",
            "500/500 [==============================] - 3s 6ms/step - loss: 0.5676 - root_mean_squared_error: 0.1436 - val_loss: 0.6457 - val_root_mean_squared_error: 0.2338\n",
            "Epoch 41/100\n",
            "500/500 [==============================] - 3s 5ms/step - loss: 0.5674 - root_mean_squared_error: 0.1432 - val_loss: 0.6473 - val_root_mean_squared_error: 0.2352\n",
            "Epoch 42/100\n",
            "500/500 [==============================] - 4s 7ms/step - loss: 0.5670 - root_mean_squared_error: 0.1427 - val_loss: 0.6471 - val_root_mean_squared_error: 0.2350\n",
            "Epoch 43/100\n",
            "500/500 [==============================] - 3s 5ms/step - loss: 0.5669 - root_mean_squared_error: 0.1426 - val_loss: 0.6477 - val_root_mean_squared_error: 0.2356\n",
            "Epoch 44/100\n",
            "500/500 [==============================] - 3s 6ms/step - loss: 0.5658 - root_mean_squared_error: 0.1410 - val_loss: 0.6479 - val_root_mean_squared_error: 0.2357\n",
            "Epoch 45/100\n",
            "500/500 [==============================] - 3s 6ms/step - loss: 0.5659 - root_mean_squared_error: 0.1411 - val_loss: 0.6479 - val_root_mean_squared_error: 0.2356\n",
            "Epoch 46/100\n",
            "500/500 [==============================] - 3s 6ms/step - loss: 0.5656 - root_mean_squared_error: 0.1407 - val_loss: 0.6474 - val_root_mean_squared_error: 0.2352\n",
            "Epoch 47/100\n",
            "500/500 [==============================] - 2s 4ms/step - loss: 0.5645 - root_mean_squared_error: 0.1393 - val_loss: 0.6482 - val_root_mean_squared_error: 0.2358\n",
            "Epoch 48/100\n",
            "500/500 [==============================] - 2s 5ms/step - loss: 0.5645 - root_mean_squared_error: 0.1391 - val_loss: 0.6483 - val_root_mean_squared_error: 0.2359\n",
            "Epoch 49/100\n",
            "500/500 [==============================] - 2s 5ms/step - loss: 0.5636 - root_mean_squared_error: 0.1379 - val_loss: 0.6495 - val_root_mean_squared_error: 0.2371\n",
            "Epoch 50/100\n",
            "500/500 [==============================] - 3s 5ms/step - loss: 0.5637 - root_mean_squared_error: 0.1380 - val_loss: 0.6489 - val_root_mean_squared_error: 0.2364\n",
            "Epoch 51/100\n",
            "500/500 [==============================] - 3s 5ms/step - loss: 0.5626 - root_mean_squared_error: 0.1365 - val_loss: 0.6495 - val_root_mean_squared_error: 0.2371\n",
            "Epoch 52/100\n",
            "500/500 [==============================] - 3s 6ms/step - loss: 0.5632 - root_mean_squared_error: 0.1377 - val_loss: 0.6502 - val_root_mean_squared_error: 0.2377\n",
            "Epoch 53/100\n",
            "500/500 [==============================] - 3s 5ms/step - loss: 0.5627 - root_mean_squared_error: 0.1368 - val_loss: 0.6506 - val_root_mean_squared_error: 0.2380\n",
            "Epoch 54/100\n",
            "500/500 [==============================] - 3s 6ms/step - loss: 0.5624 - root_mean_squared_error: 0.1361 - val_loss: 0.6505 - val_root_mean_squared_error: 0.2378\n",
            "Epoch 55/100\n",
            "500/500 [==============================] - 3s 5ms/step - loss: 0.5618 - root_mean_squared_error: 0.1353 - val_loss: 0.6515 - val_root_mean_squared_error: 0.2388\n",
            "Epoch 56/100\n",
            "500/500 [==============================] - 3s 5ms/step - loss: 0.5614 - root_mean_squared_error: 0.1350 - val_loss: 0.6511 - val_root_mean_squared_error: 0.2382\n",
            "Epoch 57/100\n",
            "500/500 [==============================] - 3s 5ms/step - loss: 0.5611 - root_mean_squared_error: 0.1344 - val_loss: 0.6518 - val_root_mean_squared_error: 0.2388\n",
            "Epoch 58/100\n",
            "500/500 [==============================] - 3s 6ms/step - loss: 0.5614 - root_mean_squared_error: 0.1349 - val_loss: 0.6514 - val_root_mean_squared_error: 0.2383\n",
            "Epoch 59/100\n",
            "500/500 [==============================] - 3s 5ms/step - loss: 0.5606 - root_mean_squared_error: 0.1337 - val_loss: 0.6524 - val_root_mean_squared_error: 0.2392\n",
            "Epoch 60/100\n",
            "500/500 [==============================] - 3s 6ms/step - loss: 0.5601 - root_mean_squared_error: 0.1333 - val_loss: 0.6525 - val_root_mean_squared_error: 0.2393\n",
            "Epoch 61/100\n",
            "500/500 [==============================] - 3s 5ms/step - loss: 0.5607 - root_mean_squared_error: 0.1341 - val_loss: 0.6529 - val_root_mean_squared_error: 0.2396\n",
            "Epoch 62/100\n",
            "500/500 [==============================] - 3s 5ms/step - loss: 0.5593 - root_mean_squared_error: 0.1320 - val_loss: 0.6531 - val_root_mean_squared_error: 0.2396\n",
            "Epoch 63/100\n",
            "500/500 [==============================] - 3s 5ms/step - loss: 0.5595 - root_mean_squared_error: 0.1325 - val_loss: 0.6537 - val_root_mean_squared_error: 0.2403\n",
            "Epoch 64/100\n",
            "500/500 [==============================] - 3s 6ms/step - loss: 0.5593 - root_mean_squared_error: 0.1319 - val_loss: 0.6527 - val_root_mean_squared_error: 0.2391\n",
            "Epoch 65/100\n",
            "500/500 [==============================] - 3s 5ms/step - loss: 0.5598 - root_mean_squared_error: 0.1330 - val_loss: 0.6539 - val_root_mean_squared_error: 0.2401\n",
            "Epoch 66/100\n",
            "500/500 [==============================] - 3s 6ms/step - loss: 0.5592 - root_mean_squared_error: 0.1316 - val_loss: 0.6541 - val_root_mean_squared_error: 0.2403\n",
            "Epoch 67/100\n",
            "500/500 [==============================] - 3s 6ms/step - loss: 0.5594 - root_mean_squared_error: 0.1325 - val_loss: 0.6550 - val_root_mean_squared_error: 0.2410\n",
            "Epoch 68/100\n",
            "500/500 [==============================] - 3s 5ms/step - loss: 0.5582 - root_mean_squared_error: 0.1303 - val_loss: 0.6545 - val_root_mean_squared_error: 0.2405\n",
            "Epoch 69/100\n",
            "500/500 [==============================] - 3s 5ms/step - loss: 0.5587 - root_mean_squared_error: 0.1313 - val_loss: 0.6543 - val_root_mean_squared_error: 0.2402\n",
            "Epoch 70/100\n",
            "500/500 [==============================] - 3s 5ms/step - loss: 0.5579 - root_mean_squared_error: 0.1303 - val_loss: 0.6547 - val_root_mean_squared_error: 0.2404\n",
            "Epoch 71/100\n",
            "500/500 [==============================] - 3s 5ms/step - loss: 0.5582 - root_mean_squared_error: 0.1310 - val_loss: 0.6552 - val_root_mean_squared_error: 0.2409\n",
            "Epoch 72/100\n",
            "500/500 [==============================] - 3s 6ms/step - loss: 0.5578 - root_mean_squared_error: 0.1301 - val_loss: 0.6558 - val_root_mean_squared_error: 0.2415\n",
            "Epoch 73/100\n",
            "500/500 [==============================] - 3s 5ms/step - loss: 0.5579 - root_mean_squared_error: 0.1304 - val_loss: 0.6556 - val_root_mean_squared_error: 0.2411\n",
            "Epoch 74/100\n",
            "500/500 [==============================] - 3s 5ms/step - loss: 0.5574 - root_mean_squared_error: 0.1297 - val_loss: 0.6556 - val_root_mean_squared_error: 0.2411\n",
            "Epoch 75/100\n",
            "500/500 [==============================] - 3s 5ms/step - loss: 0.5574 - root_mean_squared_error: 0.1296 - val_loss: 0.6568 - val_root_mean_squared_error: 0.2422\n",
            "Epoch 76/100\n",
            "500/500 [==============================] - 3s 5ms/step - loss: 0.5566 - root_mean_squared_error: 0.1286 - val_loss: 0.6569 - val_root_mean_squared_error: 0.2422\n",
            "Epoch 77/100\n",
            "500/500 [==============================] - 3s 5ms/step - loss: 0.5572 - root_mean_squared_error: 0.1294 - val_loss: 0.6570 - val_root_mean_squared_error: 0.2422\n",
            "Epoch 78/100\n",
            "500/500 [==============================] - 3s 5ms/step - loss: 0.5563 - root_mean_squared_error: 0.1284 - val_loss: 0.6578 - val_root_mean_squared_error: 0.2428\n",
            "Epoch 79/100\n",
            "500/500 [==============================] - 3s 7ms/step - loss: 0.5570 - root_mean_squared_error: 0.1294 - val_loss: 0.6574 - val_root_mean_squared_error: 0.2423\n",
            "Epoch 80/100\n",
            "500/500 [==============================] - 3s 5ms/step - loss: 0.5564 - root_mean_squared_error: 0.1284 - val_loss: 0.6581 - val_root_mean_squared_error: 0.2429\n",
            "Epoch 81/100\n",
            "500/500 [==============================] - 3s 5ms/step - loss: 0.5562 - root_mean_squared_error: 0.1280 - val_loss: 0.6583 - val_root_mean_squared_error: 0.2431\n",
            "Epoch 82/100\n",
            "500/500 [==============================] - 3s 5ms/step - loss: 0.5559 - root_mean_squared_error: 0.1275 - val_loss: 0.6586 - val_root_mean_squared_error: 0.2434\n",
            "Epoch 83/100\n",
            "500/500 [==============================] - 3s 5ms/step - loss: 0.5559 - root_mean_squared_error: 0.1280 - val_loss: 0.6587 - val_root_mean_squared_error: 0.2432\n",
            "Epoch 84/100\n",
            "500/500 [==============================] - 3s 5ms/step - loss: 0.5556 - root_mean_squared_error: 0.1272 - val_loss: 0.6589 - val_root_mean_squared_error: 0.2435\n",
            "Epoch 85/100\n",
            "500/500 [==============================] - 3s 5ms/step - loss: 0.5553 - root_mean_squared_error: 0.1269 - val_loss: 0.6584 - val_root_mean_squared_error: 0.2430\n",
            "Epoch 86/100\n",
            "500/500 [==============================] - 3s 6ms/step - loss: 0.5559 - root_mean_squared_error: 0.1280 - val_loss: 0.6588 - val_root_mean_squared_error: 0.2432\n",
            "Epoch 87/100\n",
            "500/500 [==============================] - 3s 5ms/step - loss: 0.5559 - root_mean_squared_error: 0.1280 - val_loss: 0.6584 - val_root_mean_squared_error: 0.2426\n",
            "Epoch 88/100\n",
            "500/500 [==============================] - 3s 6ms/step - loss: 0.5554 - root_mean_squared_error: 0.1271 - val_loss: 0.6592 - val_root_mean_squared_error: 0.2433\n",
            "Epoch 89/100\n",
            "500/500 [==============================] - 3s 6ms/step - loss: 0.5556 - root_mean_squared_error: 0.1277 - val_loss: 0.6596 - val_root_mean_squared_error: 0.2437\n",
            "Epoch 90/100\n",
            "500/500 [==============================] - 3s 6ms/step - loss: 0.5544 - root_mean_squared_error: 0.1261 - val_loss: 0.6593 - val_root_mean_squared_error: 0.2434\n",
            "Epoch 91/100\n",
            "500/500 [==============================] - 3s 6ms/step - loss: 0.5556 - root_mean_squared_error: 0.1275 - val_loss: 0.6598 - val_root_mean_squared_error: 0.2437\n",
            "Epoch 92/100\n",
            "500/500 [==============================] - 3s 6ms/step - loss: 0.5544 - root_mean_squared_error: 0.1256 - val_loss: 0.6607 - val_root_mean_squared_error: 0.2444\n",
            "Epoch 93/100\n",
            "500/500 [==============================] - 2s 5ms/step - loss: 0.5549 - root_mean_squared_error: 0.1268 - val_loss: 0.6610 - val_root_mean_squared_error: 0.2446\n",
            "Epoch 94/100\n",
            "500/500 [==============================] - 2s 5ms/step - loss: 0.5544 - root_mean_squared_error: 0.1263 - val_loss: 0.6609 - val_root_mean_squared_error: 0.2444\n",
            "Epoch 95/100\n",
            "500/500 [==============================] - 3s 5ms/step - loss: 0.5546 - root_mean_squared_error: 0.1263 - val_loss: 0.6611 - val_root_mean_squared_error: 0.2444\n",
            "Epoch 96/100\n",
            "500/500 [==============================] - 3s 5ms/step - loss: 0.5543 - root_mean_squared_error: 0.1258 - val_loss: 0.6617 - val_root_mean_squared_error: 0.2450\n",
            "Epoch 97/100\n",
            "500/500 [==============================] - 3s 6ms/step - loss: 0.5547 - root_mean_squared_error: 0.1266 - val_loss: 0.6615 - val_root_mean_squared_error: 0.2445\n",
            "Epoch 98/100\n",
            "500/500 [==============================] - 3s 6ms/step - loss: 0.5551 - root_mean_squared_error: 0.1272 - val_loss: 0.6616 - val_root_mean_squared_error: 0.2445\n",
            "Epoch 99/100\n",
            "500/500 [==============================] - 3s 6ms/step - loss: 0.5542 - root_mean_squared_error: 0.1260 - val_loss: 0.6620 - val_root_mean_squared_error: 0.2448\n",
            "Epoch 100/100\n",
            "500/500 [==============================] - 3s 5ms/step - loss: 0.5536 - root_mean_squared_error: 0.1249 - val_loss: 0.6619 - val_root_mean_squared_error: 0.2445\n"
          ]
        }
      ]
    },
    {
      "cell_type": "markdown",
      "source": [
        "Visualisasi grafik data training dan testing untuk masing-masing metrik Root Mean Square Error dan loss function."
      ],
      "metadata": {
        "id": "KB7rSyBwN_Z0"
      }
    },
    {
      "cell_type": "code",
      "source": [
        "plt.plot(history.history['root_mean_squared_error'])\n",
        "plt.plot(history.history['val_root_mean_squared_error'])\n",
        "plt.title('model error')\n",
        "plt.ylabel('root_mean_squared_error')\n",
        "plt.xlabel('epoch')\n",
        "plt.legend(['train', 'test'], loc='upper left')\n",
        "plt.show()"
      ],
      "metadata": {
        "id": "CZcVzXNHtv_L",
        "colab": {
          "base_uri": "https://localhost:8080/",
          "height": 295
        },
        "outputId": "368ac890-d3fb-45fc-d2ce-df946d607fd8"
      },
      "execution_count": null,
      "outputs": [
        {
          "output_type": "display_data",
          "data": {
            "text/plain": [
              "<Figure size 432x288 with 1 Axes>"
            ],
            "image/png": "[encoded data removed]"
          },
          "metadata": {
            "needs_background": "light"
          }
        }
      ]
    },
    {
      "cell_type": "code",
      "source": [
        "plt.plot(history.history['loss'])\n",
        "plt.plot(history.history['val_loss'])\n",
        "plt.title('model loss')\n",
        "plt.ylabel('loss')\n",
        "plt.xlabel('epoch')\n",
        "plt.legend(['train', 'test'], loc='upper left')\n",
        "plt.show()"
      ],
      "metadata": {
        "colab": {
          "base_uri": "https://localhost:8080/",
          "height": 295
        },
        "id": "Ya6DwZeD03df",
        "outputId": "a8a024c9-bb8d-4076-b7da-9d2e12fc2bca"
      },
      "execution_count": null,
      "outputs": [
        {
          "output_type": "display_data",
          "data": {
            "text/plain": [
              "<Figure size 432x288 with 1 Axes>"
            ],
            "image/png": "[encoded data removed]"
          },
          "metadata": {
            "needs_background": "light"
          }
        }
      ]
    },
    {
      "cell_type": "markdown",
      "source": [
        "### 5.2.4 Tes Rekomendasi"
      ],
      "metadata": {
        "id": "bDoJ8kw62whi"
      }
    },
    {
      "cell_type": "markdown",
      "source": [
        "Melakukan uji coba atau tes rekomendasi film yang diberikan. Namun perlu dikertahui terlebih dahulu untuk variabel khusus orang yang belum pernah menonton film tertentu menggunakan movie_not_watched."
      ],
      "metadata": {
        "id": "M9R0H8BFOTdB"
      }
    },
    {
      "cell_type": "code",
      "source": [
        "movie_df = movies\n",
        "ratings_df = ratings"
      ],
      "metadata": {
        "id": "zx3G_0Xk5Xoz"
      },
      "execution_count": null,
      "outputs": []
    },
    {
      "cell_type": "code",
      "source": [
        "user_id = ratings_df.userId.sample(1).iloc[0]\n",
        "movie_watched = ratings_df[ratings_df.userId == user_id]\n",
        "\n",
        "movie_not_watched = movie_df[~movie_df['movieId'].isin(movie_watched.movieId.values)]['movieId'] \n",
        "movie_not_watched = list(\n",
        "    set(movie_not_watched).intersection(set(movie_to_movie_encoded.keys()))\n",
        ")\n",
        "\n",
        "movie_not_watched = [[movie_to_movie_encoded.get(x)] for x in movie_not_watched]\n",
        "user_encoder = user_to_user_encoded.get(user_id)\n",
        "user_movie_array = np.hstack(\n",
        "    ([[user_encoder]] * len(movie_not_watched), movie_not_watched)\n",
        ")"
      ],
      "metadata": {
        "id": "xbtIEzjSt220"
      },
      "execution_count": null,
      "outputs": []
    },
    {
      "cell_type": "markdown",
      "source": [
        "Melakukan pengujian prediksi hasil rekomendasi film berdasarkan judul film dan genre."
      ],
      "metadata": {
        "id": "GY1z-vedO0sa"
      }
    },
    {
      "cell_type": "code",
      "source": [
        "ratings = model.predict(user_movie_array).flatten()\n",
        "\n",
        "top_ratings_indices = ratings.argsort()[-10:][::-1]\n",
        "recommended_movie_ids = [\n",
        "    movie_encoded_to_movie.get(movie_not_watched[x][0]) for x in top_ratings_indices\n",
        "]\n",
        "\n",
        "print('Showing recommendations for users: {}'.format(user_id))\n",
        "print('=====' * 8)\n",
        "print('Movie with high ratings from user')\n",
        "print('-----' * 8)\n",
        "\n",
        "top_movie_user = (\n",
        "    movie_watched.sort_values(\n",
        "        by = 'rating',\n",
        "        ascending=False\n",
        "    )\n",
        "    .head(5)\n",
        "    .movieId.values\n",
        ")\n",
        "\n",
        "movie_df_rows = movie_df[movie_df['movieId'].isin(top_movie_user)]\n",
        "for row in movie_df_rows.itertuples():\n",
        "    print(row.title, ':', row.genres)\n",
        "\n",
        "print('-----' * 8)\n",
        "print('Top 10 movie recommendation')\n",
        "print('-----' * 8)\n",
        "\n",
        "recommended_movie = movie_df[movie_df['movieId'].isin(recommended_movie_ids)]\n",
        "for row in recommended_movie.itertuples():\n",
        "    print(row.title, ':', row.genres)"
      ],
      "metadata": {
        "id": "9ODaRLlswKHQ",
        "colab": {
          "base_uri": "https://localhost:8080/"
        },
        "outputId": "7fb30e52-679b-4133-d626-206223c8d727"
      },
      "execution_count": null,
      "outputs": [
        {
          "output_type": "stream",
          "name": "stdout",
          "text": [
            "73/73 [==============================] - 0s 2ms/step\n",
            "Showing recommendations for users: 22\n",
            "========================================\n",
            "Movie with high ratings from user\n",
            "----------------------------------------\n",
            "Shawshank Redemption, The (1994) : Crime|Drama\n",
            "Forrest Gump (1994) : Comedy|Drama|Romance|War\n",
            "Blade Runner (1982) : Action|Sci-Fi|Thriller\n",
            "One Flew Over the Cuckoo's Nest (1975) : Drama\n",
            "Midnight Cowboy (1969) : Drama\n",
            "----------------------------------------\n",
            "Top 10 movie recommendation\n",
            "----------------------------------------\n",
            "Sound of Music, The (1965) : Musical|Romance\n",
            "E.T. the Extra-Terrestrial (1982) : Children|Drama|Sci-Fi\n",
            "Young Frankenstein (1974) : Comedy|Fantasy\n",
            "Fantasia (1940) : Animation|Children|Fantasy|Musical\n",
            "Last of the Mohicans, The (1992) : Action|Romance|War|Western\n",
            "Muppet Christmas Carol, The (1992) : Children|Comedy|Musical\n",
            "Lord of the Rings, The (1978) : Adventure|Animation|Children|Fantasy\n",
            "Who Framed Roger Rabbit? (1988) : Adventure|Animation|Children|Comedy|Crime|Fantasy|Mystery\n",
            "Notebook, The (2004) : Drama|Romance\n",
            "Blood Diamond (2006) : Action|Adventure|Crime|Drama|Thriller|War\n"
          ]
        }
      ]
    },
    {
      "cell_type": "markdown",
      "source": [
        "Berdasarkan hasil rekomendasi film di atas, dapat dilihat bahwa sistem rekomendasi mengambil pengguna acak (19), lalu dilakukan pencarian film dengan rating terbaik dari user tersebut.\n",
        "\n",
        "- Rear Window (1954) : **Mystery**|**Thriller**\n",
        "- Heathers (1989) : **Comedy**\n",
        "- Indiana Jones and the Last Crusade (1989) : **Action**|**Adventure**\n",
        "- Ferris Bueller's Day Off (1986) : **Comedy**\n",
        "- Who Framed Roger Rabbit? (1988) : **Adventure**|**Animation**|**Children**|**Comedy**|**Crime**|**Fantasy**|**Mystery**\n",
        "\n",
        "Selanjutnya, sistem akan menampilkan 10 daftar film yang direkomendasikan berdasarkan genre yang dimiliki terhadap data pengguna acak tadi. Dapat dilihat bahwa sistem merekomendasikan beberapa film dengan genre yang sama, seperti\n",
        "\n",
        "- Smoke (1995) : **Comedy**|**Drama**\n",
        "- Fantasia (1940) : **Animation**|**Children**|**Fantasy**|**Musical**\n",
        "- Amistad (1997) : **Drama**|**Mystery**\n",
        "- Producers, The (1968) : **Comedy**\n",
        "- The Lair of the White Worm (1988) : **Comedy**|**Horror**"
      ],
      "metadata": {
        "id": "rFtVyT1wPMhL"
      }
    },
    {
      "cell_type": "markdown",
      "source": [
        "# **6. Kesimpulan**"
      ],
      "metadata": {
        "id": "TRNP6pEMRTuk"
      }
    },
    {
      "cell_type": "markdown",
      "source": [
        "Dengan begitu, dapat disimpulkan bahwa sistem berhasil melakukan rekomendasi baik dengan pendekatan content-based filtering maupun collaborative filtering. Collaborative filtering membutuhkan data penilaian film dari pengguna, sedangkan pada content-based filtering, data rating tidak dibutuhkan karena sistem akan merekomendasikan berdasarkan konten film tersebut, yaitu genre."
      ],
      "metadata": {
        "id": "PFNi9SqBRP1V"
      }
    }
  ]
}